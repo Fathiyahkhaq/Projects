{
 "cells": [
  {
   "cell_type": "markdown",
   "metadata": {},
   "source": [
    "# Milestone 2 - Phase 1\n",
    "Fathiyah Kalamal Haq\n",
    "\n",
    "# **Prediksi Harga Mobil**\n",
    "\n",
    "Dataset yang digunakan diambil dari platform [kaggle.](https://www.kaggle.com/datasets/hellbuoy/car-price-prediction) Dataset ini berisi harga-harga mobil dengan spesifikasi mobil yang mungkin menjadi faktor berpengaruh bagi penentuan harga mobil. Berikut uraian kolom yang ada pada dataset Harga mobil.\n",
    "\n",
    "| Input Parameter   | Description                                                                                                                          |\n",
    "| ----------------- | ------------------------------------------------------------------------------------------------------------------------------------ |\n",
    "| Car_ID\t\t\t| Unique id of each observation (Interger)\t                                                                                           |\n",
    "|Symboling \t\t\t|Its assigned insurance risk rating, A value of +3 indicates that the auto is risky, -3 that it is probably pretty safe.(Categorical)  |\n",
    "|carCompany\t\t\t|Name of car company (Categorical)\t\t                                                                                               |\n",
    "|fueltype\t\t\t|Car fuel type i.e gas or diesel (Categorical)\t\t                                                                                   |\n",
    "|aspiration\t\t\t|Aspiration used in a car (Categorical)\t\t                                                                                           |\n",
    "|doornumber\t\t\t|Number of doors in a car (Categorical)\t\t                                                                                           |\n",
    "|carbody\t\t\t|body of car (Categorical)\t                                                                                                           |\n",
    "|drivewheel\t\t\t|type of drive wheel (Categorical)\t\t                                                                                               |\n",
    "|enginelocation\t\t|Location of car engine (Categorical)\t\t                                                                                           |\n",
    "|wheelbase\t\t\t|Weelbase of car (Numeric)\t\t                                                                                                       |\n",
    "|carlength\t\t\t|Length of car (Numeric)\t\t                                                                                                       |\n",
    "|carwidth\t\t\t|Width of car (Numeric)\t\t|\n",
    "|carheight\t\t\t|height of car (Numeric)\t|\t\n",
    "|curbweight\t\t\t|The weight of a car without occupants or baggage. (Numeric)\t\t|\n",
    "|enginetype\t\t\t|Type of engine. (Categorical)\t\t|\n",
    "|cylindernumber\t\t|cylinder placed in the car (Categorical)\t\t|\n",
    "|enginesize\t\t\t|Size of car (Numeric)\t\t|\n",
    "|fuelsystem\t\t\t|Fuel system of car (Categorical)\t|\t\n",
    "|boreratio\t\t\t|Boreratio of car (Numeric)\t\t|\n",
    "|stroke\t\t\t    |Stroke or volume inside the engine (Numeric)|\t\t\n",
    "|compressionratio\t|compression ratio of car (Numeric)\t\t|\n",
    "|horsepower\t\t\t|Horsepower (Numeric)\t\t|\n",
    "|peakrpm\t\t\t|car peak rpm (Numeric)\t\t|\n",
    "|citympg\t\t\t|Mileage in city (Numeric)\t|\t\n",
    "|highwaympg\t\t\t|Mileage on highway (Numeric)\t\t|\n",
    "|price(Dependent variable)\t\t\t|Price of car (Numeric)   |\t\n",
    "\n",
    "Dari dataset ini akan diprediksi harga mobil dengan model regresi yang terbaik. Model regresi yang akan digunakan untuk memprediksi harga mobil antara lain regresi linear, regresi polinomial, regresi ridge, regresi lasso, random forest regressor dan decision tree regressor.\n",
    "\n",
    "\n"
   ]
  },
  {
   "cell_type": "markdown",
   "metadata": {},
   "source": [
    "# Import Libraries"
   ]
  },
  {
   "cell_type": "code",
   "execution_count": 1,
   "metadata": {},
   "outputs": [],
   "source": [
    "import pandas as pd\n",
    "import numpy as np\n",
    "import matplotlib.pyplot as plt\n",
    "import seaborn as sns\n",
    "\n",
    "from sklearn.model_selection import train_test_split, GridSearchCV\n",
    "from sklearn.preprocessing import StandardScaler,OneHotEncoder, PolynomialFeatures\n",
    "\n",
    "from sklearn.compose import ColumnTransformer\n",
    "from sklearn.pipeline import Pipeline\n",
    "\n",
    "from sklearn.linear_model import LinearRegression, Ridge, Lasso\n",
    "from sklearn.ensemble import RandomForestRegressor\n",
    "from sklearn.tree import DecisionTreeRegressor\n",
    "from sklearn.metrics import mean_absolute_percentage_error,r2_score,mean_absolute_error\n",
    "\n",
    "import warnings\n",
    "warnings.filterwarnings('ignore')\n"
   ]
  },
  {
   "cell_type": "markdown",
   "metadata": {},
   "source": [
    "# Data Loading"
   ]
  },
  {
   "cell_type": "code",
   "execution_count": 2,
   "metadata": {},
   "outputs": [
    {
     "data": {
      "text/html": [
       "<div>\n",
       "<style scoped>\n",
       "    .dataframe tbody tr th:only-of-type {\n",
       "        vertical-align: middle;\n",
       "    }\n",
       "\n",
       "    .dataframe tbody tr th {\n",
       "        vertical-align: top;\n",
       "    }\n",
       "\n",
       "    .dataframe thead th {\n",
       "        text-align: right;\n",
       "    }\n",
       "</style>\n",
       "<table border=\"1\" class=\"dataframe\">\n",
       "  <thead>\n",
       "    <tr style=\"text-align: right;\">\n",
       "      <th></th>\n",
       "      <th>car_ID</th>\n",
       "      <th>symboling</th>\n",
       "      <th>CarName</th>\n",
       "      <th>fueltype</th>\n",
       "      <th>aspiration</th>\n",
       "      <th>doornumber</th>\n",
       "      <th>carbody</th>\n",
       "      <th>drivewheel</th>\n",
       "      <th>enginelocation</th>\n",
       "      <th>wheelbase</th>\n",
       "      <th>...</th>\n",
       "      <th>enginesize</th>\n",
       "      <th>fuelsystem</th>\n",
       "      <th>boreratio</th>\n",
       "      <th>stroke</th>\n",
       "      <th>compressionratio</th>\n",
       "      <th>horsepower</th>\n",
       "      <th>peakrpm</th>\n",
       "      <th>citympg</th>\n",
       "      <th>highwaympg</th>\n",
       "      <th>price</th>\n",
       "    </tr>\n",
       "  </thead>\n",
       "  <tbody>\n",
       "    <tr>\n",
       "      <th>0</th>\n",
       "      <td>1</td>\n",
       "      <td>3</td>\n",
       "      <td>alfa-romero giulia</td>\n",
       "      <td>gas</td>\n",
       "      <td>std</td>\n",
       "      <td>two</td>\n",
       "      <td>convertible</td>\n",
       "      <td>rwd</td>\n",
       "      <td>front</td>\n",
       "      <td>88.6</td>\n",
       "      <td>...</td>\n",
       "      <td>130</td>\n",
       "      <td>mpfi</td>\n",
       "      <td>3.47</td>\n",
       "      <td>2.68</td>\n",
       "      <td>9.0</td>\n",
       "      <td>111</td>\n",
       "      <td>5000</td>\n",
       "      <td>21</td>\n",
       "      <td>27</td>\n",
       "      <td>13495.0</td>\n",
       "    </tr>\n",
       "    <tr>\n",
       "      <th>1</th>\n",
       "      <td>2</td>\n",
       "      <td>3</td>\n",
       "      <td>alfa-romero stelvio</td>\n",
       "      <td>gas</td>\n",
       "      <td>std</td>\n",
       "      <td>two</td>\n",
       "      <td>convertible</td>\n",
       "      <td>rwd</td>\n",
       "      <td>front</td>\n",
       "      <td>88.6</td>\n",
       "      <td>...</td>\n",
       "      <td>130</td>\n",
       "      <td>mpfi</td>\n",
       "      <td>3.47</td>\n",
       "      <td>2.68</td>\n",
       "      <td>9.0</td>\n",
       "      <td>111</td>\n",
       "      <td>5000</td>\n",
       "      <td>21</td>\n",
       "      <td>27</td>\n",
       "      <td>16500.0</td>\n",
       "    </tr>\n",
       "    <tr>\n",
       "      <th>2</th>\n",
       "      <td>3</td>\n",
       "      <td>1</td>\n",
       "      <td>alfa-romero Quadrifoglio</td>\n",
       "      <td>gas</td>\n",
       "      <td>std</td>\n",
       "      <td>two</td>\n",
       "      <td>hatchback</td>\n",
       "      <td>rwd</td>\n",
       "      <td>front</td>\n",
       "      <td>94.5</td>\n",
       "      <td>...</td>\n",
       "      <td>152</td>\n",
       "      <td>mpfi</td>\n",
       "      <td>2.68</td>\n",
       "      <td>3.47</td>\n",
       "      <td>9.0</td>\n",
       "      <td>154</td>\n",
       "      <td>5000</td>\n",
       "      <td>19</td>\n",
       "      <td>26</td>\n",
       "      <td>16500.0</td>\n",
       "    </tr>\n",
       "    <tr>\n",
       "      <th>3</th>\n",
       "      <td>4</td>\n",
       "      <td>2</td>\n",
       "      <td>audi 100 ls</td>\n",
       "      <td>gas</td>\n",
       "      <td>std</td>\n",
       "      <td>four</td>\n",
       "      <td>sedan</td>\n",
       "      <td>fwd</td>\n",
       "      <td>front</td>\n",
       "      <td>99.8</td>\n",
       "      <td>...</td>\n",
       "      <td>109</td>\n",
       "      <td>mpfi</td>\n",
       "      <td>3.19</td>\n",
       "      <td>3.40</td>\n",
       "      <td>10.0</td>\n",
       "      <td>102</td>\n",
       "      <td>5500</td>\n",
       "      <td>24</td>\n",
       "      <td>30</td>\n",
       "      <td>13950.0</td>\n",
       "    </tr>\n",
       "    <tr>\n",
       "      <th>4</th>\n",
       "      <td>5</td>\n",
       "      <td>2</td>\n",
       "      <td>audi 100ls</td>\n",
       "      <td>gas</td>\n",
       "      <td>std</td>\n",
       "      <td>four</td>\n",
       "      <td>sedan</td>\n",
       "      <td>4wd</td>\n",
       "      <td>front</td>\n",
       "      <td>99.4</td>\n",
       "      <td>...</td>\n",
       "      <td>136</td>\n",
       "      <td>mpfi</td>\n",
       "      <td>3.19</td>\n",
       "      <td>3.40</td>\n",
       "      <td>8.0</td>\n",
       "      <td>115</td>\n",
       "      <td>5500</td>\n",
       "      <td>18</td>\n",
       "      <td>22</td>\n",
       "      <td>17450.0</td>\n",
       "    </tr>\n",
       "  </tbody>\n",
       "</table>\n",
       "<p>5 rows × 26 columns</p>\n",
       "</div>"
      ],
      "text/plain": [
       "   car_ID  symboling                   CarName fueltype aspiration doornumber  \\\n",
       "0       1          3        alfa-romero giulia      gas        std        two   \n",
       "1       2          3       alfa-romero stelvio      gas        std        two   \n",
       "2       3          1  alfa-romero Quadrifoglio      gas        std        two   \n",
       "3       4          2               audi 100 ls      gas        std       four   \n",
       "4       5          2                audi 100ls      gas        std       four   \n",
       "\n",
       "       carbody drivewheel enginelocation  wheelbase  ...  enginesize  \\\n",
       "0  convertible        rwd          front       88.6  ...         130   \n",
       "1  convertible        rwd          front       88.6  ...         130   \n",
       "2    hatchback        rwd          front       94.5  ...         152   \n",
       "3        sedan        fwd          front       99.8  ...         109   \n",
       "4        sedan        4wd          front       99.4  ...         136   \n",
       "\n",
       "   fuelsystem  boreratio  stroke compressionratio horsepower  peakrpm citympg  \\\n",
       "0        mpfi       3.47    2.68              9.0        111     5000      21   \n",
       "1        mpfi       3.47    2.68              9.0        111     5000      21   \n",
       "2        mpfi       2.68    3.47              9.0        154     5000      19   \n",
       "3        mpfi       3.19    3.40             10.0        102     5500      24   \n",
       "4        mpfi       3.19    3.40              8.0        115     5500      18   \n",
       "\n",
       "   highwaympg    price  \n",
       "0          27  13495.0  \n",
       "1          27  16500.0  \n",
       "2          26  16500.0  \n",
       "3          30  13950.0  \n",
       "4          22  17450.0  \n",
       "\n",
       "[5 rows x 26 columns]"
      ]
     },
     "execution_count": 2,
     "metadata": {},
     "output_type": "execute_result"
    }
   ],
   "source": [
    "df = pd.read_csv('CarPrice_Assignment.csv',sep=\",\")\n",
    "df.head()"
   ]
  },
  {
   "cell_type": "code",
   "execution_count": 3,
   "metadata": {},
   "outputs": [],
   "source": [
    "data = df.copy()"
   ]
  },
  {
   "cell_type": "code",
   "execution_count": 4,
   "metadata": {},
   "outputs": [
    {
     "name": "stdout",
     "output_type": "stream",
     "text": [
      "<class 'pandas.core.frame.DataFrame'>\n",
      "RangeIndex: 205 entries, 0 to 204\n",
      "Data columns (total 26 columns):\n",
      " #   Column            Non-Null Count  Dtype  \n",
      "---  ------            --------------  -----  \n",
      " 0   car_ID            205 non-null    int64  \n",
      " 1   symboling         205 non-null    int64  \n",
      " 2   CarName           205 non-null    object \n",
      " 3   fueltype          205 non-null    object \n",
      " 4   aspiration        205 non-null    object \n",
      " 5   doornumber        205 non-null    object \n",
      " 6   carbody           205 non-null    object \n",
      " 7   drivewheel        205 non-null    object \n",
      " 8   enginelocation    205 non-null    object \n",
      " 9   wheelbase         205 non-null    float64\n",
      " 10  carlength         205 non-null    float64\n",
      " 11  carwidth          205 non-null    float64\n",
      " 12  carheight         205 non-null    float64\n",
      " 13  curbweight        205 non-null    int64  \n",
      " 14  enginetype        205 non-null    object \n",
      " 15  cylindernumber    205 non-null    object \n",
      " 16  enginesize        205 non-null    int64  \n",
      " 17  fuelsystem        205 non-null    object \n",
      " 18  boreratio         205 non-null    float64\n",
      " 19  stroke            205 non-null    float64\n",
      " 20  compressionratio  205 non-null    float64\n",
      " 21  horsepower        205 non-null    int64  \n",
      " 22  peakrpm           205 non-null    int64  \n",
      " 23  citympg           205 non-null    int64  \n",
      " 24  highwaympg        205 non-null    int64  \n",
      " 25  price             205 non-null    float64\n",
      "dtypes: float64(8), int64(8), object(10)\n",
      "memory usage: 41.8+ KB\n"
     ]
    }
   ],
   "source": [
    "df.info()"
   ]
  },
  {
   "cell_type": "code",
   "execution_count": 5,
   "metadata": {},
   "outputs": [
    {
     "data": {
      "text/plain": [
       "car_ID              205\n",
       "symboling             6\n",
       "CarName             147\n",
       "fueltype              2\n",
       "aspiration            2\n",
       "doornumber            2\n",
       "carbody               5\n",
       "drivewheel            3\n",
       "enginelocation        2\n",
       "wheelbase            53\n",
       "carlength            75\n",
       "carwidth             44\n",
       "carheight            49\n",
       "curbweight          171\n",
       "enginetype            7\n",
       "cylindernumber        7\n",
       "enginesize           44\n",
       "fuelsystem            8\n",
       "boreratio            38\n",
       "stroke               37\n",
       "compressionratio     32\n",
       "horsepower           59\n",
       "peakrpm              23\n",
       "citympg              29\n",
       "highwaympg           30\n",
       "price               189\n",
       "dtype: int64"
      ]
     },
     "execution_count": 5,
     "metadata": {},
     "output_type": "execute_result"
    }
   ],
   "source": [
    "df.nunique()"
   ]
  },
  {
   "cell_type": "markdown",
   "metadata": {},
   "source": [
    "# EDA"
   ]
  },
  {
   "cell_type": "code",
   "execution_count": 6,
   "metadata": {},
   "outputs": [
    {
     "data": {
      "text/plain": [
       "array([ 3,  1,  2,  0, -1, -2], dtype=int64)"
      ]
     },
     "execution_count": 6,
     "metadata": {},
     "output_type": "execute_result"
    }
   ],
   "source": [
    "df.symboling.unique()"
   ]
  },
  {
   "cell_type": "markdown",
   "metadata": {},
   "source": [
    "## Statistik Deskriptif"
   ]
  },
  {
   "cell_type": "code",
   "execution_count": 7,
   "metadata": {},
   "outputs": [
    {
     "data": {
      "text/html": [
       "<div>\n",
       "<style scoped>\n",
       "    .dataframe tbody tr th:only-of-type {\n",
       "        vertical-align: middle;\n",
       "    }\n",
       "\n",
       "    .dataframe tbody tr th {\n",
       "        vertical-align: top;\n",
       "    }\n",
       "\n",
       "    .dataframe thead th {\n",
       "        text-align: right;\n",
       "    }\n",
       "</style>\n",
       "<table border=\"1\" class=\"dataframe\">\n",
       "  <thead>\n",
       "    <tr style=\"text-align: right;\">\n",
       "      <th></th>\n",
       "      <th>count</th>\n",
       "      <th>mean</th>\n",
       "      <th>std</th>\n",
       "      <th>min</th>\n",
       "      <th>25%</th>\n",
       "      <th>50%</th>\n",
       "      <th>75%</th>\n",
       "      <th>max</th>\n",
       "    </tr>\n",
       "  </thead>\n",
       "  <tbody>\n",
       "    <tr>\n",
       "      <th>car_ID</th>\n",
       "      <td>205.0</td>\n",
       "      <td>103.000000</td>\n",
       "      <td>59.322565</td>\n",
       "      <td>1.00</td>\n",
       "      <td>52.00</td>\n",
       "      <td>103.00</td>\n",
       "      <td>154.00</td>\n",
       "      <td>205.00</td>\n",
       "    </tr>\n",
       "    <tr>\n",
       "      <th>symboling</th>\n",
       "      <td>205.0</td>\n",
       "      <td>0.834146</td>\n",
       "      <td>1.245307</td>\n",
       "      <td>-2.00</td>\n",
       "      <td>0.00</td>\n",
       "      <td>1.00</td>\n",
       "      <td>2.00</td>\n",
       "      <td>3.00</td>\n",
       "    </tr>\n",
       "    <tr>\n",
       "      <th>wheelbase</th>\n",
       "      <td>205.0</td>\n",
       "      <td>98.756585</td>\n",
       "      <td>6.021776</td>\n",
       "      <td>86.60</td>\n",
       "      <td>94.50</td>\n",
       "      <td>97.00</td>\n",
       "      <td>102.40</td>\n",
       "      <td>120.90</td>\n",
       "    </tr>\n",
       "    <tr>\n",
       "      <th>carlength</th>\n",
       "      <td>205.0</td>\n",
       "      <td>174.049268</td>\n",
       "      <td>12.337289</td>\n",
       "      <td>141.10</td>\n",
       "      <td>166.30</td>\n",
       "      <td>173.20</td>\n",
       "      <td>183.10</td>\n",
       "      <td>208.10</td>\n",
       "    </tr>\n",
       "    <tr>\n",
       "      <th>carwidth</th>\n",
       "      <td>205.0</td>\n",
       "      <td>65.907805</td>\n",
       "      <td>2.145204</td>\n",
       "      <td>60.30</td>\n",
       "      <td>64.10</td>\n",
       "      <td>65.50</td>\n",
       "      <td>66.90</td>\n",
       "      <td>72.30</td>\n",
       "    </tr>\n",
       "    <tr>\n",
       "      <th>carheight</th>\n",
       "      <td>205.0</td>\n",
       "      <td>53.724878</td>\n",
       "      <td>2.443522</td>\n",
       "      <td>47.80</td>\n",
       "      <td>52.00</td>\n",
       "      <td>54.10</td>\n",
       "      <td>55.50</td>\n",
       "      <td>59.80</td>\n",
       "    </tr>\n",
       "    <tr>\n",
       "      <th>curbweight</th>\n",
       "      <td>205.0</td>\n",
       "      <td>2555.565854</td>\n",
       "      <td>520.680204</td>\n",
       "      <td>1488.00</td>\n",
       "      <td>2145.00</td>\n",
       "      <td>2414.00</td>\n",
       "      <td>2935.00</td>\n",
       "      <td>4066.00</td>\n",
       "    </tr>\n",
       "    <tr>\n",
       "      <th>enginesize</th>\n",
       "      <td>205.0</td>\n",
       "      <td>126.907317</td>\n",
       "      <td>41.642693</td>\n",
       "      <td>61.00</td>\n",
       "      <td>97.00</td>\n",
       "      <td>120.00</td>\n",
       "      <td>141.00</td>\n",
       "      <td>326.00</td>\n",
       "    </tr>\n",
       "    <tr>\n",
       "      <th>boreratio</th>\n",
       "      <td>205.0</td>\n",
       "      <td>3.329756</td>\n",
       "      <td>0.270844</td>\n",
       "      <td>2.54</td>\n",
       "      <td>3.15</td>\n",
       "      <td>3.31</td>\n",
       "      <td>3.58</td>\n",
       "      <td>3.94</td>\n",
       "    </tr>\n",
       "    <tr>\n",
       "      <th>stroke</th>\n",
       "      <td>205.0</td>\n",
       "      <td>3.255415</td>\n",
       "      <td>0.313597</td>\n",
       "      <td>2.07</td>\n",
       "      <td>3.11</td>\n",
       "      <td>3.29</td>\n",
       "      <td>3.41</td>\n",
       "      <td>4.17</td>\n",
       "    </tr>\n",
       "    <tr>\n",
       "      <th>compressionratio</th>\n",
       "      <td>205.0</td>\n",
       "      <td>10.142537</td>\n",
       "      <td>3.972040</td>\n",
       "      <td>7.00</td>\n",
       "      <td>8.60</td>\n",
       "      <td>9.00</td>\n",
       "      <td>9.40</td>\n",
       "      <td>23.00</td>\n",
       "    </tr>\n",
       "    <tr>\n",
       "      <th>horsepower</th>\n",
       "      <td>205.0</td>\n",
       "      <td>104.117073</td>\n",
       "      <td>39.544167</td>\n",
       "      <td>48.00</td>\n",
       "      <td>70.00</td>\n",
       "      <td>95.00</td>\n",
       "      <td>116.00</td>\n",
       "      <td>288.00</td>\n",
       "    </tr>\n",
       "    <tr>\n",
       "      <th>peakrpm</th>\n",
       "      <td>205.0</td>\n",
       "      <td>5125.121951</td>\n",
       "      <td>476.985643</td>\n",
       "      <td>4150.00</td>\n",
       "      <td>4800.00</td>\n",
       "      <td>5200.00</td>\n",
       "      <td>5500.00</td>\n",
       "      <td>6600.00</td>\n",
       "    </tr>\n",
       "    <tr>\n",
       "      <th>citympg</th>\n",
       "      <td>205.0</td>\n",
       "      <td>25.219512</td>\n",
       "      <td>6.542142</td>\n",
       "      <td>13.00</td>\n",
       "      <td>19.00</td>\n",
       "      <td>24.00</td>\n",
       "      <td>30.00</td>\n",
       "      <td>49.00</td>\n",
       "    </tr>\n",
       "    <tr>\n",
       "      <th>highwaympg</th>\n",
       "      <td>205.0</td>\n",
       "      <td>30.751220</td>\n",
       "      <td>6.886443</td>\n",
       "      <td>16.00</td>\n",
       "      <td>25.00</td>\n",
       "      <td>30.00</td>\n",
       "      <td>34.00</td>\n",
       "      <td>54.00</td>\n",
       "    </tr>\n",
       "    <tr>\n",
       "      <th>price</th>\n",
       "      <td>205.0</td>\n",
       "      <td>13276.710571</td>\n",
       "      <td>7988.852332</td>\n",
       "      <td>5118.00</td>\n",
       "      <td>7788.00</td>\n",
       "      <td>10295.00</td>\n",
       "      <td>16503.00</td>\n",
       "      <td>45400.00</td>\n",
       "    </tr>\n",
       "  </tbody>\n",
       "</table>\n",
       "</div>"
      ],
      "text/plain": [
       "                  count          mean          std      min      25%  \\\n",
       "car_ID            205.0    103.000000    59.322565     1.00    52.00   \n",
       "symboling         205.0      0.834146     1.245307    -2.00     0.00   \n",
       "wheelbase         205.0     98.756585     6.021776    86.60    94.50   \n",
       "carlength         205.0    174.049268    12.337289   141.10   166.30   \n",
       "carwidth          205.0     65.907805     2.145204    60.30    64.10   \n",
       "carheight         205.0     53.724878     2.443522    47.80    52.00   \n",
       "curbweight        205.0   2555.565854   520.680204  1488.00  2145.00   \n",
       "enginesize        205.0    126.907317    41.642693    61.00    97.00   \n",
       "boreratio         205.0      3.329756     0.270844     2.54     3.15   \n",
       "stroke            205.0      3.255415     0.313597     2.07     3.11   \n",
       "compressionratio  205.0     10.142537     3.972040     7.00     8.60   \n",
       "horsepower        205.0    104.117073    39.544167    48.00    70.00   \n",
       "peakrpm           205.0   5125.121951   476.985643  4150.00  4800.00   \n",
       "citympg           205.0     25.219512     6.542142    13.00    19.00   \n",
       "highwaympg        205.0     30.751220     6.886443    16.00    25.00   \n",
       "price             205.0  13276.710571  7988.852332  5118.00  7788.00   \n",
       "\n",
       "                       50%       75%       max  \n",
       "car_ID              103.00    154.00    205.00  \n",
       "symboling             1.00      2.00      3.00  \n",
       "wheelbase            97.00    102.40    120.90  \n",
       "carlength           173.20    183.10    208.10  \n",
       "carwidth             65.50     66.90     72.30  \n",
       "carheight            54.10     55.50     59.80  \n",
       "curbweight         2414.00   2935.00   4066.00  \n",
       "enginesize          120.00    141.00    326.00  \n",
       "boreratio             3.31      3.58      3.94  \n",
       "stroke                3.29      3.41      4.17  \n",
       "compressionratio      9.00      9.40     23.00  \n",
       "horsepower           95.00    116.00    288.00  \n",
       "peakrpm            5200.00   5500.00   6600.00  \n",
       "citympg              24.00     30.00     49.00  \n",
       "highwaympg           30.00     34.00     54.00  \n",
       "price             10295.00  16503.00  45400.00  "
      ]
     },
     "execution_count": 7,
     "metadata": {},
     "output_type": "execute_result"
    }
   ],
   "source": [
    "df.describe().T"
   ]
  },
  {
   "cell_type": "markdown",
   "metadata": {},
   "source": [
    "Pada Curb Weight, Compression ratio, city MPG, highway MPG, Harga mobil rentang antara Q3 dengan nilai maksimumnya cukup jauh sehingga pada kolom-kolom tersebut kecenderungan untuk membentuk outlier cukup besar. \n",
    "Jika dilihat dari nilai rata-rata dan Q2 nya yang memiliki rentang kecil, banyak kolom yang berdistribusi normal."
   ]
  },
  {
   "cell_type": "markdown",
   "metadata": {},
   "source": [
    "## Unique Value"
   ]
  },
  {
   "cell_type": "code",
   "execution_count": 8,
   "metadata": {},
   "outputs": [
    {
     "name": "stdout",
     "output_type": "stream",
     "text": [
      "num ['car_ID', 'symboling', 'wheelbase', 'carlength', 'carwidth', 'carheight', 'curbweight', 'enginesize', 'boreratio', 'stroke', 'compressionratio', 'horsepower', 'peakrpm', 'citympg', 'highwaympg', 'price']\n",
      "cat ['CarName', 'fueltype', 'aspiration', 'doornumber', 'carbody', 'drivewheel', 'enginelocation', 'enginetype', 'cylindernumber', 'fuelsystem']\n"
     ]
    }
   ],
   "source": [
    "num  = df.select_dtypes(include=np.number).columns.to_list()\n",
    "cat = df.select_dtypes(include='object').columns.to_list()\n",
    "print('num',num)\n",
    "print(\"cat\",cat)"
   ]
  },
  {
   "cell_type": "code",
   "execution_count": 9,
   "metadata": {},
   "outputs": [
    {
     "data": {
      "text/plain": [
       "CarName           147\n",
       "fueltype            2\n",
       "aspiration          2\n",
       "doornumber          2\n",
       "carbody             5\n",
       "drivewheel          3\n",
       "enginelocation      2\n",
       "enginetype          7\n",
       "cylindernumber      7\n",
       "fuelsystem          8\n",
       "dtype: int64"
      ]
     },
     "execution_count": 9,
     "metadata": {},
     "output_type": "execute_result"
    }
   ],
   "source": [
    "df[cat].nunique()"
   ]
  },
  {
   "cell_type": "markdown",
   "metadata": {},
   "source": [
    "Car Name memiliki jumlah unique value yang tinggi atau *high cardinality*."
   ]
  },
  {
   "cell_type": "code",
   "execution_count": 10,
   "metadata": {},
   "outputs": [
    {
     "name": "stdout",
     "output_type": "stream",
     "text": [
      "fueltype  unique:  ['gas' 'diesel']\n",
      "aspiration  unique:  ['std' 'turbo']\n",
      "doornumber  unique:  ['two' 'four']\n",
      "carbody  unique:  ['convertible' 'hatchback' 'sedan' 'wagon' 'hardtop']\n",
      "drivewheel  unique:  ['rwd' 'fwd' '4wd']\n",
      "enginelocation  unique:  ['front' 'rear']\n",
      "enginetype  unique:  ['dohc' 'ohcv' 'ohc' 'l' 'rotor' 'ohcf' 'dohcv']\n",
      "cylindernumber  unique:  ['four' 'six' 'five' 'three' 'twelve' 'two' 'eight']\n",
      "fuelsystem  unique:  ['mpfi' '2bbl' 'mfi' '1bbl' 'spfi' '4bbl' 'idi' 'spdi']\n"
     ]
    }
   ],
   "source": [
    "for col in cat[1:]:\n",
    "    print(col,' unique: ',df[col].unique())"
   ]
  },
  {
   "cell_type": "markdown",
   "metadata": {},
   "source": [
    "Fueltype merupakan ringkasan dari fuelsystem dimana mobil dengan mesin diesel menggunakan fuel injection systemnya dengan sistem direct dan indirect injection (IDI). sedangkan untuk mobil dengan gasoline engine metode injeksi bahan bakarnya adalah dengan MPI (Multi Port Fuel Injection), SPFI (Sequential Port Fuel Injection ), Barrel yang dalam dataset ini disimbolkan 1BBL, 2BBL, 4BBL (Allen, 2022)."
   ]
  },
  {
   "cell_type": "markdown",
   "metadata": {},
   "source": [
    "## Pearson Correlation"
   ]
  },
  {
   "cell_type": "code",
   "execution_count": 11,
   "metadata": {},
   "outputs": [
    {
     "data": {
      "text/plain": [
       "<AxesSubplot:>"
      ]
     },
     "execution_count": 11,
     "metadata": {},
     "output_type": "execute_result"
    },
    {
     "data": {
      "image/png": "[encoded data removed]",
      "text/plain": [
       "<Figure size 1080x720 with 2 Axes>"
      ]
     },
     "metadata": {
      "needs_background": "light"
     },
     "output_type": "display_data"
    }
   ],
   "source": [
    "plt.figure(figsize=(15, 10))\n",
    "sns.heatmap(df.corr(),annot=True)"
   ]
  },
  {
   "cell_type": "markdown",
   "metadata": {},
   "source": [
    "Dari tabel heatmap diatas, diketahui bahwa beberapa variabel saling berkorelasi tinggi (multikolinier). Variabel-variabel yang terindikasi multikolinieritas adalah variabel yang bersangkutan dengan karakter luar mobil seperti (carlength, carwidth, carheigth, wheelbase, curbweight), dan variabel yang bersangkutan dengan kemampuan mobil seperti horse power, city MPG, highway MPG."
   ]
  },
  {
   "cell_type": "code",
   "execution_count": 12,
   "metadata": {},
   "outputs": [
    {
     "data": {
      "text/plain": [
       "<AxesSubplot:>"
      ]
     },
     "execution_count": 12,
     "metadata": {},
     "output_type": "execute_result"
    },
    {
     "data": {
      "image/png": "[encoded data removed]",
      "text/plain": [
       "<Figure size 432x288 with 1 Axes>"
      ]
     },
     "metadata": {
      "needs_background": "light"
     },
     "output_type": "display_data"
    }
   ],
   "source": [
    "df.corrwith(df.price).sort_values(ascending=False).plot(kind='bar')"
   ]
  },
  {
   "cell_type": "markdown",
   "metadata": {},
   "source": [
    "Korelasi tiap variabel terhadap target memperlihatkan variabel yang berpengaruh tinggi terhadap perubahan variabel target adalah:\n",
    "1. enginesize\n",
    "2. curbweight\n",
    "3. horsepower\n",
    "4. carwidth\n",
    "5. cylindernumber\n",
    "6. wheelbase\n",
    "7. boreratio\n",
    "8. citympg\n",
    "9. highwaympg"
   ]
  },
  {
   "cell_type": "markdown",
   "metadata": {},
   "source": [
    "## Harga mobil berdasarkan Bentuk Mobil"
   ]
  },
  {
   "cell_type": "code",
   "execution_count": 13,
   "metadata": {},
   "outputs": [
    {
     "data": {
      "text/plain": [
       "<AxesSubplot:xlabel='carbody'>"
      ]
     },
     "execution_count": 13,
     "metadata": {},
     "output_type": "execute_result"
    },
    {
     "data": {
      "image/png": "[encoded data removed]",
      "text/plain": [
       "<Figure size 432x288 with 1 Axes>"
      ]
     },
     "metadata": {
      "needs_background": "light"
     },
     "output_type": "display_data"
    }
   ],
   "source": [
    "df[['carbody','price']].groupby('carbody').mean().sort_values('price',ascending=False).plot(kind='bar')"
   ]
  },
  {
   "cell_type": "markdown",
   "metadata": {},
   "source": [
    "Harga mobil termahal rata-ratanya berada pada mobil berbentuk hardtop dan convertible."
   ]
  },
  {
   "cell_type": "markdown",
   "metadata": {},
   "source": [
    "# Data Preprocessing"
   ]
  },
  {
   "cell_type": "markdown",
   "metadata": {},
   "source": [
    "## Cardinality"
   ]
  },
  {
   "cell_type": "markdown",
   "metadata": {},
   "source": [
    "### Cylinder number"
   ]
  },
  {
   "cell_type": "markdown",
   "metadata": {},
   "source": [
    "Pada cylinder number tipe datanya adalah string, namun merepresentasikan numerik. Sehingga diubah menjadi bentuk numerik agar memudahkan encoding saat normalisasi."
   ]
  },
  {
   "cell_type": "code",
   "execution_count": 14,
   "metadata": {},
   "outputs": [
    {
     "data": {
      "text/plain": [
       "array(['four', 'six', 'five', 'three', 'twelve', 'two', 'eight'],\n",
       "      dtype=object)"
      ]
     },
     "execution_count": 14,
     "metadata": {},
     "output_type": "execute_result"
    }
   ],
   "source": [
    "df.cylindernumber.unique()"
   ]
  },
  {
   "cell_type": "code",
   "execution_count": 15,
   "metadata": {},
   "outputs": [],
   "source": [
    "df.cylindernumber = df.cylindernumber.replace({\n",
    "    'four':4, 'six':6, 'five': 5, 'three':3, 'twelve':12, 'two':2, 'eight':8\n",
    "})"
   ]
  },
  {
   "cell_type": "code",
   "execution_count": 16,
   "metadata": {},
   "outputs": [
    {
     "data": {
      "text/plain": [
       "array([ 4,  6,  5,  3, 12,  2,  8], dtype=int64)"
      ]
     },
     "execution_count": 16,
     "metadata": {},
     "output_type": "execute_result"
    }
   ],
   "source": [
    "df.cylindernumber.unique()"
   ]
  },
  {
   "cell_type": "markdown",
   "metadata": {},
   "source": [
    "## Outlier"
   ]
  },
  {
   "cell_type": "code",
   "execution_count": 17,
   "metadata": {},
   "outputs": [
    {
     "data": {
      "text/plain": [
       "<AxesSubplot:>"
      ]
     },
     "execution_count": 17,
     "metadata": {},
     "output_type": "execute_result"
    },
    {
     "data": {
      "image/png": "[encoded data removed]",
      "text/plain": [
       "<Figure size 1440x360 with 1 Axes>"
      ]
     },
     "metadata": {
      "needs_background": "light"
     },
     "output_type": "display_data"
    }
   ],
   "source": [
    "df.plot(kind='box',figsize=(20,5))"
   ]
  },
  {
   "cell_type": "markdown",
   "metadata": {},
   "source": [
    "Outlier terdeteksi di beberapa kolom, namun outlier yang terbentuk adalah natural outlier. Sehingga jika dilakukan handling outlier akan memangkas informasi penting yang bisa menentukan nilai harga mobil, maka keputusannya outlier ini tidak akan di-*handling*"
   ]
  },
  {
   "cell_type": "markdown",
   "metadata": {},
   "source": [
    "## Missing Value"
   ]
  },
  {
   "cell_type": "code",
   "execution_count": 18,
   "metadata": {},
   "outputs": [
    {
     "data": {
      "text/plain": [
       "0"
      ]
     },
     "execution_count": 18,
     "metadata": {},
     "output_type": "execute_result"
    }
   ],
   "source": [
    "df.isnull().sum().sum()"
   ]
  },
  {
   "cell_type": "markdown",
   "metadata": {},
   "source": [
    "Tidak ada missing value pada dataset ini"
   ]
  },
  {
   "cell_type": "markdown",
   "metadata": {},
   "source": [
    "### Splitting data"
   ]
  },
  {
   "cell_type": "code",
   "execution_count": 19,
   "metadata": {},
   "outputs": [
    {
     "name": "stdout",
     "output_type": "stream",
     "text": [
      "(160, 25)\n",
      "(40, 25)\n",
      "(160,)\n",
      "(40,)\n"
     ]
    }
   ],
   "source": [
    "#split inference\n",
    "inf = df.sample(5,random_state=1)\n",
    "non_inf = df.drop(inf.index,axis=0)\n",
    "\n",
    "#split X,y\n",
    "X = non_inf.drop('price',axis=1)\n",
    "y = non_inf['price']\n",
    "\n",
    "#split train test\n",
    "X_train, X_test, y_train, y_test = train_test_split(X,y,test_size=0.2,random_state=1)\n",
    "print(X_train.shape)\n",
    "print(X_test.shape)\n",
    "print(y_train.shape)\n",
    "print(y_test.shape)"
   ]
  },
  {
   "cell_type": "markdown",
   "metadata": {},
   "source": [
    "## Feature Selection"
   ]
  },
  {
   "cell_type": "code",
   "execution_count": 20,
   "metadata": {},
   "outputs": [],
   "source": [
    "drop_col = ['car_ID','CarName','citympg', 'highwaympg','carheight','fuelsystem']"
   ]
  },
  {
   "cell_type": "markdown",
   "metadata": {},
   "source": [
    "Alasan seleksi fitur:\n",
    "1. car_ID: High Cardinality\n",
    "2. CarName: HIgh Cardinality dan prediksi ini bukan berdasarkan merek mobil\n",
    "3. city MPG dan highway MPG bisa saling mewakilkan namun juga berkorelasi tinggi secara negatig dengan horsepower, sehingga cukup diwakilkan oleh horsepower\n",
    "4. carheight multikolinier dengan carwidth, carlength namun carheigth memiliki korelasi lebih rendah terhadap target.\n",
    "5. fuelsystem adalah uraian lengkap dari fueltype, sehingga dengan fueltype saja sudah bisa mewakili informasi dari fuelsystem."
   ]
  },
  {
   "cell_type": "code",
   "execution_count": 21,
   "metadata": {},
   "outputs": [],
   "source": [
    "X_train = X_train.drop(drop_col, axis=1)\n",
    "X_test = X_test.drop(drop_col, axis=1)\n",
    "inf2 = inf.drop(drop_col, axis=1)"
   ]
  },
  {
   "cell_type": "markdown",
   "metadata": {},
   "source": [
    "# Feature Scaling and Encoding"
   ]
  },
  {
   "cell_type": "code",
   "execution_count": 22,
   "metadata": {},
   "outputs": [
    {
     "name": "stdout",
     "output_type": "stream",
     "text": [
      "num ['symboling', 'wheelbase', 'carlength', 'carwidth', 'curbweight', 'cylindernumber', 'enginesize', 'boreratio', 'stroke', 'compressionratio', 'horsepower', 'peakrpm']\n",
      "cat ['fueltype', 'aspiration', 'doornumber', 'carbody', 'drivewheel', 'enginelocation', 'enginetype']\n"
     ]
    }
   ],
   "source": [
    "num_col = X_train.select_dtypes(include=np.number).columns.tolist()\n",
    "cat_col = X_train.select_dtypes(include='object').columns.tolist()\n",
    "print('num', num_col)\n",
    "print(\"cat\", cat_col)"
   ]
  },
  {
   "cell_type": "code",
   "execution_count": 23,
   "metadata": {},
   "outputs": [],
   "source": [
    "ohe = OneHotEncoder()\n",
    "std = StandardScaler()"
   ]
  },
  {
   "cell_type": "markdown",
   "metadata": {},
   "source": [
    "### Pipeline preprocessing"
   ]
  },
  {
   "cell_type": "markdown",
   "metadata": {},
   "source": [
    "Pipeline preprocessing berisi Feature scaling dengan Standard Scaler untuk fitur numerik dan Feature encoding dengan One Hot Encoder untuk fitur kategorik."
   ]
  },
  {
   "cell_type": "code",
   "execution_count": 24,
   "metadata": {},
   "outputs": [
    {
     "data": {
      "text/plain": [
       "ColumnTransformer(transformers=[('scale', StandardScaler(),\n",
       "                                 ['symboling', 'wheelbase', 'carlength',\n",
       "                                  'carwidth', 'curbweight', 'cylindernumber',\n",
       "                                  'enginesize', 'boreratio', 'stroke',\n",
       "                                  'compressionratio', 'horsepower',\n",
       "                                  'peakrpm']),\n",
       "                                ('encode', OneHotEncoder(),\n",
       "                                 ['fueltype', 'aspiration', 'doornumber',\n",
       "                                  'carbody', 'drivewheel', 'enginelocation',\n",
       "                                  'enginetype'])])"
      ]
     },
     "execution_count": 24,
     "metadata": {},
     "output_type": "execute_result"
    }
   ],
   "source": [
    "pipe_prep = ColumnTransformer([\n",
    "    ('scale',std,num_col),\n",
    "    ('encode',ohe,cat_col)\n",
    "])\n",
    "pipe_prep"
   ]
  },
  {
   "cell_type": "markdown",
   "metadata": {},
   "source": [
    "# Model Definition"
   ]
  },
  {
   "cell_type": "code",
   "execution_count": 25,
   "metadata": {},
   "outputs": [],
   "source": [
    "linreg = LinearRegression(fit_intercept=True)\n",
    "linreg_poly = LinearRegression(fit_intercept=True)\n",
    "poly = PolynomialFeatures(3)\n",
    "ridge = Ridge(alpha=1,random_state=1)\n",
    "lasso = Lasso(alpha=0.1,random_state=1)\n",
    "rf = RandomForestRegressor(random_state=1)\n",
    "dt = DecisionTreeRegressor(random_state=1)"
   ]
  },
  {
   "cell_type": "markdown",
   "metadata": {},
   "source": [
    "model regresi yang digunakan adalah linear regresi, regresi polinomial, regresi Ridge, Regresi lasso, Random forest, dan decision tree. Alasan pemilihan regresi Ridge adalah karena  regresi ridge dapat meminimumkan dampak multikolinieritas (Wasilaine, 2014). Regresi Lasso pun dapat meminimumkan efek dari multikolinieritas namun caranya agak berbeda dengan Ridge dimana lasso langsung memberi weight=0 pada loss function hingga menyeleksi variabel yang terpilih saja (Robbani, 2019). Regresi polinomial dapat pula mengatasi masalah multikolinieritas dengan memodifikasi bentuk dari regresi linear aslinya (Malensang, 2013).\n",
    "\n",
    "Selanjutnya Random Forest dan Decision Tree Regressor dipilih dalam prediksi harga mobil ini karena merupakan metode CART (Classification and Regression Tree) yang mana metode tersebut tidak memiliki asumsi apapun dan dapat digunakan dalam kasus klasifikasi dan regresi, kedua metode ini dapat meningkatkan akurasi hasil prediksinya (Mulhayati, 2020).\n"
   ]
  },
  {
   "cell_type": "markdown",
   "metadata": {},
   "source": [
    "## Pipeline model"
   ]
  },
  {
   "cell_type": "markdown",
   "metadata": {},
   "source": [
    "Pipeline preprocessing digabungkan menjadi pipeline masing-masing model."
   ]
  },
  {
   "cell_type": "code",
   "execution_count": 26,
   "metadata": {},
   "outputs": [],
   "source": [
    "pipe_linreg = Pipeline([\n",
    "    ('scaler',pipe_prep),\n",
    "    ('model',linreg)\n",
    "])\n",
    "pipe_ridge = Pipeline([\n",
    "    ('scaler',pipe_prep),\n",
    "    ('model',ridge)\n",
    "])\n",
    "pipe_lasso = Pipeline([\n",
    "    ('scaler',pipe_prep),\n",
    "    ('model',lasso)\n",
    "])\n",
    "pipe_rf = Pipeline([\n",
    "    ('scaler',pipe_prep),\n",
    "    ('model',rf)\n",
    "])\n",
    "pipe_dt = Pipeline([\n",
    "    ('scaler',pipe_prep),\n",
    "    ('model',dt)\n",
    "])"
   ]
  },
  {
   "cell_type": "markdown",
   "metadata": {},
   "source": [
    "# Model Training"
   ]
  },
  {
   "cell_type": "markdown",
   "metadata": {},
   "source": [
    "Dilakukann training data dengan memanfaatkan fungsi pipeline dengan hanya melakukan .fit pada raw data namun hasil prediksinya sama dengan tanpa pipeline"
   ]
  },
  {
   "cell_type": "markdown",
   "metadata": {},
   "source": [
    "## Linear Regression"
   ]
  },
  {
   "cell_type": "code",
   "execution_count": 27,
   "metadata": {},
   "outputs": [
    {
     "data": {
      "text/plain": [
       "Pipeline(steps=[('scaler',\n",
       "                 ColumnTransformer(transformers=[('scale', StandardScaler(),\n",
       "                                                  ['symboling', 'wheelbase',\n",
       "                                                   'carlength', 'carwidth',\n",
       "                                                   'curbweight',\n",
       "                                                   'cylindernumber',\n",
       "                                                   'enginesize', 'boreratio',\n",
       "                                                   'stroke', 'compressionratio',\n",
       "                                                   'horsepower', 'peakrpm']),\n",
       "                                                 ('encode', OneHotEncoder(),\n",
       "                                                  ['fueltype', 'aspiration',\n",
       "                                                   'doornumber', 'carbody',\n",
       "                                                   'drivewheel',\n",
       "                                                   'enginelocation',\n",
       "                                                   'enginetype'])])),\n",
       "                ('model', LinearRegression())])"
      ]
     },
     "execution_count": 27,
     "metadata": {},
     "output_type": "execute_result"
    }
   ],
   "source": [
    "pipe_linreg.fit(X_train,y_train)"
   ]
  },
  {
   "cell_type": "markdown",
   "metadata": {},
   "source": [
    "## Ridge Regression"
   ]
  },
  {
   "cell_type": "code",
   "execution_count": 28,
   "metadata": {},
   "outputs": [
    {
     "data": {
      "text/plain": [
       "Pipeline(steps=[('scaler',\n",
       "                 ColumnTransformer(transformers=[('scale', StandardScaler(),\n",
       "                                                  ['symboling', 'wheelbase',\n",
       "                                                   'carlength', 'carwidth',\n",
       "                                                   'curbweight',\n",
       "                                                   'cylindernumber',\n",
       "                                                   'enginesize', 'boreratio',\n",
       "                                                   'stroke', 'compressionratio',\n",
       "                                                   'horsepower', 'peakrpm']),\n",
       "                                                 ('encode', OneHotEncoder(),\n",
       "                                                  ['fueltype', 'aspiration',\n",
       "                                                   'doornumber', 'carbody',\n",
       "                                                   'drivewheel',\n",
       "                                                   'enginelocation',\n",
       "                                                   'enginetype'])])),\n",
       "                ('model', Ridge(alpha=1, random_state=1))])"
      ]
     },
     "execution_count": 28,
     "metadata": {},
     "output_type": "execute_result"
    }
   ],
   "source": [
    "pipe_ridge.fit(X_train,y_train)"
   ]
  },
  {
   "cell_type": "markdown",
   "metadata": {},
   "source": [
    "## Lasso Regression"
   ]
  },
  {
   "cell_type": "code",
   "execution_count": 29,
   "metadata": {},
   "outputs": [
    {
     "data": {
      "text/plain": [
       "Pipeline(steps=[('scaler',\n",
       "                 ColumnTransformer(transformers=[('scale', StandardScaler(),\n",
       "                                                  ['symboling', 'wheelbase',\n",
       "                                                   'carlength', 'carwidth',\n",
       "                                                   'curbweight',\n",
       "                                                   'cylindernumber',\n",
       "                                                   'enginesize', 'boreratio',\n",
       "                                                   'stroke', 'compressionratio',\n",
       "                                                   'horsepower', 'peakrpm']),\n",
       "                                                 ('encode', OneHotEncoder(),\n",
       "                                                  ['fueltype', 'aspiration',\n",
       "                                                   'doornumber', 'carbody',\n",
       "                                                   'drivewheel',\n",
       "                                                   'enginelocation',\n",
       "                                                   'enginetype'])])),\n",
       "                ('model', Lasso(alpha=0.1, random_state=1))])"
      ]
     },
     "execution_count": 29,
     "metadata": {},
     "output_type": "execute_result"
    }
   ],
   "source": [
    "pipe_lasso.fit(X_train,y_train)"
   ]
  },
  {
   "cell_type": "markdown",
   "metadata": {},
   "source": [
    "## Random Forest Regressor"
   ]
  },
  {
   "cell_type": "code",
   "execution_count": 30,
   "metadata": {},
   "outputs": [
    {
     "data": {
      "text/plain": [
       "Pipeline(steps=[('scaler',\n",
       "                 ColumnTransformer(transformers=[('scale', StandardScaler(),\n",
       "                                                  ['symboling', 'wheelbase',\n",
       "                                                   'carlength', 'carwidth',\n",
       "                                                   'curbweight',\n",
       "                                                   'cylindernumber',\n",
       "                                                   'enginesize', 'boreratio',\n",
       "                                                   'stroke', 'compressionratio',\n",
       "                                                   'horsepower', 'peakrpm']),\n",
       "                                                 ('encode', OneHotEncoder(),\n",
       "                                                  ['fueltype', 'aspiration',\n",
       "                                                   'doornumber', 'carbody',\n",
       "                                                   'drivewheel',\n",
       "                                                   'enginelocation',\n",
       "                                                   'enginetype'])])),\n",
       "                ('model', RandomForestRegressor(random_state=1))])"
      ]
     },
     "execution_count": 30,
     "metadata": {},
     "output_type": "execute_result"
    }
   ],
   "source": [
    "pipe_rf.fit(X_train,y_train)"
   ]
  },
  {
   "cell_type": "markdown",
   "metadata": {},
   "source": [
    "## Decision Tree Regressor"
   ]
  },
  {
   "cell_type": "code",
   "execution_count": 31,
   "metadata": {},
   "outputs": [
    {
     "data": {
      "text/plain": [
       "Pipeline(steps=[('scaler',\n",
       "                 ColumnTransformer(transformers=[('scale', StandardScaler(),\n",
       "                                                  ['symboling', 'wheelbase',\n",
       "                                                   'carlength', 'carwidth',\n",
       "                                                   'curbweight',\n",
       "                                                   'cylindernumber',\n",
       "                                                   'enginesize', 'boreratio',\n",
       "                                                   'stroke', 'compressionratio',\n",
       "                                                   'horsepower', 'peakrpm']),\n",
       "                                                 ('encode', OneHotEncoder(),\n",
       "                                                  ['fueltype', 'aspiration',\n",
       "                                                   'doornumber', 'carbody',\n",
       "                                                   'drivewheel',\n",
       "                                                   'enginelocation',\n",
       "                                                   'enginetype'])])),\n",
       "                ('model', DecisionTreeRegressor(random_state=1))])"
      ]
     },
     "execution_count": 31,
     "metadata": {},
     "output_type": "execute_result"
    }
   ],
   "source": [
    "pipe_dt.fit(X_train,y_train)"
   ]
  },
  {
   "cell_type": "markdown",
   "metadata": {},
   "source": [
    "## Polynomial Regression"
   ]
  },
  {
   "cell_type": "code",
   "execution_count": 32,
   "metadata": {},
   "outputs": [
    {
     "data": {
      "text/plain": [
       "LinearRegression()"
      ]
     },
     "execution_count": 32,
     "metadata": {},
     "output_type": "execute_result"
    }
   ],
   "source": [
    "# preprocessing for polynomial regression\n",
    "pipe_prep.fit(X_train)\n",
    "X_train_scale = pipe_prep.transform(X_train)\n",
    "X_test_scale = pipe_prep.transform(X_test)\n",
    "\n",
    "X_train_poly = poly.fit_transform(X_train_scale)\n",
    "X_test_poly = poly.transform(X_test_scale)\n",
    "# polynomial data training\n",
    "linreg_poly.fit(X_train_poly,y_train)"
   ]
  },
  {
   "cell_type": "markdown",
   "metadata": {},
   "source": [
    "# Model Evaluation"
   ]
  },
  {
   "cell_type": "markdown",
   "metadata": {},
   "source": [
    "### Regresi linear"
   ]
  },
  {
   "cell_type": "code",
   "execution_count": 33,
   "metadata": {},
   "outputs": [
    {
     "data": {
      "text/plain": [
       "array([16332.76104274, 17093.79320039, 16135.25003388, 22577.07817777,\n",
       "       14428.6067011 ,  6301.10204994,  5776.64477413,  8177.96977793,\n",
       "        7753.31971183, 36234.61173037, 16819.53526544, 33674.69413481,\n",
       "        9792.08355705, 12546.37339767,  7049.68380327,  9101.86513244,\n",
       "        9905.91887471, 16052.90001097, 20840.95367996,  7936.40014753,\n",
       "        6246.27677478, 27625.42077089,  9056.79849311,  6610.83973165,\n",
       "       32686.66999071, 15963.28500983,  8600.96218768, 12422.49735364,\n",
       "        5573.35908884, 27525.52062194, 12546.37339767, 11320.4438139 ,\n",
       "       10521.50559403,  8038.6426567 , 13027.1468717 , 16597.42524499,\n",
       "       20265.83710149,  6103.26059594,  6521.59385969, 15390.0854529 ,\n",
       "        7656.2991425 ,  5377.49452325, 14813.65733491, 33674.69413481,\n",
       "       16191.70632095, 20750.19682921,  9999.22607701, 13203.25080817,\n",
       "       11312.54465093, 32586.48681895, 16856.07071549,  7407.12678189,\n",
       "        8019.33909146, 16245.45877315,  8802.88989168, 12623.81050776,\n",
       "       19249.48673363, 21648.65713852,  6045.54934471, 23154.92337718,\n",
       "        6921.44777073,  5674.06204703,  6123.14587317,  6854.19647245,\n",
       "       12279.36864139, 35468.97590069,  9274.02896958,  8725.64329179,\n",
       "       20617.94053649, 16332.76104274, 15166.15199182,  7963.96790398,\n",
       "       10387.83471471, 27564.51069317, 12558.64650356, 17712.10838529,\n",
       "        6042.14337433, 17173.3018082 , 32586.48681895,  9497.28062064,\n",
       "        6857.62762013,  5125.25269679,  6704.75759848,  9080.01809945,\n",
       "        8659.40925619,  6774.65705766,  9751.27774056, 10928.24272988,\n",
       "       12627.04361986, 13388.92728245,  6302.48436394, 10097.41092409,\n",
       "       10564.32977455, 18325.37583297, 31400.5       ,  8160.64919973,\n",
       "        8329.57848192, 18980.98928563,  9285.00865044, 16197.75687801,\n",
       "        7932.05782868,  6262.46378477, 12758.81467249, 10005.28598115,\n",
       "       14163.61555153, 28013.39299521,  9683.02845251, 14182.61542485,\n",
       "       16892.48004627, 14801.38422903,  6137.31385711,  7446.86918986,\n",
       "        8031.46165628,  7520.48198957,  6246.27677478, 11210.29931677,\n",
       "       12786.45901921,  5597.90530061,  6712.85392671, 13167.30828491,\n",
       "       16181.36588338,  4333.78211539, 18985.87930318,  8160.64919973,\n",
       "       22253.74176969, 22625.80493984, 10607.05205217, 11788.8893311 ,\n",
       "       15166.15199182,  9412.2183243 ,  5673.5506847 , 11442.84012279,\n",
       "       16840.90327091, 20272.12281814, 21412.23718935, 11439.81577415,\n",
       "        5970.9593602 ,  9520.4352224 , 29205.86859627,  5610.17840649,\n",
       "        7664.65041091,  8076.88047812,  6886.10654775,  9243.32833015,\n",
       "        6281.76340018, 20469.68380801,  7130.83549734,  9394.55831404,\n",
       "        7446.86918986,  6610.56860837, 41715.75716286, 13012.66715076,\n",
       "        8588.65686199, 16201.00285279, 14594.3156049 , 14432.44923251,\n",
       "        8200.49896622, 40613.57553463,  9357.96512984,  7576.56001492])"
      ]
     },
     "execution_count": 33,
     "metadata": {},
     "output_type": "execute_result"
    }
   ],
   "source": [
    "pipe_linreg.predict(X_train)"
   ]
  },
  {
   "cell_type": "code",
   "execution_count": 34,
   "metadata": {},
   "outputs": [],
   "source": [
    "y_pred_ltest = pipe_linreg.predict(X_test)\n",
    "y_pred_ltrain = pipe_linreg.predict(X_train)"
   ]
  },
  {
   "cell_type": "code",
   "execution_count": 35,
   "metadata": {},
   "outputs": [
    {
     "name": "stdout",
     "output_type": "stream",
     "text": [
      "R2 train  0.947197160839983\n",
      "R2 test  0.6946274512480354\n",
      "MAPE train  0.10999518520164757\n",
      "MAPE test  0.20161735802955535\n",
      "MAE train  1343.7375036167527\n",
      "MAE test  2569.132978727904\n"
     ]
    }
   ],
   "source": [
    "print('R2 train ', r2_score(y_train,y_pred_ltrain))\n",
    "print('R2 test ', r2_score(y_test,y_pred_ltest))\n",
    "print('MAPE train ',mean_absolute_percentage_error(y_train,y_pred_ltrain))\n",
    "print('MAPE test ', mean_absolute_percentage_error(y_test ,y_pred_ltest))\n",
    "print('MAE train ',mean_absolute_error(y_train,y_pred_ltrain))\n",
    "print('MAE test ', mean_absolute_error(y_test ,y_pred_ltest))"
   ]
  },
  {
   "cell_type": "markdown",
   "metadata": {},
   "source": [
    "Hasil dari base model linear regression sangat bagus pada saat training data namun berubah sangat buruk saat testing pada data baru. Hal ini mengindikasikan performa model yang *overfit* artinya model hanya dapat dengan baik memprediksi saat training namun jika dihadapkan pada data baru kemampuannya menurun cukup jauh."
   ]
  },
  {
   "cell_type": "markdown",
   "metadata": {},
   "source": [
    "### Regresi Ridge"
   ]
  },
  {
   "cell_type": "code",
   "execution_count": 36,
   "metadata": {},
   "outputs": [
    {
     "name": "stdout",
     "output_type": "stream",
     "text": [
      "R2 train  0.9425238069985722\n",
      "R2 test  0.7384680364385052\n",
      "MAPE train  0.11580842747542938\n",
      "MAPE test  0.19834600348649295\n",
      "MAE train  1431.7248741030137\n",
      "MAE test  2483.127220115265\n"
     ]
    }
   ],
   "source": [
    "y_pred_rtest = pipe_ridge.predict(X_test)\n",
    "y_pred_rtrain = pipe_ridge.predict(X_train)\n",
    "print('R2 train ', r2_score(y_train,y_pred_rtrain))\n",
    "print('R2 test ', r2_score(y_test,y_pred_rtest))\n",
    "print('MAPE train ',mean_absolute_percentage_error(y_train,y_pred_rtrain))\n",
    "print('MAPE test ', mean_absolute_percentage_error(y_test ,y_pred_rtest))\n",
    "print('MAE train ',mean_absolute_error(y_train,y_pred_rtrain))\n",
    "print('MAE test ', mean_absolute_error(y_test ,y_pred_rtest))"
   ]
  },
  {
   "cell_type": "markdown",
   "metadata": {},
   "source": [
    "Hasil prediksi regresi ridge pun *overfit* walau ada kenaikan nilai r2 score test. Jika dilihat dari MAE model performanya *goodfit*, walau tetap pada MAE model terindikasi *overfit*. Namun performa model saat menguji data test mengalami peningkatan menjadi lebih baik."
   ]
  },
  {
   "cell_type": "markdown",
   "metadata": {},
   "source": [
    "### Regresi Lasso"
   ]
  },
  {
   "cell_type": "code",
   "execution_count": 37,
   "metadata": {},
   "outputs": [
    {
     "name": "stdout",
     "output_type": "stream",
     "text": [
      "R2 train  0.9471968830779041\n",
      "R2 test  0.6947255648760378\n",
      "MAPE train  0.10999691780386503\n",
      "MAPE test  0.201488152519041\n",
      "MAE train  1343.9413670022634\n",
      "MAE test  2568.1698746552784\n"
     ]
    }
   ],
   "source": [
    "y_pred_lastest = pipe_lasso.predict(X_test)\n",
    "y_pred_lastrain = pipe_lasso.predict(X_train)\n",
    "print('R2 train ', r2_score(y_train,y_pred_lastrain))\n",
    "print('R2 test ', r2_score(y_test,y_pred_lastest))\n",
    "print('MAPE train ',mean_absolute_percentage_error(y_train,y_pred_lastrain))\n",
    "print('MAPE test ', mean_absolute_percentage_error(y_test ,y_pred_lastest))\n",
    "print('MAE train ',mean_absolute_error(y_train,y_pred_lastrain))\n",
    "print('MAE test ', mean_absolute_error(y_test ,y_pred_lastest))"
   ]
  },
  {
   "cell_type": "markdown",
   "metadata": {},
   "source": [
    "Hasil evaluasi regresi Lasso adalah *overfit* untuk semua metrik evaluasinya."
   ]
  },
  {
   "cell_type": "markdown",
   "metadata": {},
   "source": [
    "### Random Forest"
   ]
  },
  {
   "cell_type": "code",
   "execution_count": 38,
   "metadata": {},
   "outputs": [
    {
     "name": "stdout",
     "output_type": "stream",
     "text": [
      "R2 train  0.9868326589665841\n",
      "R2 test  0.9392543125796188\n",
      "MAPE train  0.04608727827689614\n",
      "MAPE test  0.10067874040142724\n",
      "MAE train  627.3665253988095\n",
      "MAE test  1394.8224164999997\n"
     ]
    }
   ],
   "source": [
    "y_pred_rftest = pipe_rf.predict(X_test)\n",
    "y_pred_rftrain = pipe_rf.predict(X_train)\n",
    "print('R2 train ', r2_score(y_train,y_pred_rftrain))\n",
    "print('R2 test ', r2_score(y_test,y_pred_rftest))\n",
    "print('MAPE train ',mean_absolute_percentage_error(y_train,y_pred_rftrain))\n",
    "print('MAPE test ', mean_absolute_percentage_error(y_test ,y_pred_rftest))\n",
    "print('MAE train ',mean_absolute_error(y_train,y_pred_rftrain))\n",
    "print('MAE test ', mean_absolute_error(y_test ,y_pred_rftest))"
   ]
  },
  {
   "cell_type": "markdown",
   "metadata": {},
   "source": [
    "Hasil evaluasi model random forest menunjukkan model yang cukup *goodfit* pada metriks r2 score dan MAPE, namun pada MAE model *overfit*"
   ]
  },
  {
   "cell_type": "markdown",
   "metadata": {},
   "source": [
    "### Decision Tree"
   ]
  },
  {
   "cell_type": "code",
   "execution_count": 39,
   "metadata": {},
   "outputs": [
    {
     "name": "stdout",
     "output_type": "stream",
     "text": [
      "R2 train  0.9987911612176267\n",
      "R2 test  0.886020145007379\n",
      "MAPE train  0.0038328923343076858\n",
      "MAPE test  0.10982694724003847\n",
      "MAE train  66.7\n",
      "MAE test  1612.6875\n"
     ]
    }
   ],
   "source": [
    "y_pred_dtest = pipe_dt.predict(X_test)\n",
    "y_pred_dtrain = pipe_dt.predict(X_train)\n",
    "print('R2 train ', r2_score(y_train,y_pred_dtrain))\n",
    "print('R2 test ', r2_score(y_test,y_pred_dtest))\n",
    "print('MAPE train ',mean_absolute_percentage_error(y_train,y_pred_dtrain))\n",
    "print('MAPE test ', mean_absolute_percentage_error(y_test ,y_pred_dtest))\n",
    "print('MAE train ',mean_absolute_error(y_train,y_pred_dtrain))\n",
    "print('MAE test ', mean_absolute_error(y_test ,y_pred_dtest))"
   ]
  },
  {
   "cell_type": "markdown",
   "metadata": {},
   "source": [
    "Overfitting pada model decision tree berdasarkan semua metrik, walau begitu prediksi data testnya masih lebih baik pada r2 score dibanding model regresi lainnya."
   ]
  },
  {
   "cell_type": "markdown",
   "metadata": {},
   "source": [
    "### Polynomial"
   ]
  },
  {
   "cell_type": "code",
   "execution_count": 40,
   "metadata": {},
   "outputs": [],
   "source": [
    "y_pred_ptrain = linreg_poly.predict(X_train_poly)\n",
    "y_pred_ptest = linreg_poly.predict(X_test_poly)"
   ]
  },
  {
   "cell_type": "code",
   "execution_count": 41,
   "metadata": {},
   "outputs": [
    {
     "name": "stdout",
     "output_type": "stream",
     "text": [
      "R2 train  0.9942127195615676\n",
      "R2 test  -1.279588150259468e+25\n",
      "MAPE train  0.03793589720980226\n",
      "MAPE test  229505867863.30234\n",
      "MAE train  436.76770625\n",
      "MAE test  6239399504875037.0\n"
     ]
    }
   ],
   "source": [
    "print('R2 train ', r2_score(y_train,y_pred_ptrain))\n",
    "print('R2 test ', r2_score(y_test,y_pred_ptest))\n",
    "print('MAPE train ',mean_absolute_percentage_error(y_train,y_pred_ptrain))\n",
    "print('MAPE test ', mean_absolute_percentage_error(y_test ,y_pred_ptest))\n",
    "print('MAE train ',mean_absolute_error(y_train,y_pred_ptrain))\n",
    "print('MAE test ', mean_absolute_error(y_test ,y_pred_ptest))"
   ]
  },
  {
   "cell_type": "markdown",
   "metadata": {},
   "source": [
    "Hasil prediksi pada regresi polinomial mendekati sempurna saat training data, namun menurun drastis saat menguji dengan data baru (X_test). Performa model regresi polinomial pun sangat *overfitting*.\n",
    "\n",
    "Dari seluruh hasil prediksi model, model dengan performa yang baik adalah model Random Forest dan Regresi Ridge. Kedua model tersebut terindikasi *goodfit* dari satu atau lebih metrik. Namun model yang dipilih adalah model **random forest** karena nilai r2 score lebih tinggi dan nilai MAPE nya lebih rendah dari ridge."
   ]
  },
  {
   "cell_type": "markdown",
   "metadata": {},
   "source": [
    "## Hyperparameter Tuning"
   ]
  },
  {
   "cell_type": "markdown",
   "metadata": {},
   "source": [
    "Model terbaik yang dipilih adalah Random Forest Regressor, maka selanjutnya akan dilakukan tuning hyperparameternya"
   ]
  },
  {
   "cell_type": "code",
   "execution_count": 42,
   "metadata": {},
   "outputs": [],
   "source": [
    "par_rf = {\n",
    "    'model__n_estimators': [50,70],\n",
    "    'model__criterion' : ['squared_error','absolute_error','poisson'],\n",
    "    'model__max_features' :['auto','sqrt','log2']\n",
    "}"
   ]
  },
  {
   "cell_type": "code",
   "execution_count": 43,
   "metadata": {},
   "outputs": [],
   "source": [
    "grid2 = GridSearchCV(pipe_rf,par_rf).fit(X_train, y_train)"
   ]
  },
  {
   "cell_type": "code",
   "execution_count": 44,
   "metadata": {},
   "outputs": [
    {
     "name": "stdout",
     "output_type": "stream",
     "text": [
      "score train:  0.9856446133338038\n",
      "score test:  0.9393572945749717\n"
     ]
    }
   ],
   "source": [
    "print('score train: ',grid2.score(X_train, y_train))\n",
    "print('score test: ',grid2.score(X_test, y_test))"
   ]
  },
  {
   "cell_type": "code",
   "execution_count": 45,
   "metadata": {},
   "outputs": [
    {
     "data": {
      "text/plain": [
       "Pipeline(steps=[('scaler',\n",
       "                 ColumnTransformer(transformers=[('scale', StandardScaler(),\n",
       "                                                  ['symboling', 'wheelbase',\n",
       "                                                   'carlength', 'carwidth',\n",
       "                                                   'curbweight',\n",
       "                                                   'cylindernumber',\n",
       "                                                   'enginesize', 'boreratio',\n",
       "                                                   'stroke', 'compressionratio',\n",
       "                                                   'horsepower', 'peakrpm']),\n",
       "                                                 ('encode', OneHotEncoder(),\n",
       "                                                  ['fueltype', 'aspiration',\n",
       "                                                   'doornumber', 'carbody',\n",
       "                                                   'drivewheel',\n",
       "                                                   'enginelocation',\n",
       "                                                   'enginetype'])])),\n",
       "                ('model',\n",
       "                 RandomForestRegressor(n_estimators=50, random_state=1))])"
      ]
     },
     "execution_count": 45,
     "metadata": {},
     "output_type": "execute_result"
    }
   ],
   "source": [
    "pipe_best = grid2.best_estimator_\n",
    "pipe_best"
   ]
  },
  {
   "cell_type": "code",
   "execution_count": 46,
   "metadata": {},
   "outputs": [
    {
     "data": {
      "text/plain": [
       "Pipeline(steps=[('scaler',\n",
       "                 ColumnTransformer(transformers=[('scale', StandardScaler(),\n",
       "                                                  ['symboling', 'wheelbase',\n",
       "                                                   'carlength', 'carwidth',\n",
       "                                                   'curbweight',\n",
       "                                                   'cylindernumber',\n",
       "                                                   'enginesize', 'boreratio',\n",
       "                                                   'stroke', 'compressionratio',\n",
       "                                                   'horsepower', 'peakrpm']),\n",
       "                                                 ('encode', OneHotEncoder(),\n",
       "                                                  ['fueltype', 'aspiration',\n",
       "                                                   'doornumber', 'carbody',\n",
       "                                                   'drivewheel',\n",
       "                                                   'enginelocation',\n",
       "                                                   'enginetype'])])),\n",
       "                ('model',\n",
       "                 RandomForestRegressor(n_estimators=50, random_state=1))])"
      ]
     },
     "execution_count": 46,
     "metadata": {},
     "output_type": "execute_result"
    }
   ],
   "source": [
    "pipe_best.fit(X_train,y_train)"
   ]
  },
  {
   "cell_type": "code",
   "execution_count": 47,
   "metadata": {},
   "outputs": [],
   "source": [
    "y_pred_btrain = pipe_best.predict(X_train)\n",
    "y_pred_btest = pipe_best.predict(X_test)"
   ]
  },
  {
   "cell_type": "code",
   "execution_count": 48,
   "metadata": {},
   "outputs": [
    {
     "name": "stdout",
     "output_type": "stream",
     "text": [
      "R2 train  0.9856446133338038\n",
      "R2 test  0.9393572945749717\n",
      "MAPE train  0.047363316688020296\n",
      "MAPE test  0.09864891990904957\n",
      "MAE train  646.721870125\n",
      "MAE test  1373.0809168333333\n"
     ]
    }
   ],
   "source": [
    "print('R2 train ', r2_score(y_train,y_pred_btrain))\n",
    "print('R2 test ', r2_score(y_test,y_pred_btest))\n",
    "print('MAPE train ',mean_absolute_percentage_error(y_train,y_pred_btrain))\n",
    "print('MAPE test ', mean_absolute_percentage_error(y_test ,y_pred_btest))\n",
    "print('MAE train ',mean_absolute_error(y_train,y_pred_btrain))\n",
    "print('MAE test ', mean_absolute_error(y_test ,y_pred_btest))"
   ]
  },
  {
   "cell_type": "markdown",
   "metadata": {},
   "source": [
    "Hasil dari model estimator terbaik cenderung *goodfit* pada R2 dan MAPE, dibanding dengan hasil baseline model random forest pada data training terjadi penurunan performa (dari 0.9868 menjadi 0.9856 pada R2) dan pada data testing terjadi kenaikan performa model (dari 0.1006 menjadi 0.098 pada MAPE) walaupun perubahannya tidak signifikan. "
   ]
  },
  {
   "cell_type": "markdown",
   "metadata": {},
   "source": [
    "# Model Saving"
   ]
  },
  {
   "cell_type": "code",
   "execution_count": null,
   "metadata": {},
   "outputs": [],
   "source": [
    "import pickle\n",
    "with open('model.pkl','wb') as f:\n",
    "    pickle.dump(pipe_best, f)"
   ]
  },
  {
   "cell_type": "markdown",
   "metadata": {},
   "source": [
    "# Model Inference"
   ]
  },
  {
   "cell_type": "code",
   "execution_count": 49,
   "metadata": {},
   "outputs": [
    {
     "data": {
      "text/html": [
       "<div>\n",
       "<style scoped>\n",
       "    .dataframe tbody tr th:only-of-type {\n",
       "        vertical-align: middle;\n",
       "    }\n",
       "\n",
       "    .dataframe tbody tr th {\n",
       "        vertical-align: top;\n",
       "    }\n",
       "\n",
       "    .dataframe thead th {\n",
       "        text-align: right;\n",
       "    }\n",
       "</style>\n",
       "<table border=\"1\" class=\"dataframe\">\n",
       "  <thead>\n",
       "    <tr style=\"text-align: right;\">\n",
       "      <th></th>\n",
       "      <th>symboling</th>\n",
       "      <th>fueltype</th>\n",
       "      <th>aspiration</th>\n",
       "      <th>doornumber</th>\n",
       "      <th>carbody</th>\n",
       "      <th>drivewheel</th>\n",
       "      <th>enginelocation</th>\n",
       "      <th>wheelbase</th>\n",
       "      <th>carlength</th>\n",
       "      <th>carwidth</th>\n",
       "      <th>curbweight</th>\n",
       "      <th>enginetype</th>\n",
       "      <th>cylindernumber</th>\n",
       "      <th>enginesize</th>\n",
       "      <th>boreratio</th>\n",
       "      <th>stroke</th>\n",
       "      <th>compressionratio</th>\n",
       "      <th>horsepower</th>\n",
       "      <th>peakrpm</th>\n",
       "      <th>price</th>\n",
       "    </tr>\n",
       "  </thead>\n",
       "  <tbody>\n",
       "    <tr>\n",
       "      <th>78</th>\n",
       "      <td>2</td>\n",
       "      <td>gas</td>\n",
       "      <td>std</td>\n",
       "      <td>two</td>\n",
       "      <td>hatchback</td>\n",
       "      <td>fwd</td>\n",
       "      <td>front</td>\n",
       "      <td>93.7</td>\n",
       "      <td>157.3</td>\n",
       "      <td>64.4</td>\n",
       "      <td>2004</td>\n",
       "      <td>ohc</td>\n",
       "      <td>4</td>\n",
       "      <td>92</td>\n",
       "      <td>2.97</td>\n",
       "      <td>3.23</td>\n",
       "      <td>9.4</td>\n",
       "      <td>68</td>\n",
       "      <td>5500</td>\n",
       "      <td>6669.0</td>\n",
       "    </tr>\n",
       "    <tr>\n",
       "      <th>97</th>\n",
       "      <td>1</td>\n",
       "      <td>gas</td>\n",
       "      <td>std</td>\n",
       "      <td>four</td>\n",
       "      <td>wagon</td>\n",
       "      <td>fwd</td>\n",
       "      <td>front</td>\n",
       "      <td>94.5</td>\n",
       "      <td>170.2</td>\n",
       "      <td>63.8</td>\n",
       "      <td>2037</td>\n",
       "      <td>ohc</td>\n",
       "      <td>4</td>\n",
       "      <td>97</td>\n",
       "      <td>3.15</td>\n",
       "      <td>3.29</td>\n",
       "      <td>9.4</td>\n",
       "      <td>69</td>\n",
       "      <td>5200</td>\n",
       "      <td>7999.0</td>\n",
       "    </tr>\n",
       "    <tr>\n",
       "      <th>151</th>\n",
       "      <td>1</td>\n",
       "      <td>gas</td>\n",
       "      <td>std</td>\n",
       "      <td>two</td>\n",
       "      <td>hatchback</td>\n",
       "      <td>fwd</td>\n",
       "      <td>front</td>\n",
       "      <td>95.7</td>\n",
       "      <td>158.7</td>\n",
       "      <td>63.6</td>\n",
       "      <td>2040</td>\n",
       "      <td>ohc</td>\n",
       "      <td>4</td>\n",
       "      <td>92</td>\n",
       "      <td>3.05</td>\n",
       "      <td>3.03</td>\n",
       "      <td>9.0</td>\n",
       "      <td>62</td>\n",
       "      <td>4800</td>\n",
       "      <td>6338.0</td>\n",
       "    </tr>\n",
       "    <tr>\n",
       "      <th>44</th>\n",
       "      <td>1</td>\n",
       "      <td>gas</td>\n",
       "      <td>std</td>\n",
       "      <td>two</td>\n",
       "      <td>sedan</td>\n",
       "      <td>fwd</td>\n",
       "      <td>front</td>\n",
       "      <td>94.5</td>\n",
       "      <td>155.9</td>\n",
       "      <td>63.6</td>\n",
       "      <td>1874</td>\n",
       "      <td>ohc</td>\n",
       "      <td>4</td>\n",
       "      <td>90</td>\n",
       "      <td>3.03</td>\n",
       "      <td>3.11</td>\n",
       "      <td>9.6</td>\n",
       "      <td>70</td>\n",
       "      <td>5400</td>\n",
       "      <td>8916.5</td>\n",
       "    </tr>\n",
       "    <tr>\n",
       "      <th>40</th>\n",
       "      <td>0</td>\n",
       "      <td>gas</td>\n",
       "      <td>std</td>\n",
       "      <td>four</td>\n",
       "      <td>sedan</td>\n",
       "      <td>fwd</td>\n",
       "      <td>front</td>\n",
       "      <td>96.5</td>\n",
       "      <td>175.4</td>\n",
       "      <td>62.5</td>\n",
       "      <td>2372</td>\n",
       "      <td>ohc</td>\n",
       "      <td>4</td>\n",
       "      <td>110</td>\n",
       "      <td>3.15</td>\n",
       "      <td>3.58</td>\n",
       "      <td>9.0</td>\n",
       "      <td>86</td>\n",
       "      <td>5800</td>\n",
       "      <td>10295.0</td>\n",
       "    </tr>\n",
       "  </tbody>\n",
       "</table>\n",
       "</div>"
      ],
      "text/plain": [
       "     symboling fueltype aspiration doornumber    carbody drivewheel  \\\n",
       "78           2      gas        std        two  hatchback        fwd   \n",
       "97           1      gas        std       four      wagon        fwd   \n",
       "151          1      gas        std        two  hatchback        fwd   \n",
       "44           1      gas        std        two      sedan        fwd   \n",
       "40           0      gas        std       four      sedan        fwd   \n",
       "\n",
       "    enginelocation  wheelbase  carlength  carwidth  curbweight enginetype  \\\n",
       "78           front       93.7      157.3      64.4        2004        ohc   \n",
       "97           front       94.5      170.2      63.8        2037        ohc   \n",
       "151          front       95.7      158.7      63.6        2040        ohc   \n",
       "44           front       94.5      155.9      63.6        1874        ohc   \n",
       "40           front       96.5      175.4      62.5        2372        ohc   \n",
       "\n",
       "     cylindernumber  enginesize  boreratio  stroke  compressionratio  \\\n",
       "78                4          92       2.97    3.23               9.4   \n",
       "97                4          97       3.15    3.29               9.4   \n",
       "151               4          92       3.05    3.03               9.0   \n",
       "44                4          90       3.03    3.11               9.6   \n",
       "40                4         110       3.15    3.58               9.0   \n",
       "\n",
       "     horsepower  peakrpm    price  \n",
       "78           68     5500   6669.0  \n",
       "97           69     5200   7999.0  \n",
       "151          62     4800   6338.0  \n",
       "44           70     5400   8916.5  \n",
       "40           86     5800  10295.0  "
      ]
     },
     "execution_count": 49,
     "metadata": {},
     "output_type": "execute_result"
    }
   ],
   "source": [
    "inf2"
   ]
  },
  {
   "cell_type": "code",
   "execution_count": 50,
   "metadata": {},
   "outputs": [],
   "source": [
    "pred = pipe_best.predict(inf2)"
   ]
  },
  {
   "cell_type": "code",
   "execution_count": 51,
   "metadata": {},
   "outputs": [
    {
     "data": {
      "text/html": [
       "<div>\n",
       "<style scoped>\n",
       "    .dataframe tbody tr th:only-of-type {\n",
       "        vertical-align: middle;\n",
       "    }\n",
       "\n",
       "    .dataframe tbody tr th {\n",
       "        vertical-align: top;\n",
       "    }\n",
       "\n",
       "    .dataframe thead th {\n",
       "        text-align: right;\n",
       "    }\n",
       "</style>\n",
       "<table border=\"1\" class=\"dataframe\">\n",
       "  <thead>\n",
       "    <tr style=\"text-align: right;\">\n",
       "      <th></th>\n",
       "      <th>Harga asli</th>\n",
       "      <th>Harga prediksi</th>\n",
       "    </tr>\n",
       "  </thead>\n",
       "  <tbody>\n",
       "    <tr>\n",
       "      <th>78</th>\n",
       "      <td>6669.0</td>\n",
       "      <td>6369.46</td>\n",
       "    </tr>\n",
       "    <tr>\n",
       "      <th>97</th>\n",
       "      <td>7999.0</td>\n",
       "      <td>7351.90</td>\n",
       "    </tr>\n",
       "    <tr>\n",
       "      <th>151</th>\n",
       "      <td>6338.0</td>\n",
       "      <td>5987.72</td>\n",
       "    </tr>\n",
       "    <tr>\n",
       "      <th>44</th>\n",
       "      <td>8916.5</td>\n",
       "      <td>7160.37</td>\n",
       "    </tr>\n",
       "    <tr>\n",
       "      <th>40</th>\n",
       "      <td>10295.0</td>\n",
       "      <td>9241.38</td>\n",
       "    </tr>\n",
       "  </tbody>\n",
       "</table>\n",
       "</div>"
      ],
      "text/plain": [
       "     Harga asli  Harga prediksi\n",
       "78       6669.0         6369.46\n",
       "97       7999.0         7351.90\n",
       "151      6338.0         5987.72\n",
       "44       8916.5         7160.37\n",
       "40      10295.0         9241.38"
      ]
     },
     "execution_count": 51,
     "metadata": {},
     "output_type": "execute_result"
    }
   ],
   "source": [
    "prediction = pd.DataFrame({\n",
    "    'Harga asli': inf2.price,\n",
    "    'Harga prediksi' : pred\n",
    "})\n",
    "prediction"
   ]
  },
  {
   "cell_type": "markdown",
   "metadata": {},
   "source": [
    "Hasil prediksi dengan data baru menunjukkan hasil yang tidak berbeda jauh dari harga aktualnya"
   ]
  },
  {
   "cell_type": "markdown",
   "metadata": {},
   "source": [
    "# Kesimpulan\n",
    "\n",
    "Setelah melakukan pengolahan dataset harga mobil didapat beberapa insight yaitu:\n",
    "1. Variabel yang bersangkutan dengan karakter luar mobil seperti (carlength, carwidth, carheigth, wheelbase, curbweight), dan variabel yang bersangkutan dengan kemampuan mobil seperti horse power, city MPG, highway MPG multikolinier.\n",
    "2. Harga mobil termahal adalah yang berjenis hardtop dan convertible.\n",
    "\n",
    "\n",
    "Kemudian setelah mengenal dataset dilakukan pemisahan data antara target dan fitur, kemudian membuat pipeline preprocessing dimana isinya adlaah feature scaling dengan Standard Scaler dan Feature Encoding dengan One Hot Encoder. Pipeline yang selanjutnya dibentuk adalah pipeline model dimana terdapat 5 pipeline model, model polinomial tidak dibuat pipeline karena menggunakan model linear regression dalam memprediksi.\n",
    "Hasil dari prediksi keenam model didapatkan model yang lebih unggul dari model lainnya yaitu:\n",
    "1. Random Forest\n",
    "2. Regresi Ridge\n",
    "\n",
    "Model terbaiknya adalah Random Forest, sehingga dicarilah parameter terbaik dengan hyperparameter tunning dan dipilih estimator terbaiknya dengan menggunakan GridSearchCV. Estimator terbaiknya adalah `RandomForestRegressor(n_estimators=50, random_state=1)`.\n",
    "Hasil prediksi dengan data baru (inference) menunjukkan perbedaan yang tidak terlalu jauh dengan harga asli. "
   ]
  },
  {
   "cell_type": "markdown",
   "metadata": {},
   "source": [
    "# Referensi\n",
    "\n",
    "1. Allen, R. 2020. What Does MPI Mean on a Car?. [ITSTILLRUNS.](https://itstillruns.com/mpi-mean-car-8789902.html)\n",
    "2. Wasilaine, T. L., Talakua, M. W., & Lesnussa, Y. A. (2014). Model Regresi Ridge untuk Mengatasi Model Regresi Linier Berganda yang Mengandung Multikolinieritas. BAREKENG: Jurnal Ilmu Matematika dan Terapan, 8(1), 31-37. [pdf](https://ojs3.unpatti.ac.id/index.php/barekeng/article/download/261/212/)\n",
    "3. Malensang, J. S., Komalig, H., & Hatidja, D. (2013). Pengembangan Model Regresi Polinomial Berganda pada Kasus Data Pemasaran. Jurnal Ilmiah Sains, 12(2), 149-15\n",
    "4. Mulyahati, I. L. (2020). Implementasi Machine Learning Prediksi Harga Sewa Apartemen Menggunakan Algoritma Random Forest Melalui Framework Website Flask Python (Studi Kasus: Apartemen di DKI Jakarta Pada Website mamikos. com). [site](https://dspace.uii.ac.id/handle/123456789/23970)\n",
    "5. Robbani, M., Agustiani, F., & Herrhyanto, N. (2019). Regresi least absolute shrinkage and selection operator (LASSO) pada kasus inflasi di Indonesia tahun 2014-2017. Jurnal EurekaMatika, 7(2), 1-16. [pdf](https://ejournal.upi.edu/index.php/JEM/article/download/22130/10864)\n",
    "\n"
   ]
  },
  {
   "cell_type": "markdown",
   "metadata": {},
   "source": []
  }
 ],
 "metadata": {
  "interpreter": {
   "hash": "7d04c2ccdc77879c44c0e38a475c5c944666b751d27f26244a0b0bd35fcecd56"
  },
  "kernelspec": {
   "display_name": "Python 3.10.3 64-bit",
   "language": "python",
   "name": "python3"
  },
  "language_info": {
   "codemirror_mode": {
    "name": "ipython",
    "version": 3
   },
   "file_extension": ".py",
   "mimetype": "text/x-python",
   "name": "python",
   "nbconvert_exporter": "python",
   "pygments_lexer": "ipython3",
   "version": "3.10.3"
  },
  "orig_nbformat": 4
 },
 "nbformat": 4,
 "nbformat_minor": 2
}
