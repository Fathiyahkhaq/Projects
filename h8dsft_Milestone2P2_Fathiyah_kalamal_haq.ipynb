{
 "cells": [
  {
   "cell_type": "markdown",
   "metadata": {},
   "source": [
    "# Milestone 2 Phase 2\n",
    "Fathiyah Kalamal Haq - Batch 009\n",
    "\n",
    "# **Clickbait News Detector**\n",
    "\n",
    "Clickbait news are usually use when someone want to gain profit or up their account or a name of articles based on sensational headlines. People tends to click a news based on headline interest. Therefore, clickbait is used to attract reader's attention. The headlines has to make reader curious about what inside. Everytime they click the website, the website became more popular. There's some advantages and disadvantages by using clickbait. \n",
    "\n",
    "Advantages:\n",
    "- can upvote the websites so they get more viewers/readers and then get popularity.\n",
    "\n",
    "Disadvantages:\n",
    "- negative reaction\n",
    "- reader's disappointment, especially if the headline and the news is not relevant\n",
    "- misleading information\n",
    "\n",
    "Especially when the clickbait is about something sensitive like president campaign, racist news,etc. It is very useful if we can classify whether the news is a clickbait or not. To classify if a news is clickbait or not, Deep Neural Network model can predict this case study. \n",
    "\n",
    "I compare RNN and NN model to predict and choose the best architecture for news classification. The dataset source is from [kaggle](https://www.kaggle.com/datasets/amananandrai/clickbait-dataset) that consist of 2 columns (headline and clickbait). The clickbait column is binary where 1 is clickbait and 0 is normal news. The clickbait news  are collected from sites such as ‘BuzzFeed’, ‘Upworthy’, ‘ViralNova’, ‘Thatscoop’, ‘Scoopwhoop’ and ‘ViralStories’.\n",
    "The relevant or non-clickbait headlines are collected from many trustworthy news sites such as ‘WikiNews’, ’New York Times’, ‘The Guardian’, and ‘The Hindu’.\n",
    "\n",
    "You can detect clickbait news in the apps I build [here](https://click-detect-fath.herokuapp.com/) "
   ]
  },
  {
   "cell_type": "markdown",
   "metadata": {},
   "source": [
    "# Import Libraries"
   ]
  },
  {
   "cell_type": "code",
   "execution_count": 280,
   "metadata": {},
   "outputs": [],
   "source": [
    "import pandas as pd\n",
    "import numpy as np\n",
    "import matplotlib.pyplot as plt\n",
    "# EDA\n",
    "from nltk.corpus import stopwords\n",
    "import string\n",
    "#preprocessing\n",
    "from sklearn.model_selection import train_test_split\n",
    "from tensorflow.keras.layers import TextVectorization\n",
    "from tensorflow.data import Dataset\n",
    "from tensorflow.keras.layers import Embedding\n",
    "# model \n",
    "from tensorflow.keras.layers import Input, Dense, GlobalAveragePooling1D, LSTM, GRU, Dropout\n",
    "from tensorflow.keras import Model\n",
    "from tensorflow.keras.callbacks import EarlyStopping\n",
    "# metrics\n",
    "from sklearn.metrics import classification_report\n",
    "from tensorflow.keras.models import load_model\n",
    "\n",
    "import warnings\n",
    "warnings.filterwarnings('ignore')"
   ]
  },
  {
   "cell_type": "markdown",
   "metadata": {},
   "source": [
    "# Data Loading"
   ]
  },
  {
   "cell_type": "markdown",
   "metadata": {},
   "source": [
    "First, let's load the dataset..."
   ]
  },
  {
   "cell_type": "code",
   "execution_count": 94,
   "metadata": {},
   "outputs": [
    {
     "data": {
      "text/html": [
       "<div>\n",
       "<style scoped>\n",
       "    .dataframe tbody tr th:only-of-type {\n",
       "        vertical-align: middle;\n",
       "    }\n",
       "\n",
       "    .dataframe tbody tr th {\n",
       "        vertical-align: top;\n",
       "    }\n",
       "\n",
       "    .dataframe thead th {\n",
       "        text-align: right;\n",
       "    }\n",
       "</style>\n",
       "<table border=\"1\" class=\"dataframe\">\n",
       "  <thead>\n",
       "    <tr style=\"text-align: right;\">\n",
       "      <th></th>\n",
       "      <th>headline</th>\n",
       "      <th>clickbait</th>\n",
       "    </tr>\n",
       "  </thead>\n",
       "  <tbody>\n",
       "    <tr>\n",
       "      <th>0</th>\n",
       "      <td>Should I Get Bings</td>\n",
       "      <td>1</td>\n",
       "    </tr>\n",
       "    <tr>\n",
       "      <th>1</th>\n",
       "      <td>Which TV Female Friend Group Do You Belong In</td>\n",
       "      <td>1</td>\n",
       "    </tr>\n",
       "    <tr>\n",
       "      <th>2</th>\n",
       "      <td>The New \"Star Wars: The Force Awakens\" Trailer...</td>\n",
       "      <td>1</td>\n",
       "    </tr>\n",
       "    <tr>\n",
       "      <th>3</th>\n",
       "      <td>This Vine Of New York On \"Celebrity Big Brothe...</td>\n",
       "      <td>1</td>\n",
       "    </tr>\n",
       "    <tr>\n",
       "      <th>4</th>\n",
       "      <td>A Couple Did A Stunning Photo Shoot With Their...</td>\n",
       "      <td>1</td>\n",
       "    </tr>\n",
       "  </tbody>\n",
       "</table>\n",
       "</div>"
      ],
      "text/plain": [
       "                                            headline  clickbait\n",
       "0                                 Should I Get Bings          1\n",
       "1      Which TV Female Friend Group Do You Belong In          1\n",
       "2  The New \"Star Wars: The Force Awakens\" Trailer...          1\n",
       "3  This Vine Of New York On \"Celebrity Big Brothe...          1\n",
       "4  A Couple Did A Stunning Photo Shoot With Their...          1"
      ]
     },
     "execution_count": 94,
     "metadata": {},
     "output_type": "execute_result"
    }
   ],
   "source": [
    "df = pd.read_csv('clickbait_data.csv')\n",
    "df.head()"
   ]
  },
  {
   "cell_type": "code",
   "execution_count": 95,
   "metadata": {},
   "outputs": [],
   "source": [
    "data = df.copy()"
   ]
  },
  {
   "cell_type": "markdown",
   "metadata": {},
   "source": [
    "copy the dataset so if there's any kind of modification in the dataset, I can use this dataset copy."
   ]
  },
  {
   "cell_type": "code",
   "execution_count": 96,
   "metadata": {},
   "outputs": [
    {
     "name": "stdout",
     "output_type": "stream",
     "text": [
      "<class 'pandas.core.frame.DataFrame'>\n",
      "RangeIndex: 32000 entries, 0 to 31999\n",
      "Data columns (total 2 columns):\n",
      " #   Column     Non-Null Count  Dtype \n",
      "---  ------     --------------  ----- \n",
      " 0   headline   32000 non-null  object\n",
      " 1   clickbait  32000 non-null  int64 \n",
      "dtypes: int64(1), object(1)\n",
      "memory usage: 500.1+ KB\n"
     ]
    }
   ],
   "source": [
    "df.info()"
   ]
  },
  {
   "cell_type": "markdown",
   "metadata": {},
   "source": [
    "There's no missing values, the dataset consist of 32000 rows and 2 columns which are the feature (headline) and the target (clickbait)."
   ]
  },
  {
   "cell_type": "code",
   "execution_count": 97,
   "metadata": {},
   "outputs": [
    {
     "data": {
      "text/plain": [
       "headline     32000\n",
       "clickbait        2\n",
       "dtype: int64"
      ]
     },
     "execution_count": 97,
     "metadata": {},
     "output_type": "execute_result"
    }
   ],
   "source": [
    "df.nunique()"
   ]
  },
  {
   "cell_type": "markdown",
   "metadata": {},
   "source": [
    "There's no duplicate data since every headlines are unique. The clickbait column separate into two categories."
   ]
  },
  {
   "cell_type": "code",
   "execution_count": 98,
   "metadata": {},
   "outputs": [
    {
     "data": {
      "text/plain": [
       "headline     0\n",
       "clickbait    0\n",
       "dtype: int64"
      ]
     },
     "execution_count": 98,
     "metadata": {},
     "output_type": "execute_result"
    }
   ],
   "source": [
    "df.isnull().sum()"
   ]
  },
  {
   "cell_type": "markdown",
   "metadata": {},
   "source": [
    "There's no missing values in the dataset."
   ]
  },
  {
   "cell_type": "markdown",
   "metadata": {},
   "source": [
    "# Exploratory Data Analysis"
   ]
  },
  {
   "cell_type": "markdown",
   "metadata": {},
   "source": [
    "In this section, the dataset will be disassembled in order to provide a deeper understanding of the characteristics of the dataset."
   ]
  },
  {
   "cell_type": "markdown",
   "metadata": {},
   "source": [
    "## Target column: Clickbait"
   ]
  },
  {
   "cell_type": "markdown",
   "metadata": {},
   "source": [
    "First to study is Clickbait column or the target. I will use the copy of the dataset instead of the real dataset for EDA part because the real dataset will be used in the prepocessing part."
   ]
  },
  {
   "cell_type": "code",
   "execution_count": 99,
   "metadata": {},
   "outputs": [
    {
     "data": {
      "text/plain": [
       "<AxesSubplot:title={'center':'Clickbait News'}>"
      ]
     },
     "execution_count": 99,
     "metadata": {},
     "output_type": "execute_result"
    },
    {
     "data": {
      "image/png": "[encoded data removed]",
      "text/plain": [
       "<Figure size 432x288 with 1 Axes>"
      ]
     },
     "metadata": {
      "needs_background": "light"
     },
     "output_type": "display_data"
    }
   ],
   "source": [
    "data.clickbait.value_counts().plot(kind = 'bar', title = 'Clickbait News', color = 'lightcoral' )"
   ]
  },
  {
   "cell_type": "markdown",
   "metadata": {},
   "source": [
    "Apparently the distribution of data in both categories is balanced."
   ]
  },
  {
   "cell_type": "markdown",
   "metadata": {},
   "source": [
    "## The Feature: Headline"
   ]
  },
  {
   "cell_type": "markdown",
   "metadata": {},
   "source": [
    "Understanding the feature might be difficult if only judge by the column values. I need a column to count the words (token) in each rows. "
   ]
  },
  {
   "cell_type": "markdown",
   "metadata": {},
   "source": [
    "### Word Count"
   ]
  },
  {
   "cell_type": "code",
   "execution_count": 100,
   "metadata": {},
   "outputs": [
    {
     "data": {
      "text/html": [
       "<div>\n",
       "<style scoped>\n",
       "    .dataframe tbody tr th:only-of-type {\n",
       "        vertical-align: middle;\n",
       "    }\n",
       "\n",
       "    .dataframe tbody tr th {\n",
       "        vertical-align: top;\n",
       "    }\n",
       "\n",
       "    .dataframe thead th {\n",
       "        text-align: right;\n",
       "    }\n",
       "</style>\n",
       "<table border=\"1\" class=\"dataframe\">\n",
       "  <thead>\n",
       "    <tr style=\"text-align: right;\">\n",
       "      <th></th>\n",
       "      <th>headline</th>\n",
       "      <th>clickbait</th>\n",
       "      <th>word_count</th>\n",
       "    </tr>\n",
       "  </thead>\n",
       "  <tbody>\n",
       "    <tr>\n",
       "      <th>0</th>\n",
       "      <td>Should I Get Bings</td>\n",
       "      <td>1</td>\n",
       "      <td>4</td>\n",
       "    </tr>\n",
       "    <tr>\n",
       "      <th>1</th>\n",
       "      <td>Which TV Female Friend Group Do You Belong In</td>\n",
       "      <td>1</td>\n",
       "      <td>9</td>\n",
       "    </tr>\n",
       "    <tr>\n",
       "      <th>2</th>\n",
       "      <td>The New \"Star Wars: The Force Awakens\" Trailer...</td>\n",
       "      <td>1</td>\n",
       "      <td>14</td>\n",
       "    </tr>\n",
       "    <tr>\n",
       "      <th>3</th>\n",
       "      <td>This Vine Of New York On \"Celebrity Big Brothe...</td>\n",
       "      <td>1</td>\n",
       "      <td>12</td>\n",
       "    </tr>\n",
       "    <tr>\n",
       "      <th>4</th>\n",
       "      <td>A Couple Did A Stunning Photo Shoot With Their...</td>\n",
       "      <td>1</td>\n",
       "      <td>18</td>\n",
       "    </tr>\n",
       "    <tr>\n",
       "      <th>...</th>\n",
       "      <td>...</td>\n",
       "      <td>...</td>\n",
       "      <td>...</td>\n",
       "    </tr>\n",
       "    <tr>\n",
       "      <th>31995</th>\n",
       "      <td>To Make Female Hearts Flutter in Iraq, Throw a...</td>\n",
       "      <td>0</td>\n",
       "      <td>10</td>\n",
       "    </tr>\n",
       "    <tr>\n",
       "      <th>31996</th>\n",
       "      <td>British Liberal Democrat Patsy Calton, 56, die...</td>\n",
       "      <td>0</td>\n",
       "      <td>9</td>\n",
       "    </tr>\n",
       "    <tr>\n",
       "      <th>31997</th>\n",
       "      <td>Drone smartphone app to help heart attack vict...</td>\n",
       "      <td>0</td>\n",
       "      <td>12</td>\n",
       "    </tr>\n",
       "    <tr>\n",
       "      <th>31998</th>\n",
       "      <td>Netanyahu Urges Pope Benedict, in Israel, to D...</td>\n",
       "      <td>0</td>\n",
       "      <td>9</td>\n",
       "    </tr>\n",
       "    <tr>\n",
       "      <th>31999</th>\n",
       "      <td>Computer Makers Prepare to Stake Bigger Claim ...</td>\n",
       "      <td>0</td>\n",
       "      <td>9</td>\n",
       "    </tr>\n",
       "  </tbody>\n",
       "</table>\n",
       "<p>32000 rows × 3 columns</p>\n",
       "</div>"
      ],
      "text/plain": [
       "                                                headline  clickbait  \\\n",
       "0                                     Should I Get Bings          1   \n",
       "1          Which TV Female Friend Group Do You Belong In          1   \n",
       "2      The New \"Star Wars: The Force Awakens\" Trailer...          1   \n",
       "3      This Vine Of New York On \"Celebrity Big Brothe...          1   \n",
       "4      A Couple Did A Stunning Photo Shoot With Their...          1   \n",
       "...                                                  ...        ...   \n",
       "31995  To Make Female Hearts Flutter in Iraq, Throw a...          0   \n",
       "31996  British Liberal Democrat Patsy Calton, 56, die...          0   \n",
       "31997  Drone smartphone app to help heart attack vict...          0   \n",
       "31998  Netanyahu Urges Pope Benedict, in Israel, to D...          0   \n",
       "31999  Computer Makers Prepare to Stake Bigger Claim ...          0   \n",
       "\n",
       "       word_count  \n",
       "0               4  \n",
       "1               9  \n",
       "2              14  \n",
       "3              12  \n",
       "4              18  \n",
       "...           ...  \n",
       "31995          10  \n",
       "31996           9  \n",
       "31997          12  \n",
       "31998           9  \n",
       "31999           9  \n",
       "\n",
       "[32000 rows x 3 columns]"
      ]
     },
     "execution_count": 100,
     "metadata": {},
     "output_type": "execute_result"
    }
   ],
   "source": [
    "data['word_count'] = data['headline'].apply(lambda x: len(str(x).split(\" \")))\n",
    "data"
   ]
  },
  {
   "cell_type": "markdown",
   "metadata": {},
   "source": [
    "Now, the word_count column shows us how many words are in one headline. Let's see how the descriptive statistics of this column will give us insight."
   ]
  },
  {
   "cell_type": "code",
   "execution_count": 101,
   "metadata": {},
   "outputs": [
    {
     "data": {
      "text/html": [
       "<div>\n",
       "<style scoped>\n",
       "    .dataframe tbody tr th:only-of-type {\n",
       "        vertical-align: middle;\n",
       "    }\n",
       "\n",
       "    .dataframe tbody tr th {\n",
       "        vertical-align: top;\n",
       "    }\n",
       "\n",
       "    .dataframe thead th {\n",
       "        text-align: right;\n",
       "    }\n",
       "</style>\n",
       "<table border=\"1\" class=\"dataframe\">\n",
       "  <thead>\n",
       "    <tr style=\"text-align: right;\">\n",
       "      <th></th>\n",
       "      <th>Clickbait</th>\n",
       "      <th>Normal</th>\n",
       "    </tr>\n",
       "  </thead>\n",
       "  <tbody>\n",
       "    <tr>\n",
       "      <th>count</th>\n",
       "      <td>15999.000000</td>\n",
       "      <td>16001.000000</td>\n",
       "    </tr>\n",
       "    <tr>\n",
       "      <th>mean</th>\n",
       "      <td>9.942684</td>\n",
       "      <td>8.194988</td>\n",
       "    </tr>\n",
       "    <tr>\n",
       "      <th>std</th>\n",
       "      <td>2.660435</td>\n",
       "      <td>2.227746</td>\n",
       "    </tr>\n",
       "    <tr>\n",
       "      <th>min</th>\n",
       "      <td>1.000000</td>\n",
       "      <td>2.000000</td>\n",
       "    </tr>\n",
       "    <tr>\n",
       "      <th>25%</th>\n",
       "      <td>8.000000</td>\n",
       "      <td>7.000000</td>\n",
       "    </tr>\n",
       "    <tr>\n",
       "      <th>50%</th>\n",
       "      <td>10.000000</td>\n",
       "      <td>8.000000</td>\n",
       "    </tr>\n",
       "    <tr>\n",
       "      <th>75%</th>\n",
       "      <td>12.000000</td>\n",
       "      <td>9.000000</td>\n",
       "    </tr>\n",
       "    <tr>\n",
       "      <th>max</th>\n",
       "      <td>26.000000</td>\n",
       "      <td>21.000000</td>\n",
       "    </tr>\n",
       "  </tbody>\n",
       "</table>\n",
       "</div>"
      ],
      "text/plain": [
       "          Clickbait        Normal\n",
       "count  15999.000000  16001.000000\n",
       "mean       9.942684      8.194988\n",
       "std        2.660435      2.227746\n",
       "min        1.000000      2.000000\n",
       "25%        8.000000      7.000000\n",
       "50%       10.000000      8.000000\n",
       "75%       12.000000      9.000000\n",
       "max       26.000000     21.000000"
      ]
     },
     "execution_count": 101,
     "metadata": {},
     "output_type": "execute_result"
    }
   ],
   "source": [
    "pd.DataFrame({\n",
    "    'Clickbait': data[data.clickbait==1]['word_count'].describe(),\n",
    "    'Normal': data[data.clickbait==0]['word_count'].describe()\n",
    "})"
   ]
  },
  {
   "cell_type": "markdown",
   "metadata": {},
   "source": [
    "Clickbait headlines usually has more words in their headline than normal news. But there's also clickbait that has only one word in the headline. the range (Q3-Q1) in clickbait is wider than normal news, but the differentiate doesn't significant. This indicate to make headline clickbait there might be a tendencies of using more words than normal headline."
   ]
  },
  {
   "cell_type": "code",
   "execution_count": 102,
   "metadata": {},
   "outputs": [
    {
     "data": {
      "text/plain": [
       "<matplotlib.legend.Legend at 0x1f7442bded0>"
      ]
     },
     "execution_count": 102,
     "metadata": {},
     "output_type": "execute_result"
    },
    {
     "data": {
      "image/png": "[encoded data removed]",
      "text/plain": [
       "<Figure size 432x288 with 1 Axes>"
      ]
     },
     "metadata": {
      "needs_background": "light"
     },
     "output_type": "display_data"
    }
   ],
   "source": [
    "plt.title('Word Count')\n",
    "data[data.clickbait==0]['word_count'].value_counts().sort_index().plot(color = 'lightcoral',label = 'normal')\n",
    "data[data.clickbait==1]['word_count'].value_counts().sort_index().plot(color = 'teal',label = 'clickbait')\n",
    "plt.xlabel('word')\n",
    "plt.ylabel('frequencies')\n",
    "plt.legend()"
   ]
  },
  {
   "cell_type": "markdown",
   "metadata": {},
   "source": [
    "From the distribution of word usage, you might see from the clickbait graphic that the curve is wider in range 0-20 token, but the frequencies for the normal headline gathered in range 0-13 token. this give me insight that clickbait headlines usually has more words than normal headlines. "
   ]
  },
  {
   "cell_type": "markdown",
   "metadata": {},
   "source": [
    "### Stop Words"
   ]
  },
  {
   "cell_type": "markdown",
   "metadata": {},
   "source": [
    "Stop Words are all tokens that has least information from a text dataset. For example, 'an', 'the', 'and', 'but', 'if', 'as', etc.\n",
    "List of this stop words has been resumed in library `nltk` for english version. "
   ]
  },
  {
   "cell_type": "code",
   "execution_count": 103,
   "metadata": {},
   "outputs": [],
   "source": [
    "stop = stopwords.words(\"english\")"
   ]
  },
  {
   "cell_type": "markdown",
   "metadata": {},
   "source": [
    "All the stopwords has been listed in `stop` variable. Because the list token is in lower case, to detect stop words in each rows I change the headline into lower case first. "
   ]
  },
  {
   "cell_type": "code",
   "execution_count": 104,
   "metadata": {},
   "outputs": [
    {
     "data": {
      "text/html": [
       "<div>\n",
       "<style scoped>\n",
       "    .dataframe tbody tr th:only-of-type {\n",
       "        vertical-align: middle;\n",
       "    }\n",
       "\n",
       "    .dataframe tbody tr th {\n",
       "        vertical-align: top;\n",
       "    }\n",
       "\n",
       "    .dataframe thead th {\n",
       "        text-align: right;\n",
       "    }\n",
       "</style>\n",
       "<table border=\"1\" class=\"dataframe\">\n",
       "  <thead>\n",
       "    <tr style=\"text-align: right;\">\n",
       "      <th></th>\n",
       "      <th>headline</th>\n",
       "      <th>clickbait</th>\n",
       "      <th>word_count</th>\n",
       "      <th>headline_lower</th>\n",
       "    </tr>\n",
       "  </thead>\n",
       "  <tbody>\n",
       "    <tr>\n",
       "      <th>0</th>\n",
       "      <td>Should I Get Bings</td>\n",
       "      <td>1</td>\n",
       "      <td>4</td>\n",
       "      <td>should i get bings</td>\n",
       "    </tr>\n",
       "    <tr>\n",
       "      <th>1</th>\n",
       "      <td>Which TV Female Friend Group Do You Belong In</td>\n",
       "      <td>1</td>\n",
       "      <td>9</td>\n",
       "      <td>which tv female friend group do you belong in</td>\n",
       "    </tr>\n",
       "    <tr>\n",
       "      <th>2</th>\n",
       "      <td>The New \"Star Wars: The Force Awakens\" Trailer...</td>\n",
       "      <td>1</td>\n",
       "      <td>14</td>\n",
       "      <td>the new \"star wars: the force awakens\" trailer...</td>\n",
       "    </tr>\n",
       "    <tr>\n",
       "      <th>3</th>\n",
       "      <td>This Vine Of New York On \"Celebrity Big Brothe...</td>\n",
       "      <td>1</td>\n",
       "      <td>12</td>\n",
       "      <td>this vine of new york on \"celebrity big brothe...</td>\n",
       "    </tr>\n",
       "    <tr>\n",
       "      <th>4</th>\n",
       "      <td>A Couple Did A Stunning Photo Shoot With Their...</td>\n",
       "      <td>1</td>\n",
       "      <td>18</td>\n",
       "      <td>a couple did a stunning photo shoot with their...</td>\n",
       "    </tr>\n",
       "    <tr>\n",
       "      <th>...</th>\n",
       "      <td>...</td>\n",
       "      <td>...</td>\n",
       "      <td>...</td>\n",
       "      <td>...</td>\n",
       "    </tr>\n",
       "    <tr>\n",
       "      <th>31995</th>\n",
       "      <td>To Make Female Hearts Flutter in Iraq, Throw a...</td>\n",
       "      <td>0</td>\n",
       "      <td>10</td>\n",
       "      <td>to make female hearts flutter in iraq, throw a...</td>\n",
       "    </tr>\n",
       "    <tr>\n",
       "      <th>31996</th>\n",
       "      <td>British Liberal Democrat Patsy Calton, 56, die...</td>\n",
       "      <td>0</td>\n",
       "      <td>9</td>\n",
       "      <td>british liberal democrat patsy calton, 56, die...</td>\n",
       "    </tr>\n",
       "    <tr>\n",
       "      <th>31997</th>\n",
       "      <td>Drone smartphone app to help heart attack vict...</td>\n",
       "      <td>0</td>\n",
       "      <td>12</td>\n",
       "      <td>drone smartphone app to help heart attack vict...</td>\n",
       "    </tr>\n",
       "    <tr>\n",
       "      <th>31998</th>\n",
       "      <td>Netanyahu Urges Pope Benedict, in Israel, to D...</td>\n",
       "      <td>0</td>\n",
       "      <td>9</td>\n",
       "      <td>netanyahu urges pope benedict, in israel, to d...</td>\n",
       "    </tr>\n",
       "    <tr>\n",
       "      <th>31999</th>\n",
       "      <td>Computer Makers Prepare to Stake Bigger Claim ...</td>\n",
       "      <td>0</td>\n",
       "      <td>9</td>\n",
       "      <td>computer makers prepare to stake bigger claim ...</td>\n",
       "    </tr>\n",
       "  </tbody>\n",
       "</table>\n",
       "<p>32000 rows × 4 columns</p>\n",
       "</div>"
      ],
      "text/plain": [
       "                                                headline  clickbait  \\\n",
       "0                                     Should I Get Bings          1   \n",
       "1          Which TV Female Friend Group Do You Belong In          1   \n",
       "2      The New \"Star Wars: The Force Awakens\" Trailer...          1   \n",
       "3      This Vine Of New York On \"Celebrity Big Brothe...          1   \n",
       "4      A Couple Did A Stunning Photo Shoot With Their...          1   \n",
       "...                                                  ...        ...   \n",
       "31995  To Make Female Hearts Flutter in Iraq, Throw a...          0   \n",
       "31996  British Liberal Democrat Patsy Calton, 56, die...          0   \n",
       "31997  Drone smartphone app to help heart attack vict...          0   \n",
       "31998  Netanyahu Urges Pope Benedict, in Israel, to D...          0   \n",
       "31999  Computer Makers Prepare to Stake Bigger Claim ...          0   \n",
       "\n",
       "       word_count                                     headline_lower  \n",
       "0               4                                 should i get bings  \n",
       "1               9      which tv female friend group do you belong in  \n",
       "2              14  the new \"star wars: the force awakens\" trailer...  \n",
       "3              12  this vine of new york on \"celebrity big brothe...  \n",
       "4              18  a couple did a stunning photo shoot with their...  \n",
       "...           ...                                                ...  \n",
       "31995          10  to make female hearts flutter in iraq, throw a...  \n",
       "31996           9  british liberal democrat patsy calton, 56, die...  \n",
       "31997          12  drone smartphone app to help heart attack vict...  \n",
       "31998           9  netanyahu urges pope benedict, in israel, to d...  \n",
       "31999           9  computer makers prepare to stake bigger claim ...  \n",
       "\n",
       "[32000 rows x 4 columns]"
      ]
     },
     "execution_count": 104,
     "metadata": {},
     "output_type": "execute_result"
    }
   ],
   "source": [
    "data['headline_lower'] = data['headline'].apply(lambda x: ' '.join(x.lower() for x in x.split()))\n",
    "data"
   ]
  },
  {
   "cell_type": "markdown",
   "metadata": {},
   "source": [
    "Now, the lower case headline is displayed in new column. Next, I will create new column for counting the stop words in each rows."
   ]
  },
  {
   "cell_type": "code",
   "execution_count": 105,
   "metadata": {},
   "outputs": [
    {
     "data": {
      "text/html": [
       "<div>\n",
       "<style scoped>\n",
       "    .dataframe tbody tr th:only-of-type {\n",
       "        vertical-align: middle;\n",
       "    }\n",
       "\n",
       "    .dataframe tbody tr th {\n",
       "        vertical-align: top;\n",
       "    }\n",
       "\n",
       "    .dataframe thead th {\n",
       "        text-align: right;\n",
       "    }\n",
       "</style>\n",
       "<table border=\"1\" class=\"dataframe\">\n",
       "  <thead>\n",
       "    <tr style=\"text-align: right;\">\n",
       "      <th></th>\n",
       "      <th>headline_lower</th>\n",
       "      <th>stopwords</th>\n",
       "    </tr>\n",
       "  </thead>\n",
       "  <tbody>\n",
       "    <tr>\n",
       "      <th>0</th>\n",
       "      <td>should i get bings</td>\n",
       "      <td>2</td>\n",
       "    </tr>\n",
       "    <tr>\n",
       "      <th>1</th>\n",
       "      <td>which tv female friend group do you belong in</td>\n",
       "      <td>4</td>\n",
       "    </tr>\n",
       "    <tr>\n",
       "      <th>2</th>\n",
       "      <td>the new \"star wars: the force awakens\" trailer...</td>\n",
       "      <td>6</td>\n",
       "    </tr>\n",
       "    <tr>\n",
       "      <th>3</th>\n",
       "      <td>this vine of new york on \"celebrity big brothe...</td>\n",
       "      <td>4</td>\n",
       "    </tr>\n",
       "    <tr>\n",
       "      <th>4</th>\n",
       "      <td>a couple did a stunning photo shoot with their...</td>\n",
       "      <td>9</td>\n",
       "    </tr>\n",
       "  </tbody>\n",
       "</table>\n",
       "</div>"
      ],
      "text/plain": [
       "                                      headline_lower  stopwords\n",
       "0                                 should i get bings          2\n",
       "1      which tv female friend group do you belong in          4\n",
       "2  the new \"star wars: the force awakens\" trailer...          6\n",
       "3  this vine of new york on \"celebrity big brothe...          4\n",
       "4  a couple did a stunning photo shoot with their...          9"
      ]
     },
     "execution_count": 105,
     "metadata": {},
     "output_type": "execute_result"
    }
   ],
   "source": [
    "data['stopwords'] = data['headline_lower'].apply(lambda x: len([x for x in x.split() if x in stop]))\n",
    "data[['headline_lower','stopwords']].head()"
   ]
  },
  {
   "cell_type": "code",
   "execution_count": 106,
   "metadata": {},
   "outputs": [
    {
     "data": {
      "text/plain": [
       "['should', 'i']"
      ]
     },
     "execution_count": 106,
     "metadata": {},
     "output_type": "execute_result"
    }
   ],
   "source": [
    "x = data.headline_lower[0]\n",
    "[x for x in x.split() if x in stop]"
   ]
  },
  {
   "cell_type": "markdown",
   "metadata": {},
   "source": [
    "In the first text, `should i get bings` has 2 stopwords which are `should` and `i`. Now, let's visualize the distribution of stop words for each categories."
   ]
  },
  {
   "cell_type": "code",
   "execution_count": 107,
   "metadata": {},
   "outputs": [
    {
     "data": {
      "text/plain": [
       "<matplotlib.legend.Legend at 0x1f744b507c0>"
      ]
     },
     "execution_count": 107,
     "metadata": {},
     "output_type": "execute_result"
    },
    {
     "data": {
      "image/png": "[encoded data removed]",
      "text/plain": [
       "<Figure size 432x288 with 1 Axes>"
      ]
     },
     "metadata": {
      "needs_background": "light"
     },
     "output_type": "display_data"
    }
   ],
   "source": [
    "plt.title('Total of stop words')\n",
    "data[data.clickbait==0]['stopwords'].value_counts().sort_index().plot(color = 'lightcoral',label = 'normal')\n",
    "data[data.clickbait==1]['stopwords'].value_counts().sort_index().plot(color = 'teal',label = 'clickbait')\n",
    "plt.xlabel('stopword')\n",
    "plt.ylabel('frequencies')\n",
    "plt.legend()"
   ]
  },
  {
   "cell_type": "markdown",
   "metadata": {},
   "source": [
    "the curve of clickbait news is lower and spread in range 0-7 stop words. Normal news curve has higher curve gathered in range 0-4 stopwords. This means Clickbait news has more stop words in their headline more than normal news. This give me insight that if I reduce the stopwords in all corpus, the characteristics of clickbait news will be gone. Clickbait can be indicate with the usage of stop words and if I reduce it, the accuracy to predict clickbait news will be reduced as well."
   ]
  },
  {
   "cell_type": "markdown",
   "metadata": {},
   "source": [
    "### Punctuation"
   ]
  },
  {
   "cell_type": "markdown",
   "metadata": {},
   "source": [
    "Next, I want to know the usage of punctuation in the dataset. As usual, I will create new column to count how many punctuation for each rows."
   ]
  },
  {
   "cell_type": "code",
   "execution_count": 109,
   "metadata": {},
   "outputs": [
    {
     "data": {
      "text/html": [
       "<div>\n",
       "<style scoped>\n",
       "    .dataframe tbody tr th:only-of-type {\n",
       "        vertical-align: middle;\n",
       "    }\n",
       "\n",
       "    .dataframe tbody tr th {\n",
       "        vertical-align: top;\n",
       "    }\n",
       "\n",
       "    .dataframe thead th {\n",
       "        text-align: right;\n",
       "    }\n",
       "</style>\n",
       "<table border=\"1\" class=\"dataframe\">\n",
       "  <thead>\n",
       "    <tr style=\"text-align: right;\">\n",
       "      <th></th>\n",
       "      <th>headline</th>\n",
       "      <th>clickbait</th>\n",
       "      <th>word_count</th>\n",
       "      <th>headline_lower</th>\n",
       "      <th>stopwords</th>\n",
       "      <th>punct</th>\n",
       "    </tr>\n",
       "  </thead>\n",
       "  <tbody>\n",
       "    <tr>\n",
       "      <th>0</th>\n",
       "      <td>Should I Get Bings</td>\n",
       "      <td>1</td>\n",
       "      <td>4</td>\n",
       "      <td>should i get bings</td>\n",
       "      <td>2</td>\n",
       "      <td>0</td>\n",
       "    </tr>\n",
       "    <tr>\n",
       "      <th>1</th>\n",
       "      <td>Which TV Female Friend Group Do You Belong In</td>\n",
       "      <td>1</td>\n",
       "      <td>9</td>\n",
       "      <td>which tv female friend group do you belong in</td>\n",
       "      <td>4</td>\n",
       "      <td>0</td>\n",
       "    </tr>\n",
       "    <tr>\n",
       "      <th>2</th>\n",
       "      <td>The New \"Star Wars: The Force Awakens\" Trailer...</td>\n",
       "      <td>1</td>\n",
       "      <td>14</td>\n",
       "      <td>the new \"star wars: the force awakens\" trailer...</td>\n",
       "      <td>6</td>\n",
       "      <td>3</td>\n",
       "    </tr>\n",
       "    <tr>\n",
       "      <th>3</th>\n",
       "      <td>This Vine Of New York On \"Celebrity Big Brothe...</td>\n",
       "      <td>1</td>\n",
       "      <td>12</td>\n",
       "      <td>this vine of new york on \"celebrity big brothe...</td>\n",
       "      <td>4</td>\n",
       "      <td>2</td>\n",
       "    </tr>\n",
       "    <tr>\n",
       "      <th>4</th>\n",
       "      <td>A Couple Did A Stunning Photo Shoot With Their...</td>\n",
       "      <td>1</td>\n",
       "      <td>18</td>\n",
       "      <td>a couple did a stunning photo shoot with their...</td>\n",
       "      <td>9</td>\n",
       "      <td>0</td>\n",
       "    </tr>\n",
       "    <tr>\n",
       "      <th>...</th>\n",
       "      <td>...</td>\n",
       "      <td>...</td>\n",
       "      <td>...</td>\n",
       "      <td>...</td>\n",
       "      <td>...</td>\n",
       "      <td>...</td>\n",
       "    </tr>\n",
       "    <tr>\n",
       "      <th>31995</th>\n",
       "      <td>To Make Female Hearts Flutter in Iraq, Throw a...</td>\n",
       "      <td>0</td>\n",
       "      <td>10</td>\n",
       "      <td>to make female hearts flutter in iraq, throw a...</td>\n",
       "      <td>3</td>\n",
       "      <td>1</td>\n",
       "    </tr>\n",
       "    <tr>\n",
       "      <th>31996</th>\n",
       "      <td>British Liberal Democrat Patsy Calton, 56, die...</td>\n",
       "      <td>0</td>\n",
       "      <td>9</td>\n",
       "      <td>british liberal democrat patsy calton, 56, die...</td>\n",
       "      <td>1</td>\n",
       "      <td>2</td>\n",
       "    </tr>\n",
       "    <tr>\n",
       "      <th>31997</th>\n",
       "      <td>Drone smartphone app to help heart attack vict...</td>\n",
       "      <td>0</td>\n",
       "      <td>12</td>\n",
       "      <td>drone smartphone app to help heart attack vict...</td>\n",
       "      <td>2</td>\n",
       "      <td>0</td>\n",
       "    </tr>\n",
       "    <tr>\n",
       "      <th>31998</th>\n",
       "      <td>Netanyahu Urges Pope Benedict, in Israel, to D...</td>\n",
       "      <td>0</td>\n",
       "      <td>9</td>\n",
       "      <td>netanyahu urges pope benedict, in israel, to d...</td>\n",
       "      <td>2</td>\n",
       "      <td>2</td>\n",
       "    </tr>\n",
       "    <tr>\n",
       "      <th>31999</th>\n",
       "      <td>Computer Makers Prepare to Stake Bigger Claim ...</td>\n",
       "      <td>0</td>\n",
       "      <td>9</td>\n",
       "      <td>computer makers prepare to stake bigger claim ...</td>\n",
       "      <td>2</td>\n",
       "      <td>0</td>\n",
       "    </tr>\n",
       "  </tbody>\n",
       "</table>\n",
       "<p>32000 rows × 6 columns</p>\n",
       "</div>"
      ],
      "text/plain": [
       "                                                headline  clickbait  \\\n",
       "0                                     Should I Get Bings          1   \n",
       "1          Which TV Female Friend Group Do You Belong In          1   \n",
       "2      The New \"Star Wars: The Force Awakens\" Trailer...          1   \n",
       "3      This Vine Of New York On \"Celebrity Big Brothe...          1   \n",
       "4      A Couple Did A Stunning Photo Shoot With Their...          1   \n",
       "...                                                  ...        ...   \n",
       "31995  To Make Female Hearts Flutter in Iraq, Throw a...          0   \n",
       "31996  British Liberal Democrat Patsy Calton, 56, die...          0   \n",
       "31997  Drone smartphone app to help heart attack vict...          0   \n",
       "31998  Netanyahu Urges Pope Benedict, in Israel, to D...          0   \n",
       "31999  Computer Makers Prepare to Stake Bigger Claim ...          0   \n",
       "\n",
       "       word_count                                     headline_lower  \\\n",
       "0               4                                 should i get bings   \n",
       "1               9      which tv female friend group do you belong in   \n",
       "2              14  the new \"star wars: the force awakens\" trailer...   \n",
       "3              12  this vine of new york on \"celebrity big brothe...   \n",
       "4              18  a couple did a stunning photo shoot with their...   \n",
       "...           ...                                                ...   \n",
       "31995          10  to make female hearts flutter in iraq, throw a...   \n",
       "31996           9  british liberal democrat patsy calton, 56, die...   \n",
       "31997          12  drone smartphone app to help heart attack vict...   \n",
       "31998           9  netanyahu urges pope benedict, in israel, to d...   \n",
       "31999           9  computer makers prepare to stake bigger claim ...   \n",
       "\n",
       "       stopwords  punct  \n",
       "0              2      0  \n",
       "1              4      0  \n",
       "2              6      3  \n",
       "3              4      2  \n",
       "4              9      0  \n",
       "...          ...    ...  \n",
       "31995          3      1  \n",
       "31996          1      2  \n",
       "31997          2      0  \n",
       "31998          2      2  \n",
       "31999          2      0  \n",
       "\n",
       "[32000 rows x 6 columns]"
      ]
     },
     "execution_count": 109,
     "metadata": {},
     "output_type": "execute_result"
    }
   ],
   "source": [
    "data['punct'] = data['headline'].apply(lambda x: sum([1 for char in x if char in string.punctuation]))\n",
    "data"
   ]
  },
  {
   "cell_type": "markdown",
   "metadata": {},
   "source": [
    "The column has been added, now let's visualize the distribution"
   ]
  },
  {
   "cell_type": "code",
   "execution_count": 110,
   "metadata": {},
   "outputs": [
    {
     "data": {
      "text/plain": [
       "<matplotlib.legend.Legend at 0x1f743fc2800>"
      ]
     },
     "execution_count": 110,
     "metadata": {},
     "output_type": "execute_result"
    },
    {
     "data": {
      "image/png": "[encoded data removed]",
      "text/plain": [
       "<Figure size 432x288 with 1 Axes>"
      ]
     },
     "metadata": {
      "needs_background": "light"
     },
     "output_type": "display_data"
    }
   ],
   "source": [
    "plt.title('Total of Punctuation')\n",
    "data[data.clickbait==0]['punct'].value_counts().sort_index().plot(color = 'lightcoral',label = 'normal')\n",
    "data[data.clickbait==1]['punct'].value_counts().sort_index().plot(color = 'teal',label = 'clickbait')\n",
    "plt.xlabel('punctuation')\n",
    "plt.ylabel('frequencies')\n",
    "plt.legend()"
   ]
  },
  {
   "cell_type": "markdown",
   "metadata": {},
   "source": [
    "both clickbait or normal news have the same distribution of punctuation, where usually they don't have many punctuation in their headlines. The maximum values for puntuation for a headline is 10 punctuation for normal news. The removal of the punctuation may not affect the accuracy of model prediction."
   ]
  },
  {
   "cell_type": "markdown",
   "metadata": {},
   "source": [
    "# Data Preprocessing"
   ]
  },
  {
   "cell_type": "markdown",
   "metadata": {},
   "source": [
    "After understanding the dataset, I prepare the data to be put in the model. Because the model need number input, the feature need to be changed into a form that model can understand."
   ]
  },
  {
   "cell_type": "markdown",
   "metadata": {},
   "source": [
    "## Feature Selection"
   ]
  },
  {
   "cell_type": "markdown",
   "metadata": {},
   "source": [
    "In EDA section, I have detect punctuation and stopwords. In this section, the punctuation will be reduced and the stopwords will not be handle to keep the origin of clickbait characteristic."
   ]
  },
  {
   "cell_type": "code",
   "execution_count": 111,
   "metadata": {},
   "outputs": [],
   "source": [
    "punctuation = lambda x: x.translate(str.maketrans('','',string.punctuation))"
   ]
  },
  {
   "cell_type": "code",
   "execution_count": 112,
   "metadata": {},
   "outputs": [
    {
     "data": {
      "text/html": [
       "<div>\n",
       "<style scoped>\n",
       "    .dataframe tbody tr th:only-of-type {\n",
       "        vertical-align: middle;\n",
       "    }\n",
       "\n",
       "    .dataframe tbody tr th {\n",
       "        vertical-align: top;\n",
       "    }\n",
       "\n",
       "    .dataframe thead th {\n",
       "        text-align: right;\n",
       "    }\n",
       "</style>\n",
       "<table border=\"1\" class=\"dataframe\">\n",
       "  <thead>\n",
       "    <tr style=\"text-align: right;\">\n",
       "      <th></th>\n",
       "      <th>headline</th>\n",
       "      <th>clickbait</th>\n",
       "    </tr>\n",
       "  </thead>\n",
       "  <tbody>\n",
       "    <tr>\n",
       "      <th>0</th>\n",
       "      <td>Should I Get Bings</td>\n",
       "      <td>1</td>\n",
       "    </tr>\n",
       "    <tr>\n",
       "      <th>1</th>\n",
       "      <td>Which TV Female Friend Group Do You Belong In</td>\n",
       "      <td>1</td>\n",
       "    </tr>\n",
       "    <tr>\n",
       "      <th>2</th>\n",
       "      <td>The New Star Wars The Force Awakens Trailer Is...</td>\n",
       "      <td>1</td>\n",
       "    </tr>\n",
       "    <tr>\n",
       "      <th>3</th>\n",
       "      <td>This Vine Of New York On Celebrity Big Brother...</td>\n",
       "      <td>1</td>\n",
       "    </tr>\n",
       "    <tr>\n",
       "      <th>4</th>\n",
       "      <td>A Couple Did A Stunning Photo Shoot With Their...</td>\n",
       "      <td>1</td>\n",
       "    </tr>\n",
       "  </tbody>\n",
       "</table>\n",
       "</div>"
      ],
      "text/plain": [
       "                                            headline  clickbait\n",
       "0                                 Should I Get Bings          1\n",
       "1      Which TV Female Friend Group Do You Belong In          1\n",
       "2  The New Star Wars The Force Awakens Trailer Is...          1\n",
       "3  This Vine Of New York On Celebrity Big Brother...          1\n",
       "4  A Couple Did A Stunning Photo Shoot With Their...          1"
      ]
     },
     "execution_count": 112,
     "metadata": {},
     "output_type": "execute_result"
    }
   ],
   "source": [
    "df['headline'] = df['headline'].apply(punctuation)\n",
    "df.head()"
   ]
  },
  {
   "cell_type": "markdown",
   "metadata": {},
   "source": [
    "above is the dataset that has been cleaned from unimportant punctuation."
   ]
  },
  {
   "cell_type": "markdown",
   "metadata": {},
   "source": [
    "## Split Dataset"
   ]
  },
  {
   "cell_type": "markdown",
   "metadata": {},
   "source": [
    "Next will be splitting the dataset into train-validation-test set."
   ]
  },
  {
   "cell_type": "code",
   "execution_count": 113,
   "metadata": {},
   "outputs": [
    {
     "name": "stdout",
     "output_type": "stream",
     "text": [
      "(20480,)\n",
      "(5120,)\n",
      "(6400,)\n",
      "(20480,)\n",
      "(5120,)\n",
      "(6400,)\n"
     ]
    }
   ],
   "source": [
    "X_df, X_test, y_df, y_test = train_test_split(df.headline,df.clickbait,test_size=0.2,random_state=1)\n",
    "X_train, X_val, y_train, y_val = train_test_split(X_df,y_df, test_size=0.2,random_state=1)\n",
    "print(X_train.shape)\n",
    "print(X_val.shape)\n",
    "print(X_test.shape)\n",
    "print(y_train.shape)\n",
    "print(y_val.shape)\n",
    "print(y_test.shape)"
   ]
  },
  {
   "cell_type": "code",
   "execution_count": 132,
   "metadata": {},
   "outputs": [
    {
     "name": "stdout",
     "output_type": "stream",
     "text": [
      "Total Token in train set:  185111\n"
     ]
    }
   ],
   "source": [
    "print('Total Token in train set: ',sum([len(i.split()) for i in X_train]))"
   ]
  },
  {
   "cell_type": "markdown",
   "metadata": {},
   "source": [
    "In train set total token is 185111. This will affect for the determination of length of maximum vocab that I will use for the hyperparameter in vectorization section."
   ]
  },
  {
   "cell_type": "markdown",
   "metadata": {},
   "source": [
    "## Vectorization "
   ]
  },
  {
   "cell_type": "markdown",
   "metadata": {},
   "source": [
    "Vectorization is transformed the document into the vector based on list number of vocabularies that has been adapted from train set."
   ]
  },
  {
   "cell_type": "code",
   "execution_count": 338,
   "metadata": {},
   "outputs": [],
   "source": [
    "max_vocab_length = 5000\n",
    "max_length = 14\n",
    "\n",
    "text_vectorization = TextVectorization(max_tokens=max_vocab_length,\n",
    "                                       standardize = 'lower_and_strip_punctuation',\n",
    "                                       split = 'whitespace',\n",
    "                                       ngrams = None,\n",
    "                                       output_mode = 'int',\n",
    "                                       output_sequence_length = max_length)"
   ]
  },
  {
   "cell_type": "markdown",
   "metadata": {},
   "source": [
    "I chose `5000` length of vocabularies first and maximum length for each vector based on judgement from EDA in wordcount section. The maximum value for word count is 26 so I chose between 0-26 number and the `14` is able to try. The standardize would be `lower and strip punctuation` for data preprocessing. The split method is based on `whitespace`. Output mode is integer because I input the output sequence length with integer define as `max_length `."
   ]
  },
  {
   "cell_type": "code",
   "execution_count": 339,
   "metadata": {},
   "outputs": [],
   "source": [
    "text_vectorization.adapt(X_train)"
   ]
  },
  {
   "cell_type": "markdown",
   "metadata": {},
   "source": [
    "after adapting from train set condition, let's try to vectorize a document to check if it works."
   ]
  },
  {
   "cell_type": "code",
   "execution_count": 340,
   "metadata": {},
   "outputs": [
    {
     "data": {
      "text/plain": [
       "<tf.Tensor: shape=(14,), dtype=int64, numpy=\n",
       "array([43, 94, 79,  1,  0,  0,  0,  0,  0,  0,  0,  0,  0,  0],\n",
       "      dtype=int64)>"
      ]
     },
     "execution_count": 340,
     "metadata": {},
     "output_type": "execute_result"
    }
   ],
   "source": [
    "text_vectorization(df.headline[0])"
   ]
  },
  {
   "cell_type": "markdown",
   "metadata": {},
   "source": [
    "the text has been transformed into a vector."
   ]
  },
  {
   "cell_type": "markdown",
   "metadata": {},
   "source": [
    "## Pipeline Tensorflow"
   ]
  },
  {
   "cell_type": "markdown",
   "metadata": {},
   "source": [
    "Recurrent Neural Network might have spend time when training the dataset. One of the solution is to make a tensorflow pipeline that slice train set and shuffle them in batch size. this hopefully will cut a time in training process."
   ]
  },
  {
   "cell_type": "code",
   "execution_count": 341,
   "metadata": {},
   "outputs": [],
   "source": [
    "train_dataset = Dataset.from_tensor_slices((X_train, y_train))\n",
    "train_dataset = train_dataset.shuffle(buffer_size=1024).batch(64)\n",
    "val_dataset = Dataset.from_tensor_slices((X_val, y_val))\n",
    "val_dataset = val_dataset.shuffle(buffer_size=1024).batch(64)\n",
    "test_dataset = Dataset.from_tensor_slices((X_test, y_test))\n",
    "test_dataset = test_dataset.batch(64)"
   ]
  },
  {
   "cell_type": "markdown",
   "metadata": {},
   "source": [
    "## Embedding"
   ]
  },
  {
   "cell_type": "markdown",
   "metadata": {},
   "source": [
    "Embedding prepared the data to be put in the model. This transform vector into tensor matrix that machine able to understand."
   ]
  },
  {
   "cell_type": "code",
   "execution_count": 342,
   "metadata": {},
   "outputs": [],
   "source": [
    "embedding = Embedding(input_dim = max_vocab_length,\n",
    "                      output_dim = 128,\n",
    "                      embeddings_initializer = 'uniform',\n",
    "                      input_length = max_length\n",
    "                     )"
   ]
  },
  {
   "cell_type": "code",
   "execution_count": 366,
   "metadata": {},
   "outputs": [
    {
     "data": {
      "text/plain": [
       "<tf.Tensor: shape=(14, 128), dtype=float32, numpy=\n",
       "array([[ 0.39881876,  0.26563817, -0.28657275, ...,  0.35994598,\n",
       "         0.33299732, -0.28333762],\n",
       "       [ 0.17910881,  0.12318517, -0.17771342, ...,  0.22421107,\n",
       "         0.10389429, -0.04920784],\n",
       "       [ 0.17073631,  0.11360675, -0.08234769, ...,  0.18352345,\n",
       "         0.18416063, -0.06234671],\n",
       "       ...,\n",
       "       [-0.06930971, -0.05142969,  0.07838079, ..., -0.06941971,\n",
       "         0.04661696,  0.0106842 ],\n",
       "       [-0.06930971, -0.05142969,  0.07838079, ..., -0.06941971,\n",
       "         0.04661696,  0.0106842 ],\n",
       "       [-0.06930971, -0.05142969,  0.07838079, ..., -0.06941971,\n",
       "         0.04661696,  0.0106842 ]], dtype=float32)>"
      ]
     },
     "execution_count": 366,
     "metadata": {},
     "output_type": "execute_result"
    }
   ],
   "source": [
    "teks = text_vectorization(df.headline[0])\n",
    "teks = embedding(teks)\n",
    "teks"
   ]
  },
  {
   "cell_type": "markdown",
   "metadata": {},
   "source": [
    "Vector from `text_vectorization` has been transformed to tensor matrix. This tensor will be fed into the model NN."
   ]
  },
  {
   "cell_type": "markdown",
   "metadata": {},
   "source": [
    "# Model Definition"
   ]
  },
  {
   "cell_type": "markdown",
   "metadata": {},
   "source": [
    "I will choose neural network model addition with global average pooling layer as baseline model. The architecture of the model will be\n",
    "1. Input layer which dtype is string cause dataset is in string form\n",
    "2. Text Vectorization layer\n",
    "3. Embedding layer\n",
    "4. Global Average Pooling 1D layer\n",
    "5. output layer with hyperparameter for activation function is sigmoid because the target is two class categories\n",
    "\n",
    "In the model compile the hyperparameter is binary crossentropy because of binary categories target. The optimizer will be adam since it has an adaptive learning rate and fast converges, the metrics will be accuracy.\n"
   ]
  },
  {
   "cell_type": "code",
   "execution_count": 343,
   "metadata": {},
   "outputs": [],
   "source": [
    "inputs = Input(shape=(1,),dtype = 'string') \n",
    "x = text_vectorization(inputs)  \n",
    "x = embedding(x)\n",
    "x = GlobalAveragePooling1D()(x)\n",
    "outputs = Dense(1, activation = 'sigmoid')(x)\n",
    "model_nn = Model(inputs, outputs, name = 'nn')\n",
    "\n",
    "model_nn.compile(loss = 'binary_crossentropy',\n",
    "                 optimizer = 'adam',\n",
    "                 metrics = ['accuracy'])"
   ]
  },
  {
   "cell_type": "markdown",
   "metadata": {},
   "source": [
    "# Model Training"
   ]
  },
  {
   "cell_type": "markdown",
   "metadata": {},
   "source": [
    "In model training, model that has been defined and compiled will be trained with hyperparameters as described:\n",
    "1. epochs = 20 \n",
    "2. callbacks where monitor validation loss and has patience = 3. \n",
    "The callbacks use Early stopping when validation loss has converged and `patience = 3` means if loss has converged during 3 epoch it will stop training and shows the last result."
   ]
  },
  {
   "cell_type": "code",
   "execution_count": 344,
   "metadata": {},
   "outputs": [],
   "source": [
    "call1 = EarlyStopping(monitor = 'val_loss', patience = 3)"
   ]
  },
  {
   "cell_type": "code",
   "execution_count": 345,
   "metadata": {},
   "outputs": [
    {
     "name": "stdout",
     "output_type": "stream",
     "text": [
      "Epoch 1/20\n",
      "320/320 [==============================] - 5s 14ms/step - loss: 0.3809 - accuracy: 0.8766 - val_loss: 0.1702 - val_accuracy: 0.9586\n",
      "Epoch 2/20\n",
      "320/320 [==============================] - 4s 13ms/step - loss: 0.1226 - accuracy: 0.9647 - val_loss: 0.1000 - val_accuracy: 0.9699\n",
      "Epoch 3/20\n",
      "320/320 [==============================] - 4s 13ms/step - loss: 0.0784 - accuracy: 0.9770 - val_loss: 0.0803 - val_accuracy: 0.9723\n",
      "Epoch 4/20\n",
      "320/320 [==============================] - 4s 13ms/step - loss: 0.0585 - accuracy: 0.9827 - val_loss: 0.0720 - val_accuracy: 0.9752\n",
      "Epoch 5/20\n",
      "320/320 [==============================] - 4s 13ms/step - loss: 0.0461 - accuracy: 0.9864 - val_loss: 0.0682 - val_accuracy: 0.9746\n",
      "Epoch 6/20\n",
      "320/320 [==============================] - 4s 13ms/step - loss: 0.0375 - accuracy: 0.9885 - val_loss: 0.0667 - val_accuracy: 0.9748\n",
      "Epoch 7/20\n",
      "320/320 [==============================] - 4s 13ms/step - loss: 0.0310 - accuracy: 0.9914 - val_loss: 0.0664 - val_accuracy: 0.9752\n",
      "Epoch 8/20\n",
      "320/320 [==============================] - 4s 13ms/step - loss: 0.0262 - accuracy: 0.9933 - val_loss: 0.0675 - val_accuracy: 0.9754\n",
      "Epoch 9/20\n",
      "320/320 [==============================] - 4s 13ms/step - loss: 0.0225 - accuracy: 0.9942 - val_loss: 0.0694 - val_accuracy: 0.9744\n",
      "Epoch 10/20\n",
      "320/320 [==============================] - 5s 15ms/step - loss: 0.0191 - accuracy: 0.9953 - val_loss: 0.0714 - val_accuracy: 0.9738\n"
     ]
    }
   ],
   "source": [
    "model_nn_hist = model_nn.fit(train_dataset,\n",
    "                             epochs = 20,\n",
    "                             validation_data = (val_dataset),\n",
    "                             callbacks = call1)"
   ]
  },
  {
   "cell_type": "markdown",
   "metadata": {},
   "source": [
    "From the 20 epochs, the best result has shown at 10th epoch with total time consumed is 43.3s. "
   ]
  },
  {
   "cell_type": "markdown",
   "metadata": {},
   "source": [
    "# Model Evaluation"
   ]
  },
  {
   "cell_type": "markdown",
   "metadata": {},
   "source": [
    "To ease my work, I put history of evaluation per epoch in dataframe and visualize it in line graph."
   ]
  },
  {
   "cell_type": "code",
   "execution_count": 346,
   "metadata": {},
   "outputs": [
    {
     "data": {
      "image/png": "[encoded data removed]",
      "text/plain": [
       "<Figure size 1080x360 with 2 Axes>"
      ]
     },
     "metadata": {
      "needs_background": "light"
     },
     "output_type": "display_data"
    }
   ],
   "source": [
    "m1 = pd.DataFrame(model_nn_hist.history)\n",
    "f,ax = plt.subplots(ncols  = 2, figsize = (15,5))\n",
    "m1[['loss','val_loss']].plot(ax = ax[0])\n",
    "m1[['accuracy','val_accuracy']].plot(ax = ax[1])\n",
    "plt.show()"
   ]
  },
  {
   "cell_type": "markdown",
   "metadata": {},
   "source": [
    "The gap between train and validation curve is wide enough so the performance of the model is overfitting. But the loss rate is low under 10% for validation and under 5% for train and the accuracy is high in 97% for validation. But the train accuracy convergent to 100%."
   ]
  },
  {
   "cell_type": "code",
   "execution_count": 347,
   "metadata": {},
   "outputs": [
    {
     "data": {
      "text/plain": [
       "array([[1],\n",
       "       [1],\n",
       "       [0],\n",
       "       ...,\n",
       "       [1],\n",
       "       [1],\n",
       "       [1]])"
      ]
     },
     "execution_count": 347,
     "metadata": {},
     "output_type": "execute_result"
    }
   ],
   "source": [
    "pred1_train = model_nn.predict(X_train)\n",
    "pred1_train = np.where(pred1_train>0.5,1,0)\n",
    "pred1_train"
   ]
  },
  {
   "cell_type": "code",
   "execution_count": 348,
   "metadata": {},
   "outputs": [
    {
     "name": "stdout",
     "output_type": "stream",
     "text": [
      "              precision    recall  f1-score   support\n",
      "\n",
      "           0       1.00      1.00      1.00     10238\n",
      "           1       1.00      1.00      1.00     10242\n",
      "\n",
      "    accuracy                           1.00     20480\n",
      "   macro avg       1.00      1.00      1.00     20480\n",
      "weighted avg       1.00      1.00      1.00     20480\n",
      "\n"
     ]
    }
   ],
   "source": [
    "print(classification_report(y_train, pred1_train))"
   ]
  },
  {
   "cell_type": "markdown",
   "metadata": {},
   "source": [
    "The model train too well until get 100% right prediction."
   ]
  },
  {
   "cell_type": "code",
   "execution_count": 349,
   "metadata": {},
   "outputs": [
    {
     "name": "stdout",
     "output_type": "stream",
     "text": [
      "              precision    recall  f1-score   support\n",
      "\n",
      "           0       0.97      0.98      0.97      2594\n",
      "           1       0.98      0.97      0.97      2526\n",
      "\n",
      "    accuracy                           0.97      5120\n",
      "   macro avg       0.97      0.97      0.97      5120\n",
      "weighted avg       0.97      0.97      0.97      5120\n",
      "\n"
     ]
    }
   ],
   "source": [
    "pred1_val = model_nn.predict(X_val)\n",
    "pred1_val = np.where(pred1_val>0.5,1,0)\n",
    "print(classification_report(y_val,pred1_val))"
   ]
  },
  {
   "cell_type": "markdown",
   "metadata": {},
   "source": [
    "for validation prediction, the accuracy is 97% also for each class get 97% f1 score. From this case, I want to focus on `precision` score because it will be a problem if predict news (`Positive`) is not clickbait (`Negative`) but actually clickbait (`False Positive`) than predict clickbait but actually a normal news (`False Negative`). Because usually clickbait headline has negative connotations and lead opinion to one side only if reader just read the headline. It can drive public opinion into one side of story. Even worse when the clickbait headline news is received as a fact without checking what inside (which usually far from the headline tell you about) it will disappoint the reader and give bad ratings to the website. Thus, in this case, I want to minimize `False Positive` and get high `precision` in class 0.\n",
    "from the evaluation of validation score, `precision` for class 0 is 97%.\n",
    "\n",
    "Next, let's see how the performance of the model for new data (`X_test`)"
   ]
  },
  {
   "cell_type": "code",
   "execution_count": 350,
   "metadata": {},
   "outputs": [
    {
     "name": "stdout",
     "output_type": "stream",
     "text": [
      "              precision    recall  f1-score   support\n",
      "\n",
      "           0       0.97      0.98      0.98      3169\n",
      "           1       0.98      0.97      0.98      3231\n",
      "\n",
      "    accuracy                           0.98      6400\n",
      "   macro avg       0.98      0.98      0.98      6400\n",
      "weighted avg       0.98      0.98      0.98      6400\n",
      "\n"
     ]
    }
   ],
   "source": [
    "pred1_test = model_nn.predict(X_test)\n",
    "pred1_test = np.where(pred1_test>0.5,1,0)\n",
    "print(classification_report(y_test,pred1_test))"
   ]
  },
  {
   "cell_type": "markdown",
   "metadata": {},
   "source": [
    "F1 score 98% for each metrics higher than the validation score. This mean the model is overfit or too powerful to predict this case because when train process the model is too good (even perfect). In testing process the accuracy decrease 2% from the training process, but in my perspective this gap is considered as a goodfit."
   ]
  },
  {
   "cell_type": "markdown",
   "metadata": {},
   "source": [
    "## Model LSTM"
   ]
  },
  {
   "cell_type": "markdown",
   "metadata": {},
   "source": [
    "From Neural Network I get a good fit model so far, but how about the RNN model? hope we can find the best result in here.\n",
    "RNN model that I use in this project is LSTM (Long Short-Term Memory) and GRU (Gated Reccurent Unit). Here's the baseline model for RNN model."
   ]
  },
  {
   "cell_type": "markdown",
   "metadata": {},
   "source": [
    "## Model Definition\n",
    "\n",
    "In this model I use LSTM with 64 neuron, and all the hyperparameter in this model is still the same with NN model before."
   ]
  },
  {
   "cell_type": "code",
   "execution_count": 351,
   "metadata": {},
   "outputs": [],
   "source": [
    "inputs = Input(shape=(1,),dtype = 'string') \n",
    "x = text_vectorization(inputs)\n",
    "x = embedding(x)\n",
    "x = LSTM(64)(x)\n",
    "outputs = Dense(1, activation = 'sigmoid')(x)\n",
    "model_lstm = Model(inputs, outputs, name = 'lstm')\n",
    "\n",
    "model_lstm.compile(loss = 'binary_crossentropy',\n",
    "                 optimizer = 'adam',\n",
    "                 metrics = ['accuracy'])"
   ]
  },
  {
   "cell_type": "markdown",
   "metadata": {},
   "source": [
    "## Model Training"
   ]
  },
  {
   "cell_type": "markdown",
   "metadata": {},
   "source": [
    "callbacks and the epochs have the same hyperparameters like the first model. "
   ]
  },
  {
   "cell_type": "code",
   "execution_count": 352,
   "metadata": {},
   "outputs": [
    {
     "name": "stdout",
     "output_type": "stream",
     "text": [
      "Epoch 1/20\n",
      "320/320 [==============================] - 20s 26ms/step - loss: 0.0399 - accuracy: 0.9904 - val_loss: 0.0876 - val_accuracy: 0.9738\n",
      "Epoch 2/20\n",
      "320/320 [==============================] - 8s 26ms/step - loss: 0.0121 - accuracy: 0.9967 - val_loss: 0.0969 - val_accuracy: 0.9727\n",
      "Epoch 3/20\n",
      "320/320 [==============================] - 8s 26ms/step - loss: 0.0095 - accuracy: 0.9973 - val_loss: 0.1101 - val_accuracy: 0.9721\n",
      "Epoch 4/20\n",
      "320/320 [==============================] - 8s 26ms/step - loss: 0.0087 - accuracy: 0.9979 - val_loss: 0.1170 - val_accuracy: 0.9715\n"
     ]
    }
   ],
   "source": [
    "model_lstm_hist = model_lstm.fit(train_dataset,\n",
    "                             epochs = 20,\n",
    "                             validation_data = (val_dataset),\n",
    "                             callbacks = call1)"
   ]
  },
  {
   "cell_type": "markdown",
   "metadata": {},
   "source": [
    "The convergent result has been shown up in 4th epoch. This train process spent 45.5s longer than NN model which spent 43.3s"
   ]
  },
  {
   "cell_type": "code",
   "execution_count": 353,
   "metadata": {},
   "outputs": [
    {
     "data": {
      "image/png": "[encoded data removed]",
      "text/plain": [
       "<Figure size 1080x360 with 2 Axes>"
      ]
     },
     "metadata": {
      "needs_background": "light"
     },
     "output_type": "display_data"
    }
   ],
   "source": [
    "m2 = pd.DataFrame(model_lstm_hist.history)\n",
    "f,ax = plt.subplots(ncols  = 2, figsize = (15,5))\n",
    "m2[['loss','val_loss']].plot(ax = ax[0])\n",
    "m2[['accuracy','val_accuracy']].plot(ax = ax[1])\n",
    "plt.show()"
   ]
  },
  {
   "cell_type": "markdown",
   "metadata": {},
   "source": [
    "The loss validation curve is not convergent, accuracy as well. Train loss converges to 0, train accuracy converges to 1. Gap between train-validation graphic is wider than NN model meaning the model is overfit."
   ]
  },
  {
   "cell_type": "code",
   "execution_count": 354,
   "metadata": {},
   "outputs": [],
   "source": [
    "pred2_train = model_lstm.predict(X_train)\n",
    "pred2_val = model_lstm.predict(X_val)\n",
    "pred2_test = model_lstm.predict(X_test)\n",
    "pred2_train = np.where(pred2_train>0.5,1,0)\n",
    "pred2_val = np.where(pred2_val>0.5,1,0)\n",
    "pred2_test = np.where(pred2_test>0.5,1,0)"
   ]
  },
  {
   "cell_type": "code",
   "execution_count": 355,
   "metadata": {},
   "outputs": [
    {
     "name": "stdout",
     "output_type": "stream",
     "text": [
      "train: \n",
      "               precision    recall  f1-score   support\n",
      "\n",
      "           0       1.00      1.00      1.00     10238\n",
      "           1       1.00      1.00      1.00     10242\n",
      "\n",
      "    accuracy                           1.00     20480\n",
      "   macro avg       1.00      1.00      1.00     20480\n",
      "weighted avg       1.00      1.00      1.00     20480\n",
      "\n",
      "val: \n",
      "               precision    recall  f1-score   support\n",
      "\n",
      "           0       0.97      0.97      0.97      2594\n",
      "           1       0.97      0.97      0.97      2526\n",
      "\n",
      "    accuracy                           0.97      5120\n",
      "   macro avg       0.97      0.97      0.97      5120\n",
      "weighted avg       0.97      0.97      0.97      5120\n",
      "\n",
      "test: \n",
      "               precision    recall  f1-score   support\n",
      "\n",
      "           0       0.97      0.97      0.97      3169\n",
      "           1       0.97      0.98      0.97      3231\n",
      "\n",
      "    accuracy                           0.97      6400\n",
      "   macro avg       0.97      0.97      0.97      6400\n",
      "weighted avg       0.97      0.97      0.97      6400\n",
      "\n"
     ]
    }
   ],
   "source": [
    "print('train: \\n',classification_report(y_train,pred2_train))\n",
    "print('val: \\n',classification_report(y_val,pred2_val))\n",
    "print('test: \\n',classification_report(y_test,pred2_test))"
   ]
  },
  {
   "cell_type": "markdown",
   "metadata": {},
   "source": [
    "Recall score is higher than precision in 1 class for test set. The accuracy for both validation and test is 0.97. For comparation with NN model, there's improvement in epochs training but the total time spent dont improve even take more time to train LSTM model. I only need 5 epochs to train LSTM model when in NN model I need 10 epochs. But test score in LSTM model is lower 1% than NN model. NN model still a better choice if compared to LSTM model in this case."
   ]
  },
  {
   "cell_type": "markdown",
   "metadata": {},
   "source": [
    "## Model GRU"
   ]
  },
  {
   "cell_type": "markdown",
   "metadata": {},
   "source": [
    "This is baseline model for GRU model. The hyperparameter for other layer is still the same. The neuron for GRU model is 64 neurons. I choose epochs 50 in case the process take more time to converge."
   ]
  },
  {
   "cell_type": "code",
   "execution_count": 178,
   "metadata": {},
   "outputs": [
    {
     "name": "stdout",
     "output_type": "stream",
     "text": [
      "Epoch 1/50\n",
      "320/320 [==============================] - 9s 24ms/step - loss: 0.0427 - accuracy: 0.9827 - val_loss: 0.1301 - val_accuracy: 0.9703\n",
      "Epoch 2/50\n",
      "320/320 [==============================] - 7s 22ms/step - loss: 0.0062 - accuracy: 0.9982 - val_loss: 0.1494 - val_accuracy: 0.9703\n",
      "Epoch 3/50\n",
      "320/320 [==============================] - 7s 22ms/step - loss: 0.0054 - accuracy: 0.9984 - val_loss: 0.1536 - val_accuracy: 0.9705\n",
      "Epoch 4/50\n",
      "320/320 [==============================] - 7s 21ms/step - loss: 0.0044 - accuracy: 0.9991 - val_loss: 0.1648 - val_accuracy: 0.9713\n"
     ]
    }
   ],
   "source": [
    "#Model Definitio\n",
    "inputs = Input(shape=(1,),dtype = 'string') \n",
    "x = text_vectorization(inputs)\n",
    "x = embedding(x)\n",
    "x = GRU(64)(x) \n",
    "outputs = Dense(1, activation = 'sigmoid')(x)\n",
    "model_gru = Model(inputs, outputs, name = 'gru')\n",
    "\n",
    "model_gru.compile(loss = 'binary_crossentropy',\n",
    "                 optimizer = 'adam',\n",
    "                 metrics = ['accuracy'])\n",
    "# Model Training\n",
    "model_gru_hist = model_gru.fit(train_dataset,\n",
    "                             epochs = 50,\n",
    "                             validation_data = (val_dataset),\n",
    "                             callbacks = call1\n",
    "                             )"
   ]
  },
  {
   "cell_type": "markdown",
   "metadata": {},
   "source": [
    "Only need 4 epochs to reach convergent score. The gap for loss train-validation is wide, around 0.16. Let's put all this number to a dataframe."
   ]
  },
  {
   "cell_type": "code",
   "execution_count": 179,
   "metadata": {},
   "outputs": [
    {
     "data": {
      "image/png": "[encoded data removed]",
      "text/plain": [
       "<Figure size 1080x360 with 2 Axes>"
      ]
     },
     "metadata": {
      "needs_background": "light"
     },
     "output_type": "display_data"
    }
   ],
   "source": [
    "m3 = pd.DataFrame(model_gru_hist.history)\n",
    "f,ax = plt.subplots(ncols  = 2, figsize = (15,5))\n",
    "m3[['loss','val_loss']].plot(ax = ax[0])\n",
    "m3[['accuracy','val_accuracy']].plot(ax = ax[1])\n",
    "plt.show()"
   ]
  },
  {
   "cell_type": "markdown",
   "metadata": {},
   "source": [
    "Despite of fast converges, the gap in train-validation is higher than before. Validation loss increase overtime, so is accuracy. Train loss and accuracy already converges in first epoch."
   ]
  },
  {
   "cell_type": "code",
   "execution_count": 180,
   "metadata": {},
   "outputs": [],
   "source": [
    "pred3_train = model_gru.predict(X_train)\n",
    "pred3_val = model_gru.predict(X_val)\n",
    "pred3_test = model_gru.predict(X_test)\n",
    "pred3_train = np.where(pred3_train>0.5,1,0)\n",
    "pred3_val = np.where(pred3_val>0.5,1,0)\n",
    "pred3_test = np.where(pred3_test>0.5,1,0)"
   ]
  },
  {
   "cell_type": "code",
   "execution_count": 356,
   "metadata": {},
   "outputs": [
    {
     "name": "stdout",
     "output_type": "stream",
     "text": [
      "train: \n",
      "               precision    recall  f1-score   support\n",
      "\n",
      "           0       1.00      1.00      1.00     10238\n",
      "           1       1.00      1.00      1.00     10242\n",
      "\n",
      "    accuracy                           1.00     20480\n",
      "   macro avg       1.00      1.00      1.00     20480\n",
      "weighted avg       1.00      1.00      1.00     20480\n",
      "\n",
      "val: \n",
      "               precision    recall  f1-score   support\n",
      "\n",
      "           0       0.98      0.97      0.97      2594\n",
      "           1       0.97      0.98      0.97      2526\n",
      "\n",
      "    accuracy                           0.97      5120\n",
      "   macro avg       0.97      0.97      0.97      5120\n",
      "weighted avg       0.97      0.97      0.97      5120\n",
      "\n",
      "test: \n",
      "               precision    recall  f1-score   support\n",
      "\n",
      "           0       0.98      0.97      0.97      3169\n",
      "           1       0.97      0.98      0.97      3231\n",
      "\n",
      "    accuracy                           0.97      6400\n",
      "   macro avg       0.97      0.97      0.97      6400\n",
      "weighted avg       0.97      0.97      0.97      6400\n",
      "\n"
     ]
    }
   ],
   "source": [
    "print('train: \\n',classification_report(y_train,pred3_train))\n",
    "print('val: \\n',classification_report(y_val,pred3_val))\n",
    "print('test: \\n',classification_report(y_test,pred3_test))"
   ]
  },
  {
   "cell_type": "markdown",
   "metadata": {},
   "source": [
    "Precision score in 0 class for both validation and train get 98% score. This model get better result by judging from total time (30.5s) and precision in class 0 get 98% score. Next, I will improve the architecure of GRU baseline model to get better model performance."
   ]
  },
  {
   "cell_type": "markdown",
   "metadata": {},
   "source": [
    "# Model Improvement"
   ]
  },
  {
   "cell_type": "markdown",
   "metadata": {},
   "source": [
    "## Improvement 1\n",
    "In this improvement I will increase the neuron to 128 to see the comparation between baseline model and choose adamax optimizer. Adamax can be superior than adam optimizer when embedding layer is added to the architecture (Keras, 2022)."
   ]
  },
  {
   "cell_type": "code",
   "execution_count": 182,
   "metadata": {},
   "outputs": [
    {
     "name": "stdout",
     "output_type": "stream",
     "text": [
      "Epoch 1/50\n",
      "320/320 [==============================] - 11s 29ms/step - loss: 0.0315 - accuracy: 0.9883 - val_loss: 0.1181 - val_accuracy: 0.9713\n",
      "Epoch 2/50\n",
      "320/320 [==============================] - 9s 27ms/step - loss: 0.0046 - accuracy: 0.9989 - val_loss: 0.1325 - val_accuracy: 0.9686\n",
      "Epoch 3/50\n",
      "320/320 [==============================] - 11s 35ms/step - loss: 0.0034 - accuracy: 0.9993 - val_loss: 0.1478 - val_accuracy: 0.9701\n",
      "Epoch 4/50\n",
      "320/320 [==============================] - 9s 29ms/step - loss: 0.0029 - accuracy: 0.9994 - val_loss: 0.1670 - val_accuracy: 0.9668\n"
     ]
    }
   ],
   "source": [
    "inputs = Input(shape=(1,),dtype = 'string') \n",
    "x = text_vectorization(inputs)\n",
    "x = embedding(x)\n",
    "x = GRU(128)(x)\n",
    "outputs = Dense(1, activation = 'sigmoid')(x)\n",
    "model_gru2 = Model(inputs, outputs, name = 'gru2')\n",
    "\n",
    "model_gru2.compile(loss = 'binary_crossentropy',\n",
    "                 optimizer = 'adamax',\n",
    "                 metrics = ['accuracy'])\n",
    "\n",
    "model_gru2_hist = model_gru2.fit(train_dataset,\n",
    "                             epochs = 50,\n",
    "                             validation_data = (val_dataset),\n",
    "                             callbacks = call1\n",
    "                             )"
   ]
  },
  {
   "cell_type": "markdown",
   "metadata": {},
   "source": [
    "Total time to train this model is 41.1s higher than baseline model. Let's see how the performance of the model"
   ]
  },
  {
   "cell_type": "markdown",
   "metadata": {},
   "source": [
    "### Model Evaluation"
   ]
  },
  {
   "cell_type": "code",
   "execution_count": 187,
   "metadata": {},
   "outputs": [
    {
     "data": {
      "image/png": "[encoded data removed]",
      "text/plain": [
       "<Figure size 1080x360 with 2 Axes>"
      ]
     },
     "metadata": {
      "needs_background": "light"
     },
     "output_type": "display_data"
    }
   ],
   "source": [
    "m4 = pd.DataFrame(model_gru2_hist.history)\n",
    "f,ax = plt.subplots(ncols  = 2, figsize = (15,5))\n",
    "m4[['loss','val_loss']].plot(ax = ax[0])\n",
    "m4[['accuracy','val_accuracy']].plot(ax = ax[1])\n",
    "plt.show()"
   ]
  },
  {
   "cell_type": "markdown",
   "metadata": {},
   "source": [
    "Seems like the model is overfit becasue the validation curve increasing overtime when train curve decrease."
   ]
  },
  {
   "cell_type": "code",
   "execution_count": 183,
   "metadata": {},
   "outputs": [],
   "source": [
    "pred4_train = model_gru2.predict(X_train)\n",
    "pred4_val = model_gru2.predict(X_val)\n",
    "pred4_test = model_gru2.predict(X_test)\n",
    "pred4_train = np.where(pred4_train>0.5,1,0)\n",
    "pred4_val = np.where(pred4_val>0.5,1,0)\n",
    "pred4_test = np.where(pred4_test>0.5,1,0)"
   ]
  },
  {
   "cell_type": "code",
   "execution_count": 357,
   "metadata": {},
   "outputs": [
    {
     "name": "stdout",
     "output_type": "stream",
     "text": [
      "train: \n",
      "               precision    recall  f1-score   support\n",
      "\n",
      "           0       1.00      1.00      1.00     10238\n",
      "           1       1.00      1.00      1.00     10242\n",
      "\n",
      "    accuracy                           1.00     20480\n",
      "   macro avg       1.00      1.00      1.00     20480\n",
      "weighted avg       1.00      1.00      1.00     20480\n",
      "\n",
      "val: \n",
      "               precision    recall  f1-score   support\n",
      "\n",
      "           0       0.97      0.97      0.97      2594\n",
      "           1       0.97      0.97      0.97      2526\n",
      "\n",
      "    accuracy                           0.97      5120\n",
      "   macro avg       0.97      0.97      0.97      5120\n",
      "weighted avg       0.97      0.97      0.97      5120\n",
      "\n",
      "test: \n",
      "               precision    recall  f1-score   support\n",
      "\n",
      "           0       0.97      0.97      0.97      3169\n",
      "           1       0.97      0.97      0.97      3231\n",
      "\n",
      "    accuracy                           0.97      6400\n",
      "   macro avg       0.97      0.97      0.97      6400\n",
      "weighted avg       0.97      0.97      0.97      6400\n",
      "\n"
     ]
    }
   ],
   "source": [
    "print('train: \\n',classification_report(y_train,pred4_train))\n",
    "print('val: \\n',classification_report(y_val,pred4_val))\n",
    "print('test: \\n',classification_report(y_test,pred4_test))"
   ]
  },
  {
   "cell_type": "markdown",
   "metadata": {},
   "source": [
    "The classification report shows that precision for 0 class is decrease 1% and other metrics remain the same. Model improvement 1 dont have improved performance if compare to baseline model."
   ]
  },
  {
   "cell_type": "markdown",
   "metadata": {},
   "source": [
    "## Improvement 2\n",
    "I improve the neuron in this GRU model to 8 neuron only and other hyperparameters is the same."
   ]
  },
  {
   "cell_type": "code",
   "execution_count": 186,
   "metadata": {},
   "outputs": [
    {
     "name": "stdout",
     "output_type": "stream",
     "text": [
      "Epoch 1/50\n",
      "320/320 [==============================] - 11s 26ms/step - loss: 0.4149 - accuracy: 0.8447 - val_loss: 0.1814 - val_accuracy: 0.9506\n",
      "Epoch 2/50\n",
      "320/320 [==============================] - 6s 20ms/step - loss: 0.0697 - accuracy: 0.9887 - val_loss: 0.0856 - val_accuracy: 0.9750\n",
      "Epoch 3/50\n",
      "320/320 [==============================] - 7s 23ms/step - loss: 0.0221 - accuracy: 0.9973 - val_loss: 0.0933 - val_accuracy: 0.9717\n",
      "Epoch 4/50\n",
      "320/320 [==============================] - 7s 23ms/step - loss: 0.0133 - accuracy: 0.9983 - val_loss: 0.1024 - val_accuracy: 0.9703\n",
      "Epoch 5/50\n",
      "320/320 [==============================] - 7s 23ms/step - loss: 0.0094 - accuracy: 0.9988 - val_loss: 0.1106 - val_accuracy: 0.9699\n"
     ]
    }
   ],
   "source": [
    "#Model Definition\n",
    "inputs = Input(shape=(1,),dtype = 'string') \n",
    "x = text_vectorization(inputs)\n",
    "x = embedding(x)\n",
    "x = GRU(8)(x)\n",
    "outputs = Dense(1, activation = 'sigmoid')(x)\n",
    "model_gru3 = Model(inputs, outputs, name = 'gru3')\n",
    "\n",
    "model_gru3.compile(loss = 'binary_crossentropy',\n",
    "                 optimizer = 'adamax',\n",
    "                 metrics = ['accuracy'])\n",
    "# Model Training\n",
    "model_gru3_hist = model_gru3.fit(train_dataset,\n",
    "                             epochs = 50,\n",
    "                             validation_data = (val_dataset),\n",
    "                             callbacks = call1\n",
    "                             )"
   ]
  },
  {
   "cell_type": "markdown",
   "metadata": {},
   "source": [
    "Total time consumed is 40.8s, longer than improvement 1 but faster than baseline model of GRU"
   ]
  },
  {
   "cell_type": "markdown",
   "metadata": {},
   "source": [
    "### Model Evaluation"
   ]
  },
  {
   "cell_type": "code",
   "execution_count": 188,
   "metadata": {},
   "outputs": [
    {
     "data": {
      "image/png": "[encoded data removed]",
      "text/plain": [
       "<Figure size 1080x360 with 2 Axes>"
      ]
     },
     "metadata": {
      "needs_background": "light"
     },
     "output_type": "display_data"
    }
   ],
   "source": [
    "m5 = pd.DataFrame(model_gru3_hist.history)\n",
    "f,ax = plt.subplots(ncols  = 2, figsize = (15,5))\n",
    "m5[['loss','val_loss']].plot(ax = ax[0])\n",
    "m5[['accuracy','val_accuracy']].plot(ax = ax[1])\n",
    "plt.show()"
   ]
  },
  {
   "cell_type": "markdown",
   "metadata": {},
   "source": [
    "From graphic above, this model is less overfit than improvement 1 and GRU baseline model."
   ]
  },
  {
   "cell_type": "code",
   "execution_count": 189,
   "metadata": {},
   "outputs": [],
   "source": [
    "pred5_train = model_gru2.predict(X_train)\n",
    "pred5_val = model_gru2.predict(X_val)\n",
    "pred5_test = model_gru2.predict(X_test)\n",
    "pred5_train = np.where(pred5_train>0.5,1,0)\n",
    "pred5_val = np.where(pred5_val>0.5,1,0)\n",
    "pred5_test = np.where(pred5_test>0.5,1,0)"
   ]
  },
  {
   "cell_type": "code",
   "execution_count": 190,
   "metadata": {},
   "outputs": [
    {
     "name": "stdout",
     "output_type": "stream",
     "text": [
      "train: \n",
      "               precision    recall  f1-score   support\n",
      "\n",
      "           0       1.00      1.00      1.00     10238\n",
      "           1       1.00      1.00      1.00     10242\n",
      "\n",
      "    accuracy                           1.00     20480\n",
      "   macro avg       1.00      1.00      1.00     20480\n",
      "weighted avg       1.00      1.00      1.00     20480\n",
      "\n",
      "test: \n",
      "               precision    recall  f1-score   support\n",
      "\n",
      "           0       0.97      0.98      0.97      3169\n",
      "           1       0.98      0.97      0.97      3231\n",
      "\n",
      "    accuracy                           0.97      6400\n",
      "   macro avg       0.97      0.97      0.97      6400\n",
      "weighted avg       0.97      0.97      0.97      6400\n",
      "\n",
      "val: \n",
      "               precision    recall  f1-score   support\n",
      "\n",
      "           0       0.96      0.97      0.97      2594\n",
      "           1       0.97      0.96      0.97      2526\n",
      "\n",
      "    accuracy                           0.97      5120\n",
      "   macro avg       0.97      0.97      0.97      5120\n",
      "weighted avg       0.97      0.97      0.97      5120\n",
      "\n"
     ]
    }
   ],
   "source": [
    "print('train: \\n',classification_report(y_train,pred5_train))\n",
    "print('test: \\n',classification_report(y_test,pred5_test))\n",
    "print('val: \\n',classification_report(y_val,pred5_val))"
   ]
  },
  {
   "cell_type": "markdown",
   "metadata": {},
   "source": [
    "Precision score for validation is decrease to 96% and recall is higher than precision. This model improves in time and less overfit. Maybe I can reduce the neuron more."
   ]
  },
  {
   "cell_type": "markdown",
   "metadata": {},
   "source": [
    "# Improvement 3\n",
    "The improvement from this architecture will be \n",
    "1. reduce neuron to 4 neuron\n",
    "2. add recurrent_dropout = 0.2 in GRU layer\n",
    "3. add dropout layer that the dropout rate is 0.4"
   ]
  },
  {
   "cell_type": "code",
   "execution_count": 313,
   "metadata": {},
   "outputs": [
    {
     "name": "stdout",
     "output_type": "stream",
     "text": [
      "Epoch 1/50\n",
      "320/320 [==============================] - 5s 11ms/step - loss: 0.6570 - accuracy: 0.6216 - val_loss: 0.5204 - val_accuracy: 0.8350\n",
      "Epoch 2/50\n",
      "320/320 [==============================] - 3s 11ms/step - loss: 0.3321 - accuracy: 0.8942 - val_loss: 0.1779 - val_accuracy: 0.9420\n",
      "Epoch 3/50\n",
      "320/320 [==============================] - 3s 10ms/step - loss: 0.1946 - accuracy: 0.9415 - val_loss: 0.1252 - val_accuracy: 0.9580\n",
      "Epoch 4/50\n",
      "320/320 [==============================] - 3s 10ms/step - loss: 0.1510 - accuracy: 0.9526 - val_loss: 0.1089 - val_accuracy: 0.9635\n",
      "Epoch 5/50\n",
      "320/320 [==============================] - 3s 9ms/step - loss: 0.1272 - accuracy: 0.9620 - val_loss: 0.1012 - val_accuracy: 0.9646\n",
      "Epoch 6/50\n",
      "320/320 [==============================] - 3s 9ms/step - loss: 0.1162 - accuracy: 0.9642 - val_loss: 0.0945 - val_accuracy: 0.9672\n",
      "Epoch 7/50\n",
      "320/320 [==============================] - 3s 9ms/step - loss: 0.1045 - accuracy: 0.9675 - val_loss: 0.0924 - val_accuracy: 0.9680\n",
      "Epoch 8/50\n",
      "320/320 [==============================] - 3s 10ms/step - loss: 0.0961 - accuracy: 0.9702 - val_loss: 0.0900 - val_accuracy: 0.9699\n",
      "Epoch 9/50\n",
      "320/320 [==============================] - 3s 9ms/step - loss: 0.0901 - accuracy: 0.9731 - val_loss: 0.0886 - val_accuracy: 0.9709\n",
      "Epoch 10/50\n",
      "320/320 [==============================] - 3s 9ms/step - loss: 0.0845 - accuracy: 0.9732 - val_loss: 0.0884 - val_accuracy: 0.9713\n",
      "Epoch 11/50\n",
      "320/320 [==============================] - 3s 9ms/step - loss: 0.0806 - accuracy: 0.9754 - val_loss: 0.0883 - val_accuracy: 0.9727\n",
      "Epoch 12/50\n",
      "320/320 [==============================] - 3s 9ms/step - loss: 0.0744 - accuracy: 0.9758 - val_loss: 0.0894 - val_accuracy: 0.9725\n",
      "Epoch 13/50\n",
      "320/320 [==============================] - 3s 9ms/step - loss: 0.0698 - accuracy: 0.9758 - val_loss: 0.0914 - val_accuracy: 0.9730\n",
      "Epoch 14/50\n",
      "320/320 [==============================] - 3s 9ms/step - loss: 0.0675 - accuracy: 0.9788 - val_loss: 0.0922 - val_accuracy: 0.9736\n"
     ]
    }
   ],
   "source": [
    "# Model Definition\n",
    "inputs = Input(shape=(1,),dtype = 'string') \n",
    "x = text_vectorization(inputs)\n",
    "x = embedding(x)\n",
    "x = GRU(4,recurrent_dropout=0.2)(x)\n",
    "x = Dropout(0.4)(x)\n",
    "outputs = Dense(1, activation = 'sigmoid')(x)\n",
    "model_gru4 = Model(inputs, outputs, name = 'gru4')\n",
    "\n",
    "model_gru4.compile(loss = 'binary_crossentropy',\n",
    "                 optimizer = 'adamax',\n",
    "                 metrics = ['accuracy'])\n",
    "# Model Training\n",
    "model_gru4_hist = model_gru4.fit(train_dataset,\n",
    "                             epochs = 50,\n",
    "                             validation_data = (val_dataset),\n",
    "                             callbacks = call1\n",
    "                             )"
   ]
  },
  {
   "cell_type": "markdown",
   "metadata": {},
   "source": [
    "this model takes 44.4s to converge longer than any other GRU model but still faster than NN model. This model takes more epochs as well."
   ]
  },
  {
   "cell_type": "markdown",
   "metadata": {},
   "source": [
    "### Model Evaluation"
   ]
  },
  {
   "cell_type": "code",
   "execution_count": 314,
   "metadata": {},
   "outputs": [
    {
     "data": {
      "image/png": "[encoded data removed]",
      "text/plain": [
       "<Figure size 1080x360 with 2 Axes>"
      ]
     },
     "metadata": {
      "needs_background": "light"
     },
     "output_type": "display_data"
    }
   ],
   "source": [
    "m6 = pd.DataFrame(model_gru4_hist.history)\n",
    "f,ax = plt.subplots(ncols  = 2, figsize = (15,5))\n",
    "m6[['loss','val_loss']].plot(ax = ax[0])\n",
    "m6[['accuracy','val_accuracy']].plot(ax = ax[1])\n",
    "plt.show()"
   ]
  },
  {
   "cell_type": "markdown",
   "metadata": {},
   "source": [
    "The performance of the model is converge simultaneously. So far, this is the best fit performance I have. Let's check the precision and accuracy score"
   ]
  },
  {
   "cell_type": "code",
   "execution_count": 315,
   "metadata": {},
   "outputs": [],
   "source": [
    "pred6_train = model_gru4.predict(X_train)\n",
    "pred6_val = model_gru4.predict(X_val)\n",
    "pred6_test = model_gru4.predict(X_test)\n",
    "pred6_train = np.where(pred6_train>0.5,1,0)\n",
    "pred6_val = np.where(pred6_val>0.5,1,0)\n",
    "pred6_test = np.where(pred6_test>0.5,1,0)"
   ]
  },
  {
   "cell_type": "code",
   "execution_count": 316,
   "metadata": {},
   "outputs": [
    {
     "name": "stdout",
     "output_type": "stream",
     "text": [
      "train: \n",
      "               precision    recall  f1-score   support\n",
      "\n",
      "           0       1.00      0.99      0.99     10238\n",
      "           1       0.99      1.00      0.99     10242\n",
      "\n",
      "    accuracy                           0.99     20480\n",
      "   macro avg       0.99      0.99      0.99     20480\n",
      "weighted avg       0.99      0.99      0.99     20480\n",
      "\n",
      "test: \n",
      "               precision    recall  f1-score   support\n",
      "\n",
      "           0       0.98      0.97      0.97      3169\n",
      "           1       0.97      0.98      0.97      3231\n",
      "\n",
      "    accuracy                           0.97      6400\n",
      "   macro avg       0.97      0.97      0.97      6400\n",
      "weighted avg       0.97      0.97      0.97      6400\n",
      "\n",
      "val: \n",
      "               precision    recall  f1-score   support\n",
      "\n",
      "           0       0.98      0.97      0.97      2594\n",
      "           1       0.97      0.98      0.97      2526\n",
      "\n",
      "    accuracy                           0.97      5120\n",
      "   macro avg       0.97      0.97      0.97      5120\n",
      "weighted avg       0.97      0.97      0.97      5120\n",
      "\n"
     ]
    }
   ],
   "source": [
    "print('train: \\n',classification_report(y_train,pred6_train))\n",
    "print('test: \\n',classification_report(y_test,pred6_test))\n",
    "print('val: \\n',classification_report(y_val,pred6_val))"
   ]
  },
  {
   "cell_type": "markdown",
   "metadata": {},
   "source": [
    "Precision get 98% score and recall is lower than precision. The improvement that this model have is converges fast and have high precision. This architecture get the best result so far. But I still want to do improvement in dropout number."
   ]
  },
  {
   "cell_type": "markdown",
   "metadata": {},
   "source": [
    "# Improvement 4\n",
    "In this improvement I will increase the recurrent dropout to 0.3."
   ]
  },
  {
   "cell_type": "code",
   "execution_count": 324,
   "metadata": {},
   "outputs": [
    {
     "name": "stdout",
     "output_type": "stream",
     "text": [
      "Epoch 1/50\n",
      "320/320 [==============================] - 6s 12ms/step - loss: 0.6156 - accuracy: 0.6995 - val_loss: 0.4427 - val_accuracy: 0.9342\n",
      "Epoch 2/50\n",
      "320/320 [==============================] - 3s 9ms/step - loss: 0.2992 - accuracy: 0.9447 - val_loss: 0.1597 - val_accuracy: 0.9645\n",
      "Epoch 3/50\n",
      "320/320 [==============================] - 3s 9ms/step - loss: 0.1565 - accuracy: 0.9639 - val_loss: 0.1028 - val_accuracy: 0.9688\n",
      "Epoch 4/50\n",
      "320/320 [==============================] - 3s 9ms/step - loss: 0.1144 - accuracy: 0.9708 - val_loss: 0.0885 - val_accuracy: 0.9719\n",
      "Epoch 5/50\n",
      "320/320 [==============================] - 3s 9ms/step - loss: 0.0963 - accuracy: 0.9737 - val_loss: 0.0857 - val_accuracy: 0.9734\n",
      "Epoch 6/50\n",
      "320/320 [==============================] - 3s 10ms/step - loss: 0.0844 - accuracy: 0.9756 - val_loss: 0.0861 - val_accuracy: 0.9734\n",
      "Epoch 7/50\n",
      "320/320 [==============================] - 3s 9ms/step - loss: 0.0794 - accuracy: 0.9767 - val_loss: 0.0868 - val_accuracy: 0.9746\n",
      "Epoch 8/50\n",
      "320/320 [==============================] - 3s 9ms/step - loss: 0.0721 - accuracy: 0.9777 - val_loss: 0.0885 - val_accuracy: 0.9746\n"
     ]
    }
   ],
   "source": [
    "# Model Definition\n",
    "inputs = Input(shape=(1,),dtype = 'string') \n",
    "x = text_vectorization(inputs)\n",
    "x = embedding(x)\n",
    "x = GRU(4,recurrent_dropout=0.3)(x)\n",
    "x = Dropout(0.4)(x)\n",
    "outputs = Dense(1, activation = 'sigmoid')(x)\n",
    "model_gru5 = Model(inputs, outputs, name = 'gru5')\n",
    "\n",
    "model_gru5.compile(loss = 'binary_crossentropy',\n",
    "                 optimizer = 'adamax',\n",
    "                 metrics = ['accuracy'])\n",
    "# Model training\n",
    "model_gru5_hist = model_gru5.fit(train_dataset,\n",
    "                             epochs = 50,\n",
    "                             validation_data = (val_dataset),\n",
    "                             callbacks = call1\n",
    "                             )"
   ]
  },
  {
   "cell_type": "markdown",
   "metadata": {},
   "source": [
    "Training process has stop in 8 epoch with total time is 26.6s which is the fastest training time so far."
   ]
  },
  {
   "cell_type": "markdown",
   "metadata": {},
   "source": [
    "### Model Evaluation"
   ]
  },
  {
   "cell_type": "code",
   "execution_count": 325,
   "metadata": {},
   "outputs": [
    {
     "data": {
      "image/png": "[encoded data removed]",
      "text/plain": [
       "<Figure size 1080x360 with 2 Axes>"
      ]
     },
     "metadata": {
      "needs_background": "light"
     },
     "output_type": "display_data"
    }
   ],
   "source": [
    "m7 = pd.DataFrame(model_gru5_hist.history)\n",
    "f,ax = plt.subplots(ncols  = 2, figsize = (15,5))\n",
    "m7[['loss','val_loss']].plot(ax = ax[0])\n",
    "m7[['accuracy','val_accuracy']].plot(ax = ax[1])\n",
    "plt.show()"
   ]
  },
  {
   "cell_type": "markdown",
   "metadata": {},
   "source": [
    "this model has converges and get the best fit in 8 epoch. "
   ]
  },
  {
   "cell_type": "code",
   "execution_count": 326,
   "metadata": {},
   "outputs": [],
   "source": [
    "pred7_train = model_gru5.predict(X_train)\n",
    "pred7_val = model_gru5.predict(X_val)\n",
    "pred7_test = model_gru5.predict(X_test)\n",
    "pred7_train = np.where(pred7_train>0.5,1,0)\n",
    "pred7_val = np.where(pred7_val>0.5,1,0)\n",
    "pred7_test = np.where(pred7_test>0.5,1,0)"
   ]
  },
  {
   "cell_type": "code",
   "execution_count": 327,
   "metadata": {},
   "outputs": [
    {
     "name": "stdout",
     "output_type": "stream",
     "text": [
      "train: \n",
      "               precision    recall  f1-score   support\n",
      "\n",
      "           0       0.99      0.99      0.99     10238\n",
      "           1       0.99      0.99      0.99     10242\n",
      "\n",
      "    accuracy                           0.99     20480\n",
      "   macro avg       0.99      0.99      0.99     20480\n",
      "weighted avg       0.99      0.99      0.99     20480\n",
      "\n",
      "test: \n",
      "               precision    recall  f1-score   support\n",
      "\n",
      "           0       0.98      0.97      0.97      3169\n",
      "           1       0.97      0.98      0.97      3231\n",
      "\n",
      "    accuracy                           0.97      6400\n",
      "   macro avg       0.97      0.97      0.97      6400\n",
      "weighted avg       0.97      0.97      0.97      6400\n",
      "\n",
      "val: \n",
      "               precision    recall  f1-score   support\n",
      "\n",
      "           0       0.98      0.97      0.97      2594\n",
      "           1       0.97      0.98      0.97      2526\n",
      "\n",
      "    accuracy                           0.97      5120\n",
      "   macro avg       0.97      0.97      0.97      5120\n",
      "weighted avg       0.97      0.97      0.97      5120\n",
      "\n"
     ]
    }
   ],
   "source": [
    "print('train: \\n',classification_report(y_train,pred7_train))\n",
    "print('test: \\n',classification_report(y_test,pred7_test))\n",
    "print('val: \\n',classification_report(y_val,pred7_val))"
   ]
  },
  {
   "cell_type": "markdown",
   "metadata": {},
   "source": [
    "precision score is higher than recall. Although the scores is not different significantly but this is the best model for GRU where the total time to train is the fastest, the accuracy is 97%, and has the best fit performance. Thus, this model is the best architecure among any other neural network models."
   ]
  },
  {
   "cell_type": "markdown",
   "metadata": {},
   "source": [
    "# Model Saving"
   ]
  },
  {
   "cell_type": "markdown",
   "metadata": {},
   "source": [
    "After obtain the best architecture, I will save best model so I can use it again. I will use this model to make an app that can detect clickbait news."
   ]
  },
  {
   "cell_type": "markdown",
   "metadata": {},
   "source": [
    "I save the last improvement of GRU model and name it with model_best.tf"
   ]
  },
  {
   "cell_type": "code",
   "execution_count": 374,
   "metadata": {},
   "outputs": [
    {
     "name": "stdout",
     "output_type": "stream",
     "text": [
      "INFO:tensorflow:Assets written to: model_best.tf\\assets\n"
     ]
    },
    {
     "name": "stderr",
     "output_type": "stream",
     "text": [
      "INFO:tensorflow:Assets written to: model_best.tf\\assets\n",
      "WARNING:absl:<keras.layers.recurrent.GRUCell object at 0x000001F79735D1B0> has the same name 'GRUCell' as a built-in Keras object. Consider renaming <class 'keras.layers.recurrent.GRUCell'> to avoid naming conflicts when loading with `tf.keras.models.load_model`. If renaming is not possible, pass the object in the `custom_objects` parameter of the load function.\n"
     ]
    }
   ],
   "source": [
    "model_gru5.save('model_best.tf')"
   ]
  },
  {
   "cell_type": "markdown",
   "metadata": {},
   "source": [
    "After that to check if the model has been successfully save, I load the model and define it in `model` variable."
   ]
  },
  {
   "cell_type": "code",
   "execution_count": 375,
   "metadata": {},
   "outputs": [],
   "source": [
    "model = load_model('model_best.tf')"
   ]
  },
  {
   "cell_type": "code",
   "execution_count": 376,
   "metadata": {},
   "outputs": [
    {
     "name": "stdout",
     "output_type": "stream",
     "text": [
      "Model: \"gru5\"\n",
      "_________________________________________________________________\n",
      " Layer (type)                Output Shape              Param #   \n",
      "=================================================================\n",
      " input_37 (InputLayer)       [(None, 1)]               0         \n",
      "                                                                 \n",
      " text_vectorization_1 (TextV  (None, 14)               0         \n",
      " ectorization)                                                   \n",
      "                                                                 \n",
      " embedding_5 (Embedding)     (None, 14, 128)           640000    \n",
      "                                                                 \n",
      " gru_22 (GRU)                (None, 4)                 1608      \n",
      "                                                                 \n",
      " dropout_13 (Dropout)        (None, 4)                 0         \n",
      "                                                                 \n",
      " dense_33 (Dense)            (None, 1)                 5         \n",
      "                                                                 \n",
      "=================================================================\n",
      "Total params: 641,613\n",
      "Trainable params: 641,613\n",
      "Non-trainable params: 0\n",
      "_________________________________________________________________\n"
     ]
    }
   ],
   "source": [
    "model.summary()"
   ]
  },
  {
   "cell_type": "code",
   "execution_count": 385,
   "metadata": {},
   "outputs": [
    {
     "name": "stdout",
     "output_type": "stream",
     "text": [
      "Model: \"gru5\"\n",
      "_________________________________________________________________\n",
      " Layer (type)                Output Shape              Param #   \n",
      "=================================================================\n",
      " input_37 (InputLayer)       [(None, 1)]               0         \n",
      "                                                                 \n",
      " text_vectorization_1 (TextV  (None, 14)               0         \n",
      " ectorization)                                                   \n",
      "                                                                 \n",
      " embedding_5 (Embedding)     (None, 14, 128)           640000    \n",
      "                                                                 \n",
      " gru_22 (GRU)                (None, 4)                 1608      \n",
      "                                                                 \n",
      " dropout_13 (Dropout)        (None, 4)                 0         \n",
      "                                                                 \n",
      " dense_33 (Dense)            (None, 1)                 5         \n",
      "                                                                 \n",
      "=================================================================\n",
      "Total params: 641,613\n",
      "Trainable params: 641,613\n",
      "Non-trainable params: 0\n",
      "_________________________________________________________________\n"
     ]
    }
   ],
   "source": [
    "model_gru5.summary()"
   ]
  },
  {
   "cell_type": "markdown",
   "metadata": {},
   "source": [
    "the summary of saved model and best improvement GRU model is the same so I already saved the rigth best model."
   ]
  },
  {
   "cell_type": "markdown",
   "metadata": {},
   "source": [
    "# Model Inference"
   ]
  },
  {
   "cell_type": "markdown",
   "metadata": {},
   "source": [
    "In this section, I predict new data that is not from the dataset with saved model."
   ]
  },
  {
   "cell_type": "code",
   "execution_count": 220,
   "metadata": {},
   "outputs": [],
   "source": [
    "new = [\n",
    "    'A girl playing with snow until night without freezing'\n",
    "]\n",
    "new1= [\n",
    "    'Timor-Leste presidential election: José Ramos-Horta wins in landslide'\n",
    "]\n"
   ]
  },
  {
   "cell_type": "markdown",
   "metadata": {},
   "source": [
    "the first inference is clickbait news that I made and `new1` is normal news from [The Guardian](https://www.theguardian.com/world/2022/apr/21/timor-leste-presidential-election-jose-ramos-horta-wins-in-landslide)\n"
   ]
  },
  {
   "cell_type": "code",
   "execution_count": 378,
   "metadata": {},
   "outputs": [
    {
     "data": {
      "text/plain": [
       "array([[1]])"
      ]
     },
     "execution_count": 378,
     "metadata": {},
     "output_type": "execute_result"
    }
   ],
   "source": [
    "p = model.predict(new)\n",
    "p = np.where(p>0.5,1,0)\n",
    "p"
   ]
  },
  {
   "cell_type": "markdown",
   "metadata": {},
   "source": [
    "model predict first news as clickbait which is true."
   ]
  },
  {
   "cell_type": "code",
   "execution_count": 379,
   "metadata": {},
   "outputs": [
    {
     "data": {
      "text/plain": [
       "array([[0]])"
      ]
     },
     "execution_count": 379,
     "metadata": {},
     "output_type": "execute_result"
    }
   ],
   "source": [
    "p2 = model.predict(new1)\n",
    "p2 = np.where(p2>0.5,1,0)\n",
    "p2"
   ]
  },
  {
   "cell_type": "markdown",
   "metadata": {},
   "source": [
    "Model predict news from The Guardian as normal news which is correct. Let's try inference set in a few headlines."
   ]
  },
  {
   "cell_type": "code",
   "execution_count": 380,
   "metadata": {},
   "outputs": [],
   "source": [
    "new2 = [\n",
    "        \"This Weird Trick Increased the Conversion Rate of our Landing Page in 110%\",\n",
    "        'Zelensky says Blinken and Austin will visit Ukraine on Sunday',\n",
    "        \"Today's news in 10 minutes\"\n",
    "]"
   ]
  },
  {
   "cell_type": "markdown",
   "metadata": {},
   "source": [
    "first news is clickbait, second news is news from [CNN](https://edition.cnn.com/2022/04/23/politics/blinken-austin-zelensky-ukraine-visit/index.html), third news is from [CNN](https://edition.cnn.com/2022/04/25/cnn10/ten-content-tues/index.html) too "
   ]
  },
  {
   "cell_type": "code",
   "execution_count": 381,
   "metadata": {},
   "outputs": [
    {
     "data": {
      "text/plain": [
       "array([[1],\n",
       "       [0],\n",
       "       [1]])"
      ]
     },
     "execution_count": 381,
     "metadata": {},
     "output_type": "execute_result"
    }
   ],
   "source": [
    "p3 = model.predict(new2)\n",
    "p3 = np.where(p3>0.5,1,0)\n",
    "p3"
   ]
  },
  {
   "cell_type": "markdown",
   "metadata": {},
   "source": [
    "The model predict the third news incorrectly. But as I explained before, predict clickbait that actually not clickbait is not as dangerous as predict normal news as clickbait. Even, this can give feedback to news author to make safer headline news so that the headline is not classified as clickbait news."
   ]
  },
  {
   "cell_type": "code",
   "execution_count": 382,
   "metadata": {},
   "outputs": [
    {
     "data": {
      "text/plain": [
       "array([[0]])"
      ]
     },
     "execution_count": 382,
     "metadata": {},
     "output_type": "execute_result"
    }
   ],
   "source": [
    "new3 = 'Clickbait: The changing face of online journalism'\n",
    "p4 = model.predict([new3])\n",
    "p4 = np.where(p4>0.5,1,0)\n",
    "p4"
   ]
  },
  {
   "cell_type": "markdown",
   "metadata": {},
   "source": [
    "I tried the other form of inference data where the input is not a list but just a string. To process this form, the data still need to be in a list form. So the list can be put in predict function like this  `predict([...])`. this headline news is from [BBC](https://www.bbc.com/news/uk-wales-34213693).\n",
    "The model predict correctly as a normal news."
   ]
  },
  {
   "cell_type": "markdown",
   "metadata": {},
   "source": [
    "# Conclusion"
   ]
  },
  {
   "cell_type": "markdown",
   "metadata": {},
   "source": [
    "## EDA Analysis"
   ]
  },
  {
   "cell_type": "markdown",
   "metadata": {},
   "source": [
    "The dataset I have has two column which is Headline (as feature) and Clickbait (as target). Clickbait news define as 1 and not clickbait as 0. there's 32000 text headlines that have been labelled. Exploration of the data get some insights:\n",
    "- Proportions of clickbait and normal news is balanced\n",
    "- Clickbait headlines usually has more words in their headline than normal news\n",
    "- Clickbait news has more stop words in their headline more than normal news\n",
    "- Both clickbait and normal news have the same distribution of punctuation, where usually they don't have many punctuation in their headlines\n",
    "\n",
    "After understanding the dataset, I know that if I remove stop words from corpus then the characteristics of clickbait news will be reduced. Therefore, in data pre-processing I didn't remove the stopwords. To pre-process the dataset I do several steps:\n",
    "1. Remove punctuations\n",
    "2. Split Dataset\n",
    "3. Vectorization\n",
    "3. Pipeline tensorflow\n",
    "4. Embedding\n"
   ]
  },
  {
   "cell_type": "markdown",
   "metadata": {},
   "source": [
    "## Model Analysis\n",
    "Baseline model in this project is \n",
    "1. Deep Neural Network with pooling layer (accuracy: 97%, precision: 97%, time: 43.3s, performance: overfit)\n",
    "2. Recurrent Neural Network: LSTM (accuracy: 97%, precision 97%, time: 45.5s, performance: overfit)\n",
    "3. Recurrent Neural network: GRU (accuracy: 97%, precision 98%, time: 30.5s, performance: overfit)\n",
    "\n",
    "Since the GRU model has fastest training time I decided to do improvements in GRU model. the comparation of improvement model is shown below:\n",
    "\n",
    "| model | Improvement   | accuracy  | precision |  time | performance|\n",
    "| ----- | --------------|-----------|-----------| ----- | -----------|\n",
    "| GRU 2  | 128 neuron, adamax| 97% | 97% | 41.1| overfit|\n",
    "| GRU 3 | 8 neuron  | 97% | 96%| 40.8| overfit|\n",
    "| GRU 4 | 4 neuron, 0.2 reccurrent dropout, dropout layer 0.4| 97% | 98%| 44.4| good fit|\n",
    "| GRU 5 | 4 neuron, 0.3 reccurrent dropout, dropout layer 0.4| 97% | 98%| 26.6| good fit|\n",
    "\n",
    "the best architecture is GRU 5 because of this model train faster than other and the performance is good fit."
   ]
  },
  {
   "cell_type": "markdown",
   "metadata": {},
   "source": [
    "# References\n",
    "1. CNN. 2022. *Today's news in 10 minutes*. [link](https://edition.cnn.com/2022/04/25/cnn10/ten-content-tues/index.html)\n",
    "2. France-Presse, A. 2022. *Timor-Leste presidential election: José Ramos-Horta wins in landslide*. The Guardian [link](https://www.theguardian.com/world/2022/apr/21/timor-leste-presidential-election-jose-ramos-horta-wins-in-landslide)\n",
    "3. Keras. 2022. *Adamax*. [link](https://keras.io/api/optimizers/adamax/)\n",
    "4. Tawfeeq et al. 2022. *Zelensky says Blinken and Austin will visit Ukraine on Sunday*. CNN. [link](https://edition.cnn.com/2022/04/23/politics/blinken-austin-zelensky-ukraine-visit/index.html)"
   ]
  },
  {
   "cell_type": "markdown",
   "metadata": {},
   "source": [
    "| Model | Hyperparameter   | Accuracy  | Precision |  Time | Performance|\n",
    "| ----- | --------------|-----------|-----------| ----- | -----------|\n",
    "| DNN  | 64 neuron, global pooling layer| 97% | 97% | 43.3s| overfit|\n",
    "| LSTM | 64 neuron  | 97% | 97%| 45.5s| overfit|\n",
    "| GRU | 64 neuron| 97% | 98%| 30.5s| overfit|\n"
   ]
  },
  {
   "cell_type": "code",
   "execution_count": null,
   "metadata": {},
   "outputs": [],
   "source": []
  }
 ],
 "metadata": {
  "interpreter": {
   "hash": "7d04c2ccdc77879c44c0e38a475c5c944666b751d27f26244a0b0bd35fcecd56"
  },
  "kernelspec": {
   "display_name": "Python 3.10.3 64-bit",
   "language": "python",
   "name": "python3"
  },
  "language_info": {
   "codemirror_mode": {
    "name": "ipython",
    "version": 3
   },
   "file_extension": ".py",
   "mimetype": "text/x-python",
   "name": "python",
   "nbconvert_exporter": "python",
   "pygments_lexer": "ipython3",
   "version": "3.10.3"
  },
  "orig_nbformat": 4
 },
 "nbformat": 4,
 "nbformat_minor": 2
}
