{
 "cells": [
  {
   "cell_type": "markdown",
   "metadata": {},
   "source": [
    "# Milestone 1 - Phase 2\n",
    "Fathiyah Kalamal Haq - Batch 009\n",
    "\n",
    "# **Customer Churn Prediction with ANN**\n",
    "\n",
    "In this notebook I make prediction model about Churn Customer in Telco Company. Churn is the customer who left within the last month. To predict this case, the model that I use is Artificial Neural Network. The best architeture of the model will be used to predict a customer will stay or not.\n",
    "\n",
    "The data set includes information about:\n",
    "\n",
    "1. Customers who left within the last month – the column is called Churn\n",
    "2. Services that each customer has signed up for – phone, multiple lines, internet, online security, online backup, device protection, tech support, and streaming TV and movies\n",
    "3. Customer account information – how long they’ve been a customer, contract, payment method, paperless billing, monthly charges, and total charges\n",
    "4. Demographic info about customers – gender, age range, and if they have partners and dependents"
   ]
  },
  {
   "cell_type": "markdown",
   "metadata": {},
   "source": [
    "# Import Libraries"
   ]
  },
  {
   "cell_type": "code",
   "execution_count": 5,
   "metadata": {},
   "outputs": [],
   "source": [
    "import pandas as pd\n",
    "import numpy as np\n",
    "import matplotlib.pyplot as plt\n",
    "import seaborn as sns\n",
    "#preprocessing\n",
    "from sklearn.model_selection import train_test_split\n",
    "from sklearn.preprocessing import OneHotEncoder, StandardScaler\n",
    "from sklearn.compose import ColumnTransformer\n",
    "from tensorflow.data import Dataset\n",
    "#model architecture\n",
    "from tensorflow.keras.models import Sequential, Model,load_model\n",
    "from tensorflow.keras.layers import Dense,Input\n",
    "#model evaluation\n",
    "from sklearn.metrics import classification_report\n",
    "#model saving\n",
    "import pickle\n",
    "\n",
    "import warnings\n",
    "warnings.filterwarnings('ignore')"
   ]
  },
  {
   "cell_type": "code",
   "execution_count": 6,
   "metadata": {},
   "outputs": [
    {
     "data": {
      "text/html": [
       "<div>\n",
       "<style scoped>\n",
       "    .dataframe tbody tr th:only-of-type {\n",
       "        vertical-align: middle;\n",
       "    }\n",
       "\n",
       "    .dataframe tbody tr th {\n",
       "        vertical-align: top;\n",
       "    }\n",
       "\n",
       "    .dataframe thead th {\n",
       "        text-align: right;\n",
       "    }\n",
       "</style>\n",
       "<table border=\"1\" class=\"dataframe\">\n",
       "  <thead>\n",
       "    <tr style=\"text-align: right;\">\n",
       "      <th></th>\n",
       "      <th>customerID</th>\n",
       "      <th>gender</th>\n",
       "      <th>SeniorCitizen</th>\n",
       "      <th>Partner</th>\n",
       "      <th>Dependents</th>\n",
       "      <th>tenure</th>\n",
       "      <th>PhoneService</th>\n",
       "      <th>MultipleLines</th>\n",
       "      <th>InternetService</th>\n",
       "      <th>OnlineSecurity</th>\n",
       "      <th>...</th>\n",
       "      <th>DeviceProtection</th>\n",
       "      <th>TechSupport</th>\n",
       "      <th>StreamingTV</th>\n",
       "      <th>StreamingMovies</th>\n",
       "      <th>Contract</th>\n",
       "      <th>PaperlessBilling</th>\n",
       "      <th>PaymentMethod</th>\n",
       "      <th>MonthlyCharges</th>\n",
       "      <th>TotalCharges</th>\n",
       "      <th>Churn</th>\n",
       "    </tr>\n",
       "  </thead>\n",
       "  <tbody>\n",
       "    <tr>\n",
       "      <th>0</th>\n",
       "      <td>7590-VHVEG</td>\n",
       "      <td>Female</td>\n",
       "      <td>0</td>\n",
       "      <td>Yes</td>\n",
       "      <td>No</td>\n",
       "      <td>1</td>\n",
       "      <td>No</td>\n",
       "      <td>No phone service</td>\n",
       "      <td>DSL</td>\n",
       "      <td>No</td>\n",
       "      <td>...</td>\n",
       "      <td>No</td>\n",
       "      <td>No</td>\n",
       "      <td>No</td>\n",
       "      <td>No</td>\n",
       "      <td>Month-to-month</td>\n",
       "      <td>Yes</td>\n",
       "      <td>Electronic check</td>\n",
       "      <td>29.85</td>\n",
       "      <td>29.85</td>\n",
       "      <td>No</td>\n",
       "    </tr>\n",
       "    <tr>\n",
       "      <th>1</th>\n",
       "      <td>5575-GNVDE</td>\n",
       "      <td>Male</td>\n",
       "      <td>0</td>\n",
       "      <td>No</td>\n",
       "      <td>No</td>\n",
       "      <td>34</td>\n",
       "      <td>Yes</td>\n",
       "      <td>No</td>\n",
       "      <td>DSL</td>\n",
       "      <td>Yes</td>\n",
       "      <td>...</td>\n",
       "      <td>Yes</td>\n",
       "      <td>No</td>\n",
       "      <td>No</td>\n",
       "      <td>No</td>\n",
       "      <td>One year</td>\n",
       "      <td>No</td>\n",
       "      <td>Mailed check</td>\n",
       "      <td>56.95</td>\n",
       "      <td>1889.5</td>\n",
       "      <td>No</td>\n",
       "    </tr>\n",
       "    <tr>\n",
       "      <th>2</th>\n",
       "      <td>3668-QPYBK</td>\n",
       "      <td>Male</td>\n",
       "      <td>0</td>\n",
       "      <td>No</td>\n",
       "      <td>No</td>\n",
       "      <td>2</td>\n",
       "      <td>Yes</td>\n",
       "      <td>No</td>\n",
       "      <td>DSL</td>\n",
       "      <td>Yes</td>\n",
       "      <td>...</td>\n",
       "      <td>No</td>\n",
       "      <td>No</td>\n",
       "      <td>No</td>\n",
       "      <td>No</td>\n",
       "      <td>Month-to-month</td>\n",
       "      <td>Yes</td>\n",
       "      <td>Mailed check</td>\n",
       "      <td>53.85</td>\n",
       "      <td>108.15</td>\n",
       "      <td>Yes</td>\n",
       "    </tr>\n",
       "    <tr>\n",
       "      <th>3</th>\n",
       "      <td>7795-CFOCW</td>\n",
       "      <td>Male</td>\n",
       "      <td>0</td>\n",
       "      <td>No</td>\n",
       "      <td>No</td>\n",
       "      <td>45</td>\n",
       "      <td>No</td>\n",
       "      <td>No phone service</td>\n",
       "      <td>DSL</td>\n",
       "      <td>Yes</td>\n",
       "      <td>...</td>\n",
       "      <td>Yes</td>\n",
       "      <td>Yes</td>\n",
       "      <td>No</td>\n",
       "      <td>No</td>\n",
       "      <td>One year</td>\n",
       "      <td>No</td>\n",
       "      <td>Bank transfer (automatic)</td>\n",
       "      <td>42.30</td>\n",
       "      <td>1840.75</td>\n",
       "      <td>No</td>\n",
       "    </tr>\n",
       "    <tr>\n",
       "      <th>4</th>\n",
       "      <td>9237-HQITU</td>\n",
       "      <td>Female</td>\n",
       "      <td>0</td>\n",
       "      <td>No</td>\n",
       "      <td>No</td>\n",
       "      <td>2</td>\n",
       "      <td>Yes</td>\n",
       "      <td>No</td>\n",
       "      <td>Fiber optic</td>\n",
       "      <td>No</td>\n",
       "      <td>...</td>\n",
       "      <td>No</td>\n",
       "      <td>No</td>\n",
       "      <td>No</td>\n",
       "      <td>No</td>\n",
       "      <td>Month-to-month</td>\n",
       "      <td>Yes</td>\n",
       "      <td>Electronic check</td>\n",
       "      <td>70.70</td>\n",
       "      <td>151.65</td>\n",
       "      <td>Yes</td>\n",
       "    </tr>\n",
       "  </tbody>\n",
       "</table>\n",
       "<p>5 rows × 21 columns</p>\n",
       "</div>"
      ],
      "text/plain": [
       "   customerID  gender  SeniorCitizen Partner Dependents  tenure PhoneService  \\\n",
       "0  7590-VHVEG  Female              0     Yes         No       1           No   \n",
       "1  5575-GNVDE    Male              0      No         No      34          Yes   \n",
       "2  3668-QPYBK    Male              0      No         No       2          Yes   \n",
       "3  7795-CFOCW    Male              0      No         No      45           No   \n",
       "4  9237-HQITU  Female              0      No         No       2          Yes   \n",
       "\n",
       "      MultipleLines InternetService OnlineSecurity  ... DeviceProtection  \\\n",
       "0  No phone service             DSL             No  ...               No   \n",
       "1                No             DSL            Yes  ...              Yes   \n",
       "2                No             DSL            Yes  ...               No   \n",
       "3  No phone service             DSL            Yes  ...              Yes   \n",
       "4                No     Fiber optic             No  ...               No   \n",
       "\n",
       "  TechSupport StreamingTV StreamingMovies        Contract PaperlessBilling  \\\n",
       "0          No          No              No  Month-to-month              Yes   \n",
       "1          No          No              No        One year               No   \n",
       "2          No          No              No  Month-to-month              Yes   \n",
       "3         Yes          No              No        One year               No   \n",
       "4          No          No              No  Month-to-month              Yes   \n",
       "\n",
       "               PaymentMethod MonthlyCharges  TotalCharges Churn  \n",
       "0           Electronic check          29.85         29.85    No  \n",
       "1               Mailed check          56.95        1889.5    No  \n",
       "2               Mailed check          53.85        108.15   Yes  \n",
       "3  Bank transfer (automatic)          42.30       1840.75    No  \n",
       "4           Electronic check          70.70        151.65   Yes  \n",
       "\n",
       "[5 rows x 21 columns]"
      ]
     },
     "execution_count": 6,
     "metadata": {},
     "output_type": "execute_result"
    }
   ],
   "source": [
    "df = pd.read_csv('WA_Fn-UseC_-Telco-Customer-Churn.csv',sep=\",\")\n",
    "df.head()"
   ]
  },
  {
   "cell_type": "code",
   "execution_count": 7,
   "metadata": {},
   "outputs": [],
   "source": [
    "data = df.copy()"
   ]
  },
  {
   "cell_type": "markdown",
   "metadata": {},
   "source": [
    "copy the dataset and name it `data` so if there's a change in df we can always see the real dataset in `data`"
   ]
  },
  {
   "cell_type": "code",
   "execution_count": 8,
   "metadata": {},
   "outputs": [
    {
     "name": "stdout",
     "output_type": "stream",
     "text": [
      "<class 'pandas.core.frame.DataFrame'>\n",
      "RangeIndex: 7043 entries, 0 to 7042\n",
      "Data columns (total 21 columns):\n",
      " #   Column            Non-Null Count  Dtype  \n",
      "---  ------            --------------  -----  \n",
      " 0   customerID        7043 non-null   object \n",
      " 1   gender            7043 non-null   object \n",
      " 2   SeniorCitizen     7043 non-null   int64  \n",
      " 3   Partner           7043 non-null   object \n",
      " 4   Dependents        7043 non-null   object \n",
      " 5   tenure            7043 non-null   int64  \n",
      " 6   PhoneService      7043 non-null   object \n",
      " 7   MultipleLines     7043 non-null   object \n",
      " 8   InternetService   7043 non-null   object \n",
      " 9   OnlineSecurity    7043 non-null   object \n",
      " 10  OnlineBackup      7043 non-null   object \n",
      " 11  DeviceProtection  7043 non-null   object \n",
      " 12  TechSupport       7043 non-null   object \n",
      " 13  StreamingTV       7043 non-null   object \n",
      " 14  StreamingMovies   7043 non-null   object \n",
      " 15  Contract          7043 non-null   object \n",
      " 16  PaperlessBilling  7043 non-null   object \n",
      " 17  PaymentMethod     7043 non-null   object \n",
      " 18  MonthlyCharges    7043 non-null   float64\n",
      " 19  TotalCharges      7043 non-null   object \n",
      " 20  Churn             7043 non-null   object \n",
      "dtypes: float64(1), int64(2), object(18)\n",
      "memory usage: 1.1+ MB\n"
     ]
    }
   ],
   "source": [
    "df.info()"
   ]
  },
  {
   "cell_type": "markdown",
   "metadata": {},
   "source": [
    "Dataset has 7043 rows and 20 columns that the data types are float,integer and object. Missing value doesn't shows in this dataset."
   ]
  },
  {
   "cell_type": "code",
   "execution_count": 9,
   "metadata": {},
   "outputs": [
    {
     "data": {
      "text/plain": [
       "customerID          7043\n",
       "gender                 2\n",
       "SeniorCitizen          2\n",
       "Partner                2\n",
       "Dependents             2\n",
       "tenure                73\n",
       "PhoneService           2\n",
       "MultipleLines          3\n",
       "InternetService        3\n",
       "OnlineSecurity         3\n",
       "OnlineBackup           3\n",
       "DeviceProtection       3\n",
       "TechSupport            3\n",
       "StreamingTV            3\n",
       "StreamingMovies        3\n",
       "Contract               3\n",
       "PaperlessBilling       2\n",
       "PaymentMethod          4\n",
       "MonthlyCharges      1585\n",
       "TotalCharges        6531\n",
       "Churn                  2\n",
       "dtype: int64"
      ]
     },
     "execution_count": 9,
     "metadata": {},
     "output_type": "execute_result"
    }
   ],
   "source": [
    "df.nunique()"
   ]
  },
  {
   "cell_type": "markdown",
   "metadata": {},
   "source": [
    "some columns have binary classification. Total Charges has 6531 unique values eventhough it's an object data type and if we see in the preview above, the column is a numerical data not a categorical data. "
   ]
  },
  {
   "cell_type": "markdown",
   "metadata": {},
   "source": [
    "# EDA"
   ]
  },
  {
   "cell_type": "markdown",
   "metadata": {},
   "source": [
    "## Churn Customer "
   ]
  },
  {
   "cell_type": "code",
   "execution_count": 10,
   "metadata": {},
   "outputs": [
    {
     "data": {
      "text/plain": [
       "<AxesSubplot:title={'center':'Customer Churn'}>"
      ]
     },
     "execution_count": 10,
     "metadata": {},
     "output_type": "execute_result"
    },
    {
     "data": {
      "image/png": "[encoded data removed]",
      "text/plain": [
       "<Figure size 432x288 with 1 Axes>"
      ]
     },
     "metadata": {
      "needs_background": "light"
     },
     "output_type": "display_data"
    }
   ],
   "source": [
    "df.Churn.value_counts().plot(kind='bar',title='Customer Churn',color = 'lightcoral')"
   ]
  },
  {
   "cell_type": "markdown",
   "metadata": {},
   "source": [
    "Customers that had left within last month is lower than the customers who stay. The Churn Customers are a minority class in this dataset with about 20% from the dataset."
   ]
  },
  {
   "cell_type": "markdown",
   "metadata": {},
   "source": [
    "## Total Charges"
   ]
  },
  {
   "cell_type": "code",
   "execution_count": 11,
   "metadata": {},
   "outputs": [
    {
     "data": {
      "text/plain": [
       "          11\n",
       "20.2      11\n",
       "19.75      9\n",
       "20.05      8\n",
       "19.9       8\n",
       "          ..\n",
       "6849.4     1\n",
       "692.35     1\n",
       "130.15     1\n",
       "3211.9     1\n",
       "6844.5     1\n",
       "Name: TotalCharges, Length: 6531, dtype: int64"
      ]
     },
     "execution_count": 11,
     "metadata": {},
     "output_type": "execute_result"
    }
   ],
   "source": [
    "df.TotalCharges.value_counts()"
   ]
  },
  {
   "cell_type": "markdown",
   "metadata": {},
   "source": [
    "There are missing values in Total Charges column that symbolize by an empty space, so in the `df.info()` we couldnt discover it before. But by count the values, the missing values can be shown. 11 rows of Total Charges have missing values. Since it's just about 0.1% from the dataset, we can trim this data."
   ]
  },
  {
   "cell_type": "code",
   "execution_count": 12,
   "metadata": {},
   "outputs": [
    {
     "data": {
      "text/html": [
       "<div>\n",
       "<style scoped>\n",
       "    .dataframe tbody tr th:only-of-type {\n",
       "        vertical-align: middle;\n",
       "    }\n",
       "\n",
       "    .dataframe tbody tr th {\n",
       "        vertical-align: top;\n",
       "    }\n",
       "\n",
       "    .dataframe thead th {\n",
       "        text-align: right;\n",
       "    }\n",
       "</style>\n",
       "<table border=\"1\" class=\"dataframe\">\n",
       "  <thead>\n",
       "    <tr style=\"text-align: right;\">\n",
       "      <th></th>\n",
       "      <th>customerID</th>\n",
       "      <th>gender</th>\n",
       "      <th>SeniorCitizen</th>\n",
       "      <th>Partner</th>\n",
       "      <th>Dependents</th>\n",
       "      <th>tenure</th>\n",
       "      <th>PhoneService</th>\n",
       "      <th>MultipleLines</th>\n",
       "      <th>InternetService</th>\n",
       "      <th>OnlineSecurity</th>\n",
       "      <th>...</th>\n",
       "      <th>DeviceProtection</th>\n",
       "      <th>TechSupport</th>\n",
       "      <th>StreamingTV</th>\n",
       "      <th>StreamingMovies</th>\n",
       "      <th>Contract</th>\n",
       "      <th>PaperlessBilling</th>\n",
       "      <th>PaymentMethod</th>\n",
       "      <th>MonthlyCharges</th>\n",
       "      <th>TotalCharges</th>\n",
       "      <th>Churn</th>\n",
       "    </tr>\n",
       "  </thead>\n",
       "  <tbody>\n",
       "    <tr>\n",
       "      <th>488</th>\n",
       "      <td>4472-LVYGI</td>\n",
       "      <td>Female</td>\n",
       "      <td>0</td>\n",
       "      <td>Yes</td>\n",
       "      <td>Yes</td>\n",
       "      <td>0</td>\n",
       "      <td>No</td>\n",
       "      <td>No phone service</td>\n",
       "      <td>DSL</td>\n",
       "      <td>Yes</td>\n",
       "      <td>...</td>\n",
       "      <td>Yes</td>\n",
       "      <td>Yes</td>\n",
       "      <td>Yes</td>\n",
       "      <td>No</td>\n",
       "      <td>Two year</td>\n",
       "      <td>Yes</td>\n",
       "      <td>Bank transfer (automatic)</td>\n",
       "      <td>52.55</td>\n",
       "      <td></td>\n",
       "      <td>No</td>\n",
       "    </tr>\n",
       "    <tr>\n",
       "      <th>753</th>\n",
       "      <td>3115-CZMZD</td>\n",
       "      <td>Male</td>\n",
       "      <td>0</td>\n",
       "      <td>No</td>\n",
       "      <td>Yes</td>\n",
       "      <td>0</td>\n",
       "      <td>Yes</td>\n",
       "      <td>No</td>\n",
       "      <td>No</td>\n",
       "      <td>No internet service</td>\n",
       "      <td>...</td>\n",
       "      <td>No internet service</td>\n",
       "      <td>No internet service</td>\n",
       "      <td>No internet service</td>\n",
       "      <td>No internet service</td>\n",
       "      <td>Two year</td>\n",
       "      <td>No</td>\n",
       "      <td>Mailed check</td>\n",
       "      <td>20.25</td>\n",
       "      <td></td>\n",
       "      <td>No</td>\n",
       "    </tr>\n",
       "    <tr>\n",
       "      <th>936</th>\n",
       "      <td>5709-LVOEQ</td>\n",
       "      <td>Female</td>\n",
       "      <td>0</td>\n",
       "      <td>Yes</td>\n",
       "      <td>Yes</td>\n",
       "      <td>0</td>\n",
       "      <td>Yes</td>\n",
       "      <td>No</td>\n",
       "      <td>DSL</td>\n",
       "      <td>Yes</td>\n",
       "      <td>...</td>\n",
       "      <td>Yes</td>\n",
       "      <td>No</td>\n",
       "      <td>Yes</td>\n",
       "      <td>Yes</td>\n",
       "      <td>Two year</td>\n",
       "      <td>No</td>\n",
       "      <td>Mailed check</td>\n",
       "      <td>80.85</td>\n",
       "      <td></td>\n",
       "      <td>No</td>\n",
       "    </tr>\n",
       "    <tr>\n",
       "      <th>1082</th>\n",
       "      <td>4367-NUYAO</td>\n",
       "      <td>Male</td>\n",
       "      <td>0</td>\n",
       "      <td>Yes</td>\n",
       "      <td>Yes</td>\n",
       "      <td>0</td>\n",
       "      <td>Yes</td>\n",
       "      <td>Yes</td>\n",
       "      <td>No</td>\n",
       "      <td>No internet service</td>\n",
       "      <td>...</td>\n",
       "      <td>No internet service</td>\n",
       "      <td>No internet service</td>\n",
       "      <td>No internet service</td>\n",
       "      <td>No internet service</td>\n",
       "      <td>Two year</td>\n",
       "      <td>No</td>\n",
       "      <td>Mailed check</td>\n",
       "      <td>25.75</td>\n",
       "      <td></td>\n",
       "      <td>No</td>\n",
       "    </tr>\n",
       "    <tr>\n",
       "      <th>1340</th>\n",
       "      <td>1371-DWPAZ</td>\n",
       "      <td>Female</td>\n",
       "      <td>0</td>\n",
       "      <td>Yes</td>\n",
       "      <td>Yes</td>\n",
       "      <td>0</td>\n",
       "      <td>No</td>\n",
       "      <td>No phone service</td>\n",
       "      <td>DSL</td>\n",
       "      <td>Yes</td>\n",
       "      <td>...</td>\n",
       "      <td>Yes</td>\n",
       "      <td>Yes</td>\n",
       "      <td>Yes</td>\n",
       "      <td>No</td>\n",
       "      <td>Two year</td>\n",
       "      <td>No</td>\n",
       "      <td>Credit card (automatic)</td>\n",
       "      <td>56.05</td>\n",
       "      <td></td>\n",
       "      <td>No</td>\n",
       "    </tr>\n",
       "    <tr>\n",
       "      <th>3331</th>\n",
       "      <td>7644-OMVMY</td>\n",
       "      <td>Male</td>\n",
       "      <td>0</td>\n",
       "      <td>Yes</td>\n",
       "      <td>Yes</td>\n",
       "      <td>0</td>\n",
       "      <td>Yes</td>\n",
       "      <td>No</td>\n",
       "      <td>No</td>\n",
       "      <td>No internet service</td>\n",
       "      <td>...</td>\n",
       "      <td>No internet service</td>\n",
       "      <td>No internet service</td>\n",
       "      <td>No internet service</td>\n",
       "      <td>No internet service</td>\n",
       "      <td>Two year</td>\n",
       "      <td>No</td>\n",
       "      <td>Mailed check</td>\n",
       "      <td>19.85</td>\n",
       "      <td></td>\n",
       "      <td>No</td>\n",
       "    </tr>\n",
       "    <tr>\n",
       "      <th>3826</th>\n",
       "      <td>3213-VVOLG</td>\n",
       "      <td>Male</td>\n",
       "      <td>0</td>\n",
       "      <td>Yes</td>\n",
       "      <td>Yes</td>\n",
       "      <td>0</td>\n",
       "      <td>Yes</td>\n",
       "      <td>Yes</td>\n",
       "      <td>No</td>\n",
       "      <td>No internet service</td>\n",
       "      <td>...</td>\n",
       "      <td>No internet service</td>\n",
       "      <td>No internet service</td>\n",
       "      <td>No internet service</td>\n",
       "      <td>No internet service</td>\n",
       "      <td>Two year</td>\n",
       "      <td>No</td>\n",
       "      <td>Mailed check</td>\n",
       "      <td>25.35</td>\n",
       "      <td></td>\n",
       "      <td>No</td>\n",
       "    </tr>\n",
       "    <tr>\n",
       "      <th>4380</th>\n",
       "      <td>2520-SGTTA</td>\n",
       "      <td>Female</td>\n",
       "      <td>0</td>\n",
       "      <td>Yes</td>\n",
       "      <td>Yes</td>\n",
       "      <td>0</td>\n",
       "      <td>Yes</td>\n",
       "      <td>No</td>\n",
       "      <td>No</td>\n",
       "      <td>No internet service</td>\n",
       "      <td>...</td>\n",
       "      <td>No internet service</td>\n",
       "      <td>No internet service</td>\n",
       "      <td>No internet service</td>\n",
       "      <td>No internet service</td>\n",
       "      <td>Two year</td>\n",
       "      <td>No</td>\n",
       "      <td>Mailed check</td>\n",
       "      <td>20.00</td>\n",
       "      <td></td>\n",
       "      <td>No</td>\n",
       "    </tr>\n",
       "    <tr>\n",
       "      <th>5218</th>\n",
       "      <td>2923-ARZLG</td>\n",
       "      <td>Male</td>\n",
       "      <td>0</td>\n",
       "      <td>Yes</td>\n",
       "      <td>Yes</td>\n",
       "      <td>0</td>\n",
       "      <td>Yes</td>\n",
       "      <td>No</td>\n",
       "      <td>No</td>\n",
       "      <td>No internet service</td>\n",
       "      <td>...</td>\n",
       "      <td>No internet service</td>\n",
       "      <td>No internet service</td>\n",
       "      <td>No internet service</td>\n",
       "      <td>No internet service</td>\n",
       "      <td>One year</td>\n",
       "      <td>Yes</td>\n",
       "      <td>Mailed check</td>\n",
       "      <td>19.70</td>\n",
       "      <td></td>\n",
       "      <td>No</td>\n",
       "    </tr>\n",
       "    <tr>\n",
       "      <th>6670</th>\n",
       "      <td>4075-WKNIU</td>\n",
       "      <td>Female</td>\n",
       "      <td>0</td>\n",
       "      <td>Yes</td>\n",
       "      <td>Yes</td>\n",
       "      <td>0</td>\n",
       "      <td>Yes</td>\n",
       "      <td>Yes</td>\n",
       "      <td>DSL</td>\n",
       "      <td>No</td>\n",
       "      <td>...</td>\n",
       "      <td>Yes</td>\n",
       "      <td>Yes</td>\n",
       "      <td>Yes</td>\n",
       "      <td>No</td>\n",
       "      <td>Two year</td>\n",
       "      <td>No</td>\n",
       "      <td>Mailed check</td>\n",
       "      <td>73.35</td>\n",
       "      <td></td>\n",
       "      <td>No</td>\n",
       "    </tr>\n",
       "    <tr>\n",
       "      <th>6754</th>\n",
       "      <td>2775-SEFEE</td>\n",
       "      <td>Male</td>\n",
       "      <td>0</td>\n",
       "      <td>No</td>\n",
       "      <td>Yes</td>\n",
       "      <td>0</td>\n",
       "      <td>Yes</td>\n",
       "      <td>Yes</td>\n",
       "      <td>DSL</td>\n",
       "      <td>Yes</td>\n",
       "      <td>...</td>\n",
       "      <td>No</td>\n",
       "      <td>Yes</td>\n",
       "      <td>No</td>\n",
       "      <td>No</td>\n",
       "      <td>Two year</td>\n",
       "      <td>Yes</td>\n",
       "      <td>Bank transfer (automatic)</td>\n",
       "      <td>61.90</td>\n",
       "      <td></td>\n",
       "      <td>No</td>\n",
       "    </tr>\n",
       "  </tbody>\n",
       "</table>\n",
       "<p>11 rows × 21 columns</p>\n",
       "</div>"
      ],
      "text/plain": [
       "      customerID  gender  SeniorCitizen Partner Dependents  tenure  \\\n",
       "488   4472-LVYGI  Female              0     Yes        Yes       0   \n",
       "753   3115-CZMZD    Male              0      No        Yes       0   \n",
       "936   5709-LVOEQ  Female              0     Yes        Yes       0   \n",
       "1082  4367-NUYAO    Male              0     Yes        Yes       0   \n",
       "1340  1371-DWPAZ  Female              0     Yes        Yes       0   \n",
       "3331  7644-OMVMY    Male              0     Yes        Yes       0   \n",
       "3826  3213-VVOLG    Male              0     Yes        Yes       0   \n",
       "4380  2520-SGTTA  Female              0     Yes        Yes       0   \n",
       "5218  2923-ARZLG    Male              0     Yes        Yes       0   \n",
       "6670  4075-WKNIU  Female              0     Yes        Yes       0   \n",
       "6754  2775-SEFEE    Male              0      No        Yes       0   \n",
       "\n",
       "     PhoneService     MultipleLines InternetService       OnlineSecurity  ...  \\\n",
       "488            No  No phone service             DSL                  Yes  ...   \n",
       "753           Yes                No              No  No internet service  ...   \n",
       "936           Yes                No             DSL                  Yes  ...   \n",
       "1082          Yes               Yes              No  No internet service  ...   \n",
       "1340           No  No phone service             DSL                  Yes  ...   \n",
       "3331          Yes                No              No  No internet service  ...   \n",
       "3826          Yes               Yes              No  No internet service  ...   \n",
       "4380          Yes                No              No  No internet service  ...   \n",
       "5218          Yes                No              No  No internet service  ...   \n",
       "6670          Yes               Yes             DSL                   No  ...   \n",
       "6754          Yes               Yes             DSL                  Yes  ...   \n",
       "\n",
       "         DeviceProtection          TechSupport          StreamingTV  \\\n",
       "488                   Yes                  Yes                  Yes   \n",
       "753   No internet service  No internet service  No internet service   \n",
       "936                   Yes                   No                  Yes   \n",
       "1082  No internet service  No internet service  No internet service   \n",
       "1340                  Yes                  Yes                  Yes   \n",
       "3331  No internet service  No internet service  No internet service   \n",
       "3826  No internet service  No internet service  No internet service   \n",
       "4380  No internet service  No internet service  No internet service   \n",
       "5218  No internet service  No internet service  No internet service   \n",
       "6670                  Yes                  Yes                  Yes   \n",
       "6754                   No                  Yes                   No   \n",
       "\n",
       "          StreamingMovies  Contract PaperlessBilling  \\\n",
       "488                    No  Two year              Yes   \n",
       "753   No internet service  Two year               No   \n",
       "936                   Yes  Two year               No   \n",
       "1082  No internet service  Two year               No   \n",
       "1340                   No  Two year               No   \n",
       "3331  No internet service  Two year               No   \n",
       "3826  No internet service  Two year               No   \n",
       "4380  No internet service  Two year               No   \n",
       "5218  No internet service  One year              Yes   \n",
       "6670                   No  Two year               No   \n",
       "6754                   No  Two year              Yes   \n",
       "\n",
       "                  PaymentMethod MonthlyCharges  TotalCharges Churn  \n",
       "488   Bank transfer (automatic)          52.55                  No  \n",
       "753                Mailed check          20.25                  No  \n",
       "936                Mailed check          80.85                  No  \n",
       "1082               Mailed check          25.75                  No  \n",
       "1340    Credit card (automatic)          56.05                  No  \n",
       "3331               Mailed check          19.85                  No  \n",
       "3826               Mailed check          25.35                  No  \n",
       "4380               Mailed check          20.00                  No  \n",
       "5218               Mailed check          19.70                  No  \n",
       "6670               Mailed check          73.35                  No  \n",
       "6754  Bank transfer (automatic)          61.90                  No  \n",
       "\n",
       "[11 rows x 21 columns]"
      ]
     },
     "execution_count": 12,
     "metadata": {},
     "output_type": "execute_result"
    }
   ],
   "source": [
    "df[df.TotalCharges==' ']"
   ]
  },
  {
   "cell_type": "markdown",
   "metadata": {},
   "source": [
    "Here are all the rows that the Total Charges are missing values"
   ]
  },
  {
   "cell_type": "markdown",
   "metadata": {},
   "source": [
    "## Check every unique values"
   ]
  },
  {
   "cell_type": "code",
   "execution_count": 13,
   "metadata": {},
   "outputs": [
    {
     "name": "stdout",
     "output_type": "stream",
     "text": [
      "gender :  ['Female' 'Male']\n",
      "Partner :  ['Yes' 'No']\n",
      "Dependents :  ['No' 'Yes']\n",
      "PhoneService :  ['No' 'Yes']\n",
      "MultipleLines :  ['No phone service' 'No' 'Yes']\n",
      "InternetService :  ['DSL' 'Fiber optic' 'No']\n",
      "OnlineSecurity :  ['No' 'Yes' 'No internet service']\n",
      "OnlineBackup :  ['Yes' 'No' 'No internet service']\n",
      "DeviceProtection :  ['No' 'Yes' 'No internet service']\n",
      "TechSupport :  ['No' 'Yes' 'No internet service']\n",
      "StreamingTV :  ['No' 'Yes' 'No internet service']\n",
      "StreamingMovies :  ['No' 'Yes' 'No internet service']\n",
      "Contract :  ['Month-to-month' 'One year' 'Two year']\n",
      "PaperlessBilling :  ['Yes' 'No']\n",
      "PaymentMethod :  ['Electronic check' 'Mailed check' 'Bank transfer (automatic)'\n",
      " 'Credit card (automatic)']\n"
     ]
    }
   ],
   "source": [
    "cat = df.select_dtypes(include='object').columns.tolist()\n",
    "for i in cat[1:16]:\n",
    "    print(i,': ', df[i].unique())"
   ]
  },
  {
   "cell_type": "markdown",
   "metadata": {},
   "source": [
    "Above are the unique values of every categorical column except customer ID and churn. From this, I discovered that every multiple Lines that the value is 'no phone service' are when the value is 'No' in Phone Service column, so are Online Security, online backup, until streaming movies for 'No' value on Internet Service. Hence, as long as the value for multiple lines are 'No phone service', but still, it means that customer doesnt have multiple lines so the information can be represent by 'No' value. Analogous to 'No Internet service' and some columns which have this value."
   ]
  },
  {
   "cell_type": "markdown",
   "metadata": {},
   "source": [
    "## Descriptive Statistics"
   ]
  },
  {
   "cell_type": "code",
   "execution_count": 14,
   "metadata": {},
   "outputs": [
    {
     "data": {
      "text/html": [
       "<div>\n",
       "<style scoped>\n",
       "    .dataframe tbody tr th:only-of-type {\n",
       "        vertical-align: middle;\n",
       "    }\n",
       "\n",
       "    .dataframe tbody tr th {\n",
       "        vertical-align: top;\n",
       "    }\n",
       "\n",
       "    .dataframe thead th {\n",
       "        text-align: right;\n",
       "    }\n",
       "</style>\n",
       "<table border=\"1\" class=\"dataframe\">\n",
       "  <thead>\n",
       "    <tr style=\"text-align: right;\">\n",
       "      <th></th>\n",
       "      <th>SeniorCitizen</th>\n",
       "      <th>tenure</th>\n",
       "      <th>MonthlyCharges</th>\n",
       "    </tr>\n",
       "  </thead>\n",
       "  <tbody>\n",
       "    <tr>\n",
       "      <th>count</th>\n",
       "      <td>7043.000000</td>\n",
       "      <td>7043.000000</td>\n",
       "      <td>7043.000000</td>\n",
       "    </tr>\n",
       "    <tr>\n",
       "      <th>mean</th>\n",
       "      <td>0.162147</td>\n",
       "      <td>32.371149</td>\n",
       "      <td>64.761692</td>\n",
       "    </tr>\n",
       "    <tr>\n",
       "      <th>std</th>\n",
       "      <td>0.368612</td>\n",
       "      <td>24.559481</td>\n",
       "      <td>30.090047</td>\n",
       "    </tr>\n",
       "    <tr>\n",
       "      <th>min</th>\n",
       "      <td>0.000000</td>\n",
       "      <td>0.000000</td>\n",
       "      <td>18.250000</td>\n",
       "    </tr>\n",
       "    <tr>\n",
       "      <th>25%</th>\n",
       "      <td>0.000000</td>\n",
       "      <td>9.000000</td>\n",
       "      <td>35.500000</td>\n",
       "    </tr>\n",
       "    <tr>\n",
       "      <th>50%</th>\n",
       "      <td>0.000000</td>\n",
       "      <td>29.000000</td>\n",
       "      <td>70.350000</td>\n",
       "    </tr>\n",
       "    <tr>\n",
       "      <th>75%</th>\n",
       "      <td>0.000000</td>\n",
       "      <td>55.000000</td>\n",
       "      <td>89.850000</td>\n",
       "    </tr>\n",
       "    <tr>\n",
       "      <th>max</th>\n",
       "      <td>1.000000</td>\n",
       "      <td>72.000000</td>\n",
       "      <td>118.750000</td>\n",
       "    </tr>\n",
       "  </tbody>\n",
       "</table>\n",
       "</div>"
      ],
      "text/plain": [
       "       SeniorCitizen       tenure  MonthlyCharges\n",
       "count    7043.000000  7043.000000     7043.000000\n",
       "mean        0.162147    32.371149       64.761692\n",
       "std         0.368612    24.559481       30.090047\n",
       "min         0.000000     0.000000       18.250000\n",
       "25%         0.000000     9.000000       35.500000\n",
       "50%         0.000000    29.000000       70.350000\n",
       "75%         0.000000    55.000000       89.850000\n",
       "max         1.000000    72.000000      118.750000"
      ]
     },
     "execution_count": 14,
     "metadata": {},
     "output_type": "execute_result"
    }
   ],
   "source": [
    "df.describe()"
   ]
  },
  {
   "cell_type": "markdown",
   "metadata": {},
   "source": [
    "Senior Citizen is a numeric-categorical column. "
   ]
  },
  {
   "cell_type": "markdown",
   "metadata": {},
   "source": [
    "## Distribution Monthly Charges"
   ]
  },
  {
   "cell_type": "code",
   "execution_count": 15,
   "metadata": {},
   "outputs": [
    {
     "data": {
      "text/plain": [
       "Text(0.5, 1.0, 'Monthly Charges Histogram')"
      ]
     },
     "execution_count": 15,
     "metadata": {},
     "output_type": "execute_result"
    },
    {
     "data": {
      "image/png": "[encoded data removed]",
      "text/plain": [
       "<Figure size 1080x360 with 1 Axes>"
      ]
     },
     "metadata": {
      "needs_background": "light"
     },
     "output_type": "display_data"
    }
   ],
   "source": [
    "plt.figure(figsize=(15,5))\n",
    "sns.histplot(df[df['Churn']=='Yes']['MonthlyCharges'],bins=30,kde=True)\n",
    "sns.histplot(df[df['Churn']=='No']['MonthlyCharges'],bins=30,kde=True,color='lightcoral')\n",
    "plt.title('Monthly Charges Histogram')"
   ]
  },
  {
   "cell_type": "markdown",
   "metadata": {},
   "source": [
    "Churn customer has low monthly Charges than the customer who stay subscribed."
   ]
  },
  {
   "cell_type": "code",
   "execution_count": 20,
   "metadata": {},
   "outputs": [
    {
     "data": {
      "text/plain": [
       "customerID              3668-QPYBK\n",
       "gender                        Male\n",
       "SeniorCitizen                    0\n",
       "Partner                         No\n",
       "Dependents                      No\n",
       "tenure                           2\n",
       "PhoneService                   Yes\n",
       "MultipleLines                   No\n",
       "InternetService                DSL\n",
       "OnlineSecurity                 Yes\n",
       "OnlineBackup                   Yes\n",
       "DeviceProtection                No\n",
       "TechSupport                     No\n",
       "StreamingTV                     No\n",
       "StreamingMovies                 No\n",
       "Contract            Month-to-month\n",
       "PaperlessBilling               Yes\n",
       "PaymentMethod         Mailed check\n",
       "MonthlyCharges               53.85\n",
       "TotalCharges                108.15\n",
       "Churn                          Yes\n",
       "Name: 2, dtype: object"
      ]
     },
     "execution_count": 20,
     "metadata": {},
     "output_type": "execute_result"
    }
   ],
   "source": [
    "df[df['Churn']=='Yes'].iloc[0]"
   ]
  },
  {
   "cell_type": "markdown",
   "metadata": {},
   "source": [
    "# Data Preprocessing"
   ]
  },
  {
   "cell_type": "markdown",
   "metadata": {},
   "source": [
    "## Cardinality\n",
    "\n",
    "in this section, I will detect high cardinality column from the dataset like customer ID column. I also going to replace some categorical columns into numeric-categorical column to ease my work in the Feature Scaling."
   ]
  },
  {
   "cell_type": "code",
   "execution_count": null,
   "metadata": {},
   "outputs": [
    {
     "data": {
      "text/plain": [
       "7043"
      ]
     },
     "execution_count": 135,
     "metadata": {},
     "output_type": "execute_result"
    }
   ],
   "source": [
    "df.customerID.nunique()"
   ]
  },
  {
   "cell_type": "code",
   "execution_count": null,
   "metadata": {},
   "outputs": [],
   "source": [
    "df.gender = np.where(df.gender == \"Female\",1,0)\n",
    "df.Partner = np.where(df.Partner == \"Yes\",1,0)\n",
    "df.Dependents = np.where(df.Dependents == \"Yes\",1,0)\n",
    "df.PhoneService = np.where(df.PhoneService == \"Yes\",1,0)\n",
    "df.MultipleLines = np.where(df.MultipleLines==\"Yes\",1,0)\n",
    "df.OnlineSecurity = np.where(df.OnlineSecurity == \"Yes\",1,0)\n",
    "df.OnlineBackup = np.where(df.OnlineBackup == \"Yes\",1,0)\n",
    "df.DeviceProtection = np.where(df.DeviceProtection == \"Yes\",1,0)\n",
    "df.TechSupport = np.where(df.TechSupport == \"Yes\",1,0)\n",
    "df.StreamingTV = np.where(df.StreamingTV == \"Yes\",1,0)\n",
    "df.StreamingMovies = np.where(df.StreamingMovies == \"Yes\",1,0)\n",
    "df.PaperlessBilling = np.where(df.PaperlessBilling == \"Yes\",1,0)\n",
    "df.Churn = np.where(df.Churn == 'Yes',1,0)"
   ]
  },
  {
   "cell_type": "code",
   "execution_count": null,
   "metadata": {},
   "outputs": [
    {
     "data": {
      "text/html": [
       "<div>\n",
       "<style scoped>\n",
       "    .dataframe tbody tr th:only-of-type {\n",
       "        vertical-align: middle;\n",
       "    }\n",
       "\n",
       "    .dataframe tbody tr th {\n",
       "        vertical-align: top;\n",
       "    }\n",
       "\n",
       "    .dataframe thead th {\n",
       "        text-align: right;\n",
       "    }\n",
       "</style>\n",
       "<table border=\"1\" class=\"dataframe\">\n",
       "  <thead>\n",
       "    <tr style=\"text-align: right;\">\n",
       "      <th></th>\n",
       "      <th>customerID</th>\n",
       "      <th>gender</th>\n",
       "      <th>SeniorCitizen</th>\n",
       "      <th>Partner</th>\n",
       "      <th>Dependents</th>\n",
       "      <th>tenure</th>\n",
       "      <th>PhoneService</th>\n",
       "      <th>MultipleLines</th>\n",
       "      <th>InternetService</th>\n",
       "      <th>OnlineSecurity</th>\n",
       "      <th>...</th>\n",
       "      <th>DeviceProtection</th>\n",
       "      <th>TechSupport</th>\n",
       "      <th>StreamingTV</th>\n",
       "      <th>StreamingMovies</th>\n",
       "      <th>Contract</th>\n",
       "      <th>PaperlessBilling</th>\n",
       "      <th>PaymentMethod</th>\n",
       "      <th>MonthlyCharges</th>\n",
       "      <th>TotalCharges</th>\n",
       "      <th>Churn</th>\n",
       "    </tr>\n",
       "  </thead>\n",
       "  <tbody>\n",
       "    <tr>\n",
       "      <th>0</th>\n",
       "      <td>7590-VHVEG</td>\n",
       "      <td>1</td>\n",
       "      <td>0</td>\n",
       "      <td>1</td>\n",
       "      <td>0</td>\n",
       "      <td>1</td>\n",
       "      <td>0</td>\n",
       "      <td>0</td>\n",
       "      <td>DSL</td>\n",
       "      <td>0</td>\n",
       "      <td>...</td>\n",
       "      <td>0</td>\n",
       "      <td>0</td>\n",
       "      <td>0</td>\n",
       "      <td>0</td>\n",
       "      <td>Month-to-month</td>\n",
       "      <td>1</td>\n",
       "      <td>Electronic check</td>\n",
       "      <td>29.85</td>\n",
       "      <td>29.85</td>\n",
       "      <td>0</td>\n",
       "    </tr>\n",
       "    <tr>\n",
       "      <th>1</th>\n",
       "      <td>5575-GNVDE</td>\n",
       "      <td>0</td>\n",
       "      <td>0</td>\n",
       "      <td>0</td>\n",
       "      <td>0</td>\n",
       "      <td>34</td>\n",
       "      <td>1</td>\n",
       "      <td>0</td>\n",
       "      <td>DSL</td>\n",
       "      <td>1</td>\n",
       "      <td>...</td>\n",
       "      <td>1</td>\n",
       "      <td>0</td>\n",
       "      <td>0</td>\n",
       "      <td>0</td>\n",
       "      <td>One year</td>\n",
       "      <td>0</td>\n",
       "      <td>Mailed check</td>\n",
       "      <td>56.95</td>\n",
       "      <td>1889.5</td>\n",
       "      <td>0</td>\n",
       "    </tr>\n",
       "    <tr>\n",
       "      <th>2</th>\n",
       "      <td>3668-QPYBK</td>\n",
       "      <td>0</td>\n",
       "      <td>0</td>\n",
       "      <td>0</td>\n",
       "      <td>0</td>\n",
       "      <td>2</td>\n",
       "      <td>1</td>\n",
       "      <td>0</td>\n",
       "      <td>DSL</td>\n",
       "      <td>1</td>\n",
       "      <td>...</td>\n",
       "      <td>0</td>\n",
       "      <td>0</td>\n",
       "      <td>0</td>\n",
       "      <td>0</td>\n",
       "      <td>Month-to-month</td>\n",
       "      <td>1</td>\n",
       "      <td>Mailed check</td>\n",
       "      <td>53.85</td>\n",
       "      <td>108.15</td>\n",
       "      <td>1</td>\n",
       "    </tr>\n",
       "    <tr>\n",
       "      <th>3</th>\n",
       "      <td>7795-CFOCW</td>\n",
       "      <td>0</td>\n",
       "      <td>0</td>\n",
       "      <td>0</td>\n",
       "      <td>0</td>\n",
       "      <td>45</td>\n",
       "      <td>0</td>\n",
       "      <td>0</td>\n",
       "      <td>DSL</td>\n",
       "      <td>1</td>\n",
       "      <td>...</td>\n",
       "      <td>1</td>\n",
       "      <td>1</td>\n",
       "      <td>0</td>\n",
       "      <td>0</td>\n",
       "      <td>One year</td>\n",
       "      <td>0</td>\n",
       "      <td>Bank transfer (automatic)</td>\n",
       "      <td>42.30</td>\n",
       "      <td>1840.75</td>\n",
       "      <td>0</td>\n",
       "    </tr>\n",
       "    <tr>\n",
       "      <th>4</th>\n",
       "      <td>9237-HQITU</td>\n",
       "      <td>1</td>\n",
       "      <td>0</td>\n",
       "      <td>0</td>\n",
       "      <td>0</td>\n",
       "      <td>2</td>\n",
       "      <td>1</td>\n",
       "      <td>0</td>\n",
       "      <td>Fiber optic</td>\n",
       "      <td>0</td>\n",
       "      <td>...</td>\n",
       "      <td>0</td>\n",
       "      <td>0</td>\n",
       "      <td>0</td>\n",
       "      <td>0</td>\n",
       "      <td>Month-to-month</td>\n",
       "      <td>1</td>\n",
       "      <td>Electronic check</td>\n",
       "      <td>70.70</td>\n",
       "      <td>151.65</td>\n",
       "      <td>1</td>\n",
       "    </tr>\n",
       "  </tbody>\n",
       "</table>\n",
       "<p>5 rows × 21 columns</p>\n",
       "</div>"
      ],
      "text/plain": [
       "   customerID  gender  SeniorCitizen  Partner  Dependents  tenure  \\\n",
       "0  7590-VHVEG       1              0        1           0       1   \n",
       "1  5575-GNVDE       0              0        0           0      34   \n",
       "2  3668-QPYBK       0              0        0           0       2   \n",
       "3  7795-CFOCW       0              0        0           0      45   \n",
       "4  9237-HQITU       1              0        0           0       2   \n",
       "\n",
       "   PhoneService  MultipleLines InternetService  OnlineSecurity  ...  \\\n",
       "0             0              0             DSL               0  ...   \n",
       "1             1              0             DSL               1  ...   \n",
       "2             1              0             DSL               1  ...   \n",
       "3             0              0             DSL               1  ...   \n",
       "4             1              0     Fiber optic               0  ...   \n",
       "\n",
       "   DeviceProtection  TechSupport  StreamingTV  StreamingMovies  \\\n",
       "0                 0            0            0                0   \n",
       "1                 1            0            0                0   \n",
       "2                 0            0            0                0   \n",
       "3                 1            1            0                0   \n",
       "4                 0            0            0                0   \n",
       "\n",
       "         Contract PaperlessBilling              PaymentMethod MonthlyCharges  \\\n",
       "0  Month-to-month                1           Electronic check          29.85   \n",
       "1        One year                0               Mailed check          56.95   \n",
       "2  Month-to-month                1               Mailed check          53.85   \n",
       "3        One year                0  Bank transfer (automatic)          42.30   \n",
       "4  Month-to-month                1           Electronic check          70.70   \n",
       "\n",
       "   TotalCharges Churn  \n",
       "0         29.85     0  \n",
       "1        1889.5     0  \n",
       "2        108.15     1  \n",
       "3       1840.75     0  \n",
       "4        151.65     1  \n",
       "\n",
       "[5 rows x 21 columns]"
      ]
     },
     "execution_count": 137,
     "metadata": {},
     "output_type": "execute_result"
    }
   ],
   "source": [
    "df.head()"
   ]
  },
  {
   "cell_type": "markdown",
   "metadata": {},
   "source": [
    "Above is the dataset after I modified the columns."
   ]
  },
  {
   "cell_type": "markdown",
   "metadata": {},
   "source": [
    "## Splitting Data"
   ]
  },
  {
   "cell_type": "code",
   "execution_count": null,
   "metadata": {},
   "outputs": [
    {
     "name": "stdout",
     "output_type": "stream",
     "text": [
      "(4225, 20)\n",
      "(1057, 20)\n",
      "(1761, 20)\n",
      "(4225,)\n",
      "(1057,)\n",
      "(1761,)\n"
     ]
    }
   ],
   "source": [
    "#split features and target\n",
    "X = df.drop('Churn', axis=1)\n",
    "y = df.Churn\n",
    "#split train test\n",
    "X_train,X_test,y_train,y_test = train_test_split(X,y,test_size=0.25, random_state=42)\n",
    "#split train validation\n",
    "X_train,X_val,y_train,y_val = train_test_split(X_train,y_train,test_size=0.2, random_state=42)\n",
    "print(X_train.shape)\n",
    "print(X_val.shape)\n",
    "print(X_test.shape)\n",
    "print(y_train.shape)\n",
    "print(y_val.shape)\n",
    "print(y_test.shape)\n"
   ]
  },
  {
   "cell_type": "markdown",
   "metadata": {},
   "source": [
    "I need to split data into test-train-validation. Train and validation are for training the model and test is to test the prediction of the best model. "
   ]
  },
  {
   "cell_type": "markdown",
   "metadata": {},
   "source": [
    "# Outliers"
   ]
  },
  {
   "cell_type": "code",
   "execution_count": null,
   "metadata": {},
   "outputs": [
    {
     "data": {
      "text/plain": [
       "<AxesSubplot:>"
      ]
     },
     "execution_count": 139,
     "metadata": {},
     "output_type": "execute_result"
    },
    {
     "data": {
      "image/png": "[encoded data removed]",
      "text/plain": [
       "<Figure size 432x288 with 1 Axes>"
      ]
     },
     "metadata": {
      "needs_background": "light"
     },
     "output_type": "display_data"
    }
   ],
   "source": [
    "sns.boxplot(data=X_train[['MonthlyCharges','tenure']], palette=\"pastel\")"
   ]
  },
  {
   "cell_type": "markdown",
   "metadata": {},
   "source": [
    "There's no outliers detected in the numerical columns"
   ]
  },
  {
   "cell_type": "markdown",
   "metadata": {},
   "source": [
    "# Missing Values"
   ]
  },
  {
   "cell_type": "markdown",
   "metadata": {},
   "source": [
    "In EDA, Total Charges is known to have some missing values. Because they're missing value completely at random so I'll trim the rows that contain missing values."
   ]
  },
  {
   "cell_type": "code",
   "execution_count": null,
   "metadata": {},
   "outputs": [
    {
     "data": {
      "text/html": [
       "<div>\n",
       "<style scoped>\n",
       "    .dataframe tbody tr th:only-of-type {\n",
       "        vertical-align: middle;\n",
       "    }\n",
       "\n",
       "    .dataframe tbody tr th {\n",
       "        vertical-align: top;\n",
       "    }\n",
       "\n",
       "    .dataframe thead th {\n",
       "        text-align: right;\n",
       "    }\n",
       "</style>\n",
       "<table border=\"1\" class=\"dataframe\">\n",
       "  <thead>\n",
       "    <tr style=\"text-align: right;\">\n",
       "      <th></th>\n",
       "      <th>customerID</th>\n",
       "      <th>gender</th>\n",
       "      <th>SeniorCitizen</th>\n",
       "      <th>Partner</th>\n",
       "      <th>Dependents</th>\n",
       "      <th>tenure</th>\n",
       "      <th>PhoneService</th>\n",
       "      <th>MultipleLines</th>\n",
       "      <th>InternetService</th>\n",
       "      <th>OnlineSecurity</th>\n",
       "      <th>OnlineBackup</th>\n",
       "      <th>DeviceProtection</th>\n",
       "      <th>TechSupport</th>\n",
       "      <th>StreamingTV</th>\n",
       "      <th>StreamingMovies</th>\n",
       "      <th>Contract</th>\n",
       "      <th>PaperlessBilling</th>\n",
       "      <th>PaymentMethod</th>\n",
       "      <th>MonthlyCharges</th>\n",
       "      <th>TotalCharges</th>\n",
       "    </tr>\n",
       "  </thead>\n",
       "  <tbody>\n",
       "    <tr>\n",
       "      <th>4380</th>\n",
       "      <td>2520-SGTTA</td>\n",
       "      <td>1</td>\n",
       "      <td>0</td>\n",
       "      <td>1</td>\n",
       "      <td>1</td>\n",
       "      <td>0</td>\n",
       "      <td>1</td>\n",
       "      <td>0</td>\n",
       "      <td>No</td>\n",
       "      <td>0</td>\n",
       "      <td>0</td>\n",
       "      <td>0</td>\n",
       "      <td>0</td>\n",
       "      <td>0</td>\n",
       "      <td>0</td>\n",
       "      <td>Two year</td>\n",
       "      <td>0</td>\n",
       "      <td>Mailed check</td>\n",
       "      <td>20.00</td>\n",
       "      <td></td>\n",
       "    </tr>\n",
       "    <tr>\n",
       "      <th>1082</th>\n",
       "      <td>4367-NUYAO</td>\n",
       "      <td>0</td>\n",
       "      <td>0</td>\n",
       "      <td>1</td>\n",
       "      <td>1</td>\n",
       "      <td>0</td>\n",
       "      <td>1</td>\n",
       "      <td>1</td>\n",
       "      <td>No</td>\n",
       "      <td>0</td>\n",
       "      <td>0</td>\n",
       "      <td>0</td>\n",
       "      <td>0</td>\n",
       "      <td>0</td>\n",
       "      <td>0</td>\n",
       "      <td>Two year</td>\n",
       "      <td>0</td>\n",
       "      <td>Mailed check</td>\n",
       "      <td>25.75</td>\n",
       "      <td></td>\n",
       "    </tr>\n",
       "    <tr>\n",
       "      <th>3826</th>\n",
       "      <td>3213-VVOLG</td>\n",
       "      <td>0</td>\n",
       "      <td>0</td>\n",
       "      <td>1</td>\n",
       "      <td>1</td>\n",
       "      <td>0</td>\n",
       "      <td>1</td>\n",
       "      <td>1</td>\n",
       "      <td>No</td>\n",
       "      <td>0</td>\n",
       "      <td>0</td>\n",
       "      <td>0</td>\n",
       "      <td>0</td>\n",
       "      <td>0</td>\n",
       "      <td>0</td>\n",
       "      <td>Two year</td>\n",
       "      <td>0</td>\n",
       "      <td>Mailed check</td>\n",
       "      <td>25.35</td>\n",
       "      <td></td>\n",
       "    </tr>\n",
       "    <tr>\n",
       "      <th>753</th>\n",
       "      <td>3115-CZMZD</td>\n",
       "      <td>0</td>\n",
       "      <td>0</td>\n",
       "      <td>0</td>\n",
       "      <td>1</td>\n",
       "      <td>0</td>\n",
       "      <td>1</td>\n",
       "      <td>0</td>\n",
       "      <td>No</td>\n",
       "      <td>0</td>\n",
       "      <td>0</td>\n",
       "      <td>0</td>\n",
       "      <td>0</td>\n",
       "      <td>0</td>\n",
       "      <td>0</td>\n",
       "      <td>Two year</td>\n",
       "      <td>0</td>\n",
       "      <td>Mailed check</td>\n",
       "      <td>20.25</td>\n",
       "      <td></td>\n",
       "    </tr>\n",
       "    <tr>\n",
       "      <th>488</th>\n",
       "      <td>4472-LVYGI</td>\n",
       "      <td>1</td>\n",
       "      <td>0</td>\n",
       "      <td>1</td>\n",
       "      <td>1</td>\n",
       "      <td>0</td>\n",
       "      <td>0</td>\n",
       "      <td>0</td>\n",
       "      <td>DSL</td>\n",
       "      <td>1</td>\n",
       "      <td>0</td>\n",
       "      <td>1</td>\n",
       "      <td>1</td>\n",
       "      <td>1</td>\n",
       "      <td>0</td>\n",
       "      <td>Two year</td>\n",
       "      <td>1</td>\n",
       "      <td>Bank transfer (automatic)</td>\n",
       "      <td>52.55</td>\n",
       "      <td></td>\n",
       "    </tr>\n",
       "  </tbody>\n",
       "</table>\n",
       "</div>"
      ],
      "text/plain": [
       "      customerID  gender  SeniorCitizen  Partner  Dependents  tenure  \\\n",
       "4380  2520-SGTTA       1              0        1           1       0   \n",
       "1082  4367-NUYAO       0              0        1           1       0   \n",
       "3826  3213-VVOLG       0              0        1           1       0   \n",
       "753   3115-CZMZD       0              0        0           1       0   \n",
       "488   4472-LVYGI       1              0        1           1       0   \n",
       "\n",
       "      PhoneService  MultipleLines InternetService  OnlineSecurity  \\\n",
       "4380             1              0              No               0   \n",
       "1082             1              1              No               0   \n",
       "3826             1              1              No               0   \n",
       "753              1              0              No               0   \n",
       "488              0              0             DSL               1   \n",
       "\n",
       "      OnlineBackup  DeviceProtection  TechSupport  StreamingTV  \\\n",
       "4380             0                 0            0            0   \n",
       "1082             0                 0            0            0   \n",
       "3826             0                 0            0            0   \n",
       "753              0                 0            0            0   \n",
       "488              0                 1            1            1   \n",
       "\n",
       "      StreamingMovies  Contract  PaperlessBilling              PaymentMethod  \\\n",
       "4380                0  Two year                 0               Mailed check   \n",
       "1082                0  Two year                 0               Mailed check   \n",
       "3826                0  Two year                 0               Mailed check   \n",
       "753                 0  Two year                 0               Mailed check   \n",
       "488                 0  Two year                 1  Bank transfer (automatic)   \n",
       "\n",
       "      MonthlyCharges TotalCharges  \n",
       "4380           20.00               \n",
       "1082           25.75               \n",
       "3826           25.35               \n",
       "753            20.25               \n",
       "488            52.55               "
      ]
     },
     "execution_count": 140,
     "metadata": {},
     "output_type": "execute_result"
    }
   ],
   "source": [
    "X_val[X_val.TotalCharges==' ']"
   ]
  },
  {
   "cell_type": "code",
   "execution_count": null,
   "metadata": {},
   "outputs": [],
   "source": [
    "na1 = X_train[X_train.TotalCharges==' '].index\n",
    "na2 = X_test[X_test.TotalCharges==' '].index\n",
    "na3 = X_val[X_val.TotalCharges==' '].index\n",
    "X_train = X_train.drop(na1, axis=0)\n",
    "X_test = X_test.drop(na2, axis=0)\n",
    "X_val = X_val.drop(na3, axis=0)\n",
    "y_train = y_train.drop(na1, axis=0)\n",
    "y_test = y_test.drop(na2,axis=0)\n",
    "y_val = y_val.drop(na3, axis=0)"
   ]
  },
  {
   "cell_type": "code",
   "execution_count": null,
   "metadata": {},
   "outputs": [
    {
     "name": "stdout",
     "output_type": "stream",
     "text": [
      "(4222, 20)\n",
      "(1758, 20)\n",
      "(1052, 20)\n",
      "(4222,)\n",
      "(1758,)\n",
      "(1052,)\n"
     ]
    }
   ],
   "source": [
    "print(X_train.shape)\n",
    "print(X_test.shape)\n",
    "print(X_val.shape)\n",
    "print(y_train.shape)\n",
    "print(y_test.shape)\n",
    "print(y_val.shape)"
   ]
  },
  {
   "cell_type": "code",
   "execution_count": null,
   "metadata": {},
   "outputs": [
    {
     "data": {
      "text/plain": [
       "0"
      ]
     },
     "execution_count": 143,
     "metadata": {},
     "output_type": "execute_result"
    }
   ],
   "source": [
    "df.isnull().sum().sum()"
   ]
  },
  {
   "cell_type": "markdown",
   "metadata": {},
   "source": [
    "Total Charges is a numerical column, so I must change the type of the data."
   ]
  },
  {
   "cell_type": "code",
   "execution_count": null,
   "metadata": {},
   "outputs": [
    {
     "name": "stdout",
     "output_type": "stream",
     "text": [
      "<class 'pandas.core.series.Series'>\n",
      "Int64Index: 4222 entries, 1324 to 5019\n",
      "Series name: TotalCharges\n",
      "Non-Null Count  Dtype  \n",
      "--------------  -----  \n",
      "4222 non-null   float64\n",
      "dtypes: float64(1)\n",
      "memory usage: 66.0 KB\n"
     ]
    }
   ],
   "source": [
    "X_train.TotalCharges = X_train.TotalCharges.astype(float)\n",
    "X_test.TotalCharges = X_test.TotalCharges.astype(float)\n",
    "X_val.TotalCharges = X_val.TotalCharges.astype(float)\n",
    "X_train.TotalCharges.info()"
   ]
  },
  {
   "cell_type": "markdown",
   "metadata": {},
   "source": [
    "Now, total charges is in a float type data. Since it has turned to numerical column, I have to check if total charges has outliers or not and also how the distribution, how this column correlate with other numerical columns."
   ]
  },
  {
   "cell_type": "code",
   "execution_count": null,
   "metadata": {},
   "outputs": [
    {
     "data": {
      "text/plain": [
       "<AxesSubplot:>"
      ]
     },
     "execution_count": 145,
     "metadata": {},
     "output_type": "execute_result"
    },
    {
     "data": {
      "image/png": "[encoded data removed]",
      "text/plain": [
       "<Figure size 432x288 with 1 Axes>"
      ]
     },
     "metadata": {
      "needs_background": "light"
     },
     "output_type": "display_data"
    }
   ],
   "source": [
    "X_train.TotalCharges.plot(kind='box')"
   ]
  },
  {
   "cell_type": "markdown",
   "metadata": {},
   "source": [
    "There's no outliers found in this column and the distribution of Total Charges feature is skewed positive."
   ]
  },
  {
   "cell_type": "markdown",
   "metadata": {},
   "source": [
    "## Feature Selection"
   ]
  },
  {
   "cell_type": "code",
   "execution_count": null,
   "metadata": {},
   "outputs": [
    {
     "data": {
      "image/png": "[encoded data removed]",
      "text/plain": [
       "<Figure size 1080x720 with 2 Axes>"
      ]
     },
     "metadata": {
      "needs_background": "light"
     },
     "output_type": "display_data"
    }
   ],
   "source": [
    "plt.figure(figsize=(15, 10))\n",
    "sns.heatmap(df.corr(),annot=True)\n",
    "plt.show()"
   ]
  },
  {
   "cell_type": "code",
   "execution_count": null,
   "metadata": {},
   "outputs": [],
   "source": [
    "X_train = X_train.drop('customerID',axis=1)\n",
    "X_test = X_test.drop(\"customerID\",axis=1)\n",
    "X_val = X_val.drop(\"customerID\", axis=1)"
   ]
  },
  {
   "cell_type": "markdown",
   "metadata": {},
   "source": [
    "Since customer ID has a high cardinality, dropping the columns is the best way to make a right prediction model."
   ]
  },
  {
   "cell_type": "markdown",
   "metadata": {},
   "source": [
    "# Feature Scaling and Encoding"
   ]
  },
  {
   "cell_type": "markdown",
   "metadata": {},
   "source": [
    "It's important to have a dataset that has same scaling before put it in the model. So here, I normalize the dataset into one scale number (0-1). Standar Scaler will change every numerical column into 0-1, and One hot encoding will change every categorical column into binary matrix."
   ]
  },
  {
   "cell_type": "code",
   "execution_count": null,
   "metadata": {},
   "outputs": [
    {
     "name": "stdout",
     "output_type": "stream",
     "text": [
      "num:  ['gender', 'SeniorCitizen', 'Partner', 'Dependents', 'tenure', 'PhoneService', 'MultipleLines', 'OnlineSecurity', 'OnlineBackup', 'DeviceProtection', 'TechSupport', 'StreamingTV', 'StreamingMovies', 'PaperlessBilling', 'MonthlyCharges', 'TotalCharges']\n",
      "cat:  ['InternetService', 'Contract', 'PaymentMethod']\n"
     ]
    }
   ],
   "source": [
    "num_col = X_train.select_dtypes(include=np.number).columns.tolist()\n",
    "cat_col = X_train.select_dtypes(include='O').columns.tolist()\n",
    "print('num: ',num_col)\n",
    "print(\"cat: \",cat_col)"
   ]
  },
  {
   "cell_type": "markdown",
   "metadata": {},
   "source": [
    "Pipeline preprocessing consist of two normalization I mention before."
   ]
  },
  {
   "cell_type": "code",
   "execution_count": null,
   "metadata": {},
   "outputs": [],
   "source": [
    "std = StandardScaler()\n",
    "ohe = OneHotEncoder()\n",
    "pipe_prep = ColumnTransformer([\n",
    "    ('scale', std, num_col),\n",
    "    ('encode', ohe, cat_col)\n",
    "])"
   ]
  },
  {
   "cell_type": "code",
   "execution_count": null,
   "metadata": {},
   "outputs": [],
   "source": [
    "# Feature extraction with pipeline\n",
    "\n",
    "X_train_scale = pipe_prep.fit_transform(X_train)\n",
    "X_test_scale = pipe_prep.transform(X_test)\n",
    "X_val_scale = pipe_prep.transform(X_val)"
   ]
  },
  {
   "cell_type": "markdown",
   "metadata": {},
   "source": [
    "Now, the dataset are in the same scale."
   ]
  },
  {
   "cell_type": "markdown",
   "metadata": {},
   "source": [
    "## Pipeline Tensorflow"
   ]
  },
  {
   "cell_type": "markdown",
   "metadata": {},
   "source": [
    "Pipeline tensorflow is made for memory efficiency."
   ]
  },
  {
   "cell_type": "code",
   "execution_count": null,
   "metadata": {},
   "outputs": [],
   "source": [
    "train_dataset = Dataset.from_tensor_slices((X_train_scale, y_train))\n",
    "train_dataset = train_dataset.shuffle(buffer_size=1024).batch(64)\n",
    "val_dataset = Dataset.from_tensor_slices((X_val_scale, y_val))\n",
    "val_dataset = val_dataset.shuffle(buffer_size=1024).batch(64)\n",
    "test_dataset = Dataset.from_tensor_slices((X_test_scale, y_test))\n",
    "test_dataset = test_dataset.batch(64)"
   ]
  },
  {
   "cell_type": "markdown",
   "metadata": {},
   "source": [
    "# Model Definition\n",
    "\n",
    "To make a prediction of churn customer I use Artificial Neural Network (ANN) model. The ANN model has two kind of type of model architecture; Sequential Model and Functional API.\n",
    "\n",
    "## Sequential Model"
   ]
  },
  {
   "cell_type": "markdown",
   "metadata": {},
   "source": [
    "Hyperparameter that I use in sequential model is reLU (rectified linear unit) activation fot the hidden layer and sigmoid for output layer because there's only two categories in target (churn or not churn). I made 4 neuron in hidden layer and only use 1 hidden layer.\n",
    "The optimizer I use is adam optimizer where this optimizer is adaptive learning rate and fast enough to reach convergence point. The metric to evaluate this model is accuracy. Since the target is binary classification, I choose binary cross entropy for the loss.\n",
    "The epochs is 100 epochs."
   ]
  },
  {
   "cell_type": "code",
   "execution_count": null,
   "metadata": {},
   "outputs": [
    {
     "name": "stdout",
     "output_type": "stream",
     "text": [
      "Epoch 1/100\n",
      "66/66 [==============================] - 1s 2ms/step - loss: 0.7119 - accuracy: 0.5618 - val_loss: 0.6011 - val_accuracy: 0.6454\n",
      "Epoch 2/100\n",
      "66/66 [==============================] - 0s 2ms/step - loss: 0.5751 - accuracy: 0.6964 - val_loss: 0.5253 - val_accuracy: 0.7167\n",
      "Epoch 3/100\n",
      "66/66 [==============================] - 0s 2ms/step - loss: 0.5217 - accuracy: 0.7385 - val_loss: 0.4949 - val_accuracy: 0.7376\n",
      "Epoch 4/100\n",
      "66/66 [==============================] - 0s 1ms/step - loss: 0.4953 - accuracy: 0.7515 - val_loss: 0.4787 - val_accuracy: 0.7443\n",
      "Epoch 5/100\n",
      "66/66 [==============================] - 0s 2ms/step - loss: 0.4791 - accuracy: 0.7613 - val_loss: 0.4688 - val_accuracy: 0.7452\n",
      "Epoch 6/100\n",
      "66/66 [==============================] - 0s 2ms/step - loss: 0.4676 - accuracy: 0.7700 - val_loss: 0.4616 - val_accuracy: 0.7624\n",
      "Epoch 7/100\n",
      "66/66 [==============================] - 0s 2ms/step - loss: 0.4591 - accuracy: 0.7800 - val_loss: 0.4566 - val_accuracy: 0.7757\n",
      "Epoch 8/100\n",
      "66/66 [==============================] - 0s 2ms/step - loss: 0.4524 - accuracy: 0.7852 - val_loss: 0.4519 - val_accuracy: 0.7899\n",
      "Epoch 9/100\n",
      "66/66 [==============================] - 0s 2ms/step - loss: 0.4470 - accuracy: 0.7873 - val_loss: 0.4488 - val_accuracy: 0.7852\n",
      "Epoch 10/100\n",
      "66/66 [==============================] - 0s 2ms/step - loss: 0.4430 - accuracy: 0.7911 - val_loss: 0.4456 - val_accuracy: 0.7880\n",
      "Epoch 11/100\n",
      "66/66 [==============================] - 0s 2ms/step - loss: 0.4395 - accuracy: 0.7906 - val_loss: 0.4435 - val_accuracy: 0.7928\n",
      "Epoch 12/100\n",
      "66/66 [==============================] - 0s 2ms/step - loss: 0.4369 - accuracy: 0.7932 - val_loss: 0.4420 - val_accuracy: 0.7937\n",
      "Epoch 13/100\n",
      "66/66 [==============================] - 0s 2ms/step - loss: 0.4346 - accuracy: 0.7928 - val_loss: 0.4409 - val_accuracy: 0.7890\n",
      "Epoch 14/100\n",
      "66/66 [==============================] - 0s 2ms/step - loss: 0.4326 - accuracy: 0.7937 - val_loss: 0.4399 - val_accuracy: 0.7928\n",
      "Epoch 15/100\n",
      "66/66 [==============================] - 0s 2ms/step - loss: 0.4310 - accuracy: 0.7928 - val_loss: 0.4390 - val_accuracy: 0.7899\n",
      "Epoch 16/100\n",
      "66/66 [==============================] - 0s 3ms/step - loss: 0.4294 - accuracy: 0.7942 - val_loss: 0.4386 - val_accuracy: 0.7918\n",
      "Epoch 17/100\n",
      "66/66 [==============================] - 0s 2ms/step - loss: 0.4283 - accuracy: 0.7956 - val_loss: 0.4381 - val_accuracy: 0.7947\n",
      "Epoch 18/100\n",
      "66/66 [==============================] - 0s 2ms/step - loss: 0.4270 - accuracy: 0.7958 - val_loss: 0.4372 - val_accuracy: 0.7947\n",
      "Epoch 19/100\n",
      "66/66 [==============================] - 0s 2ms/step - loss: 0.4258 - accuracy: 0.7961 - val_loss: 0.4374 - val_accuracy: 0.7918\n",
      "Epoch 20/100\n",
      "66/66 [==============================] - 0s 2ms/step - loss: 0.4249 - accuracy: 0.7977 - val_loss: 0.4369 - val_accuracy: 0.7928\n",
      "Epoch 21/100\n",
      "66/66 [==============================] - 0s 2ms/step - loss: 0.4240 - accuracy: 0.7977 - val_loss: 0.4372 - val_accuracy: 0.7928\n",
      "Epoch 22/100\n",
      "66/66 [==============================] - 0s 2ms/step - loss: 0.4234 - accuracy: 0.7991 - val_loss: 0.4366 - val_accuracy: 0.7909\n",
      "Epoch 23/100\n",
      "66/66 [==============================] - 0s 2ms/step - loss: 0.4224 - accuracy: 0.7996 - val_loss: 0.4364 - val_accuracy: 0.7918\n",
      "Epoch 24/100\n",
      "66/66 [==============================] - 0s 2ms/step - loss: 0.4218 - accuracy: 0.7999 - val_loss: 0.4366 - val_accuracy: 0.7909\n",
      "Epoch 25/100\n",
      "66/66 [==============================] - 0s 2ms/step - loss: 0.4213 - accuracy: 0.7991 - val_loss: 0.4365 - val_accuracy: 0.7947\n",
      "Epoch 26/100\n",
      "66/66 [==============================] - 0s 2ms/step - loss: 0.4207 - accuracy: 0.7996 - val_loss: 0.4361 - val_accuracy: 0.7937\n",
      "Epoch 27/100\n",
      "66/66 [==============================] - 0s 2ms/step - loss: 0.4202 - accuracy: 0.7999 - val_loss: 0.4363 - val_accuracy: 0.7928\n",
      "Epoch 28/100\n",
      "66/66 [==============================] - 0s 3ms/step - loss: 0.4196 - accuracy: 0.8006 - val_loss: 0.4354 - val_accuracy: 0.7956\n",
      "Epoch 29/100\n",
      "66/66 [==============================] - 0s 2ms/step - loss: 0.4193 - accuracy: 0.8015 - val_loss: 0.4355 - val_accuracy: 0.7947\n",
      "Epoch 30/100\n",
      "66/66 [==============================] - 0s 2ms/step - loss: 0.4189 - accuracy: 0.8022 - val_loss: 0.4357 - val_accuracy: 0.7937\n",
      "Epoch 31/100\n",
      "66/66 [==============================] - 0s 2ms/step - loss: 0.4185 - accuracy: 0.8010 - val_loss: 0.4356 - val_accuracy: 0.7947\n",
      "Epoch 32/100\n",
      "66/66 [==============================] - 0s 2ms/step - loss: 0.4183 - accuracy: 0.8003 - val_loss: 0.4358 - val_accuracy: 0.7966\n",
      "Epoch 33/100\n",
      "66/66 [==============================] - 0s 2ms/step - loss: 0.4181 - accuracy: 0.8015 - val_loss: 0.4359 - val_accuracy: 0.7956\n",
      "Epoch 34/100\n",
      "66/66 [==============================] - 0s 2ms/step - loss: 0.4175 - accuracy: 0.8013 - val_loss: 0.4354 - val_accuracy: 0.7937\n",
      "Epoch 35/100\n",
      "66/66 [==============================] - 0s 2ms/step - loss: 0.4174 - accuracy: 0.8001 - val_loss: 0.4357 - val_accuracy: 0.7928\n",
      "Epoch 36/100\n",
      "66/66 [==============================] - 0s 2ms/step - loss: 0.4172 - accuracy: 0.8015 - val_loss: 0.4357 - val_accuracy: 0.7947\n",
      "Epoch 37/100\n",
      "66/66 [==============================] - 0s 2ms/step - loss: 0.4168 - accuracy: 0.8010 - val_loss: 0.4355 - val_accuracy: 0.7918\n",
      "Epoch 38/100\n",
      "66/66 [==============================] - 0s 2ms/step - loss: 0.4167 - accuracy: 0.8008 - val_loss: 0.4363 - val_accuracy: 0.7918\n",
      "Epoch 39/100\n",
      "66/66 [==============================] - 0s 2ms/step - loss: 0.4162 - accuracy: 0.8013 - val_loss: 0.4354 - val_accuracy: 0.7909\n",
      "Epoch 40/100\n",
      "66/66 [==============================] - 0s 2ms/step - loss: 0.4162 - accuracy: 0.8020 - val_loss: 0.4365 - val_accuracy: 0.7909\n",
      "Epoch 41/100\n",
      "66/66 [==============================] - 0s 2ms/step - loss: 0.4157 - accuracy: 0.8010 - val_loss: 0.4367 - val_accuracy: 0.7880\n",
      "Epoch 42/100\n",
      "66/66 [==============================] - 0s 2ms/step - loss: 0.4155 - accuracy: 0.8008 - val_loss: 0.4368 - val_accuracy: 0.7890\n",
      "Epoch 43/100\n",
      "66/66 [==============================] - 0s 2ms/step - loss: 0.4157 - accuracy: 0.8015 - val_loss: 0.4371 - val_accuracy: 0.7871\n",
      "Epoch 44/100\n",
      "66/66 [==============================] - 0s 2ms/step - loss: 0.4152 - accuracy: 0.8022 - val_loss: 0.4365 - val_accuracy: 0.7861\n",
      "Epoch 45/100\n",
      "66/66 [==============================] - 0s 2ms/step - loss: 0.4151 - accuracy: 0.8018 - val_loss: 0.4373 - val_accuracy: 0.7852\n",
      "Epoch 46/100\n",
      "66/66 [==============================] - 0s 2ms/step - loss: 0.4149 - accuracy: 0.8032 - val_loss: 0.4369 - val_accuracy: 0.7842\n",
      "Epoch 47/100\n",
      "66/66 [==============================] - 0s 2ms/step - loss: 0.4148 - accuracy: 0.8029 - val_loss: 0.4371 - val_accuracy: 0.7852\n",
      "Epoch 48/100\n",
      "66/66 [==============================] - 0s 2ms/step - loss: 0.4146 - accuracy: 0.8020 - val_loss: 0.4368 - val_accuracy: 0.7833\n",
      "Epoch 49/100\n",
      "66/66 [==============================] - 0s 2ms/step - loss: 0.4144 - accuracy: 0.8027 - val_loss: 0.4377 - val_accuracy: 0.7823\n",
      "Epoch 50/100\n",
      "66/66 [==============================] - 0s 2ms/step - loss: 0.4143 - accuracy: 0.8039 - val_loss: 0.4372 - val_accuracy: 0.7861\n",
      "Epoch 51/100\n",
      "66/66 [==============================] - 0s 2ms/step - loss: 0.4141 - accuracy: 0.8029 - val_loss: 0.4383 - val_accuracy: 0.7852\n",
      "Epoch 52/100\n",
      "66/66 [==============================] - 0s 2ms/step - loss: 0.4140 - accuracy: 0.8036 - val_loss: 0.4388 - val_accuracy: 0.7833\n",
      "Epoch 53/100\n",
      "66/66 [==============================] - 0s 2ms/step - loss: 0.4138 - accuracy: 0.8041 - val_loss: 0.4383 - val_accuracy: 0.7833\n",
      "Epoch 54/100\n",
      "66/66 [==============================] - 0s 2ms/step - loss: 0.4137 - accuracy: 0.8046 - val_loss: 0.4377 - val_accuracy: 0.7823\n",
      "Epoch 55/100\n",
      "66/66 [==============================] - 0s 2ms/step - loss: 0.4133 - accuracy: 0.8048 - val_loss: 0.4381 - val_accuracy: 0.7842\n",
      "Epoch 56/100\n",
      "66/66 [==============================] - 0s 2ms/step - loss: 0.4133 - accuracy: 0.8053 - val_loss: 0.4381 - val_accuracy: 0.7823\n",
      "Epoch 57/100\n",
      "66/66 [==============================] - 0s 2ms/step - loss: 0.4130 - accuracy: 0.8046 - val_loss: 0.4372 - val_accuracy: 0.7842\n",
      "Epoch 58/100\n",
      "66/66 [==============================] - 0s 2ms/step - loss: 0.4129 - accuracy: 0.8055 - val_loss: 0.4381 - val_accuracy: 0.7823\n",
      "Epoch 59/100\n",
      "66/66 [==============================] - 0s 2ms/step - loss: 0.4129 - accuracy: 0.8063 - val_loss: 0.4387 - val_accuracy: 0.7795\n",
      "Epoch 60/100\n",
      "66/66 [==============================] - 0s 2ms/step - loss: 0.4126 - accuracy: 0.8067 - val_loss: 0.4381 - val_accuracy: 0.7795\n",
      "Epoch 61/100\n",
      "66/66 [==============================] - 0s 2ms/step - loss: 0.4123 - accuracy: 0.8067 - val_loss: 0.4380 - val_accuracy: 0.7814\n",
      "Epoch 62/100\n",
      "66/66 [==============================] - 0s 2ms/step - loss: 0.4121 - accuracy: 0.8060 - val_loss: 0.4383 - val_accuracy: 0.7814\n",
      "Epoch 63/100\n",
      "66/66 [==============================] - 0s 2ms/step - loss: 0.4121 - accuracy: 0.8060 - val_loss: 0.4385 - val_accuracy: 0.7804\n",
      "Epoch 64/100\n",
      "66/66 [==============================] - 0s 2ms/step - loss: 0.4119 - accuracy: 0.8051 - val_loss: 0.4391 - val_accuracy: 0.7795\n",
      "Epoch 65/100\n",
      "66/66 [==============================] - 0s 2ms/step - loss: 0.4118 - accuracy: 0.8063 - val_loss: 0.4390 - val_accuracy: 0.7795\n",
      "Epoch 66/100\n",
      "66/66 [==============================] - 0s 3ms/step - loss: 0.4118 - accuracy: 0.8058 - val_loss: 0.4390 - val_accuracy: 0.7795\n",
      "Epoch 67/100\n",
      "66/66 [==============================] - 0s 2ms/step - loss: 0.4114 - accuracy: 0.8065 - val_loss: 0.4386 - val_accuracy: 0.7776\n",
      "Epoch 68/100\n",
      "66/66 [==============================] - 0s 2ms/step - loss: 0.4115 - accuracy: 0.8067 - val_loss: 0.4384 - val_accuracy: 0.7776\n",
      "Epoch 69/100\n",
      "66/66 [==============================] - 0s 2ms/step - loss: 0.4113 - accuracy: 0.8060 - val_loss: 0.4388 - val_accuracy: 0.7795\n",
      "Epoch 70/100\n",
      "66/66 [==============================] - 0s 2ms/step - loss: 0.4111 - accuracy: 0.8051 - val_loss: 0.4393 - val_accuracy: 0.7795\n",
      "Epoch 71/100\n",
      "66/66 [==============================] - 0s 2ms/step - loss: 0.4109 - accuracy: 0.8065 - val_loss: 0.4382 - val_accuracy: 0.7823\n",
      "Epoch 72/100\n",
      "66/66 [==============================] - 0s 2ms/step - loss: 0.4110 - accuracy: 0.8063 - val_loss: 0.4379 - val_accuracy: 0.7814\n",
      "Epoch 73/100\n",
      "66/66 [==============================] - 0s 2ms/step - loss: 0.4108 - accuracy: 0.8060 - val_loss: 0.4384 - val_accuracy: 0.7823\n",
      "Epoch 74/100\n",
      "66/66 [==============================] - 0s 2ms/step - loss: 0.4107 - accuracy: 0.8070 - val_loss: 0.4386 - val_accuracy: 0.7804\n",
      "Epoch 75/100\n",
      "66/66 [==============================] - 0s 2ms/step - loss: 0.4104 - accuracy: 0.8063 - val_loss: 0.4379 - val_accuracy: 0.7833\n",
      "Epoch 76/100\n",
      "66/66 [==============================] - 0s 2ms/step - loss: 0.4105 - accuracy: 0.8074 - val_loss: 0.4381 - val_accuracy: 0.7833\n",
      "Epoch 77/100\n",
      "66/66 [==============================] - 0s 2ms/step - loss: 0.4104 - accuracy: 0.8063 - val_loss: 0.4386 - val_accuracy: 0.7823\n",
      "Epoch 78/100\n",
      "66/66 [==============================] - 0s 2ms/step - loss: 0.4103 - accuracy: 0.8067 - val_loss: 0.4380 - val_accuracy: 0.7823\n",
      "Epoch 79/100\n",
      "66/66 [==============================] - 0s 2ms/step - loss: 0.4102 - accuracy: 0.8067 - val_loss: 0.4380 - val_accuracy: 0.7795\n",
      "Epoch 80/100\n",
      "66/66 [==============================] - 0s 2ms/step - loss: 0.4103 - accuracy: 0.8077 - val_loss: 0.4390 - val_accuracy: 0.7814\n",
      "Epoch 81/100\n",
      "66/66 [==============================] - 0s 2ms/step - loss: 0.4102 - accuracy: 0.8067 - val_loss: 0.4377 - val_accuracy: 0.7852\n",
      "Epoch 82/100\n",
      "66/66 [==============================] - 0s 2ms/step - loss: 0.4100 - accuracy: 0.8058 - val_loss: 0.4383 - val_accuracy: 0.7795\n",
      "Epoch 83/100\n",
      "66/66 [==============================] - 0s 2ms/step - loss: 0.4101 - accuracy: 0.8070 - val_loss: 0.4382 - val_accuracy: 0.7823\n",
      "Epoch 84/100\n",
      "66/66 [==============================] - 0s 2ms/step - loss: 0.4097 - accuracy: 0.8063 - val_loss: 0.4385 - val_accuracy: 0.7823\n",
      "Epoch 85/100\n",
      "66/66 [==============================] - 0s 2ms/step - loss: 0.4099 - accuracy: 0.8055 - val_loss: 0.4386 - val_accuracy: 0.7814\n",
      "Epoch 86/100\n",
      "66/66 [==============================] - 0s 2ms/step - loss: 0.4098 - accuracy: 0.8060 - val_loss: 0.4387 - val_accuracy: 0.7804\n",
      "Epoch 87/100\n",
      "66/66 [==============================] - 0s 2ms/step - loss: 0.4096 - accuracy: 0.8053 - val_loss: 0.4388 - val_accuracy: 0.7814\n",
      "Epoch 88/100\n",
      "66/66 [==============================] - 0s 2ms/step - loss: 0.4096 - accuracy: 0.8051 - val_loss: 0.4390 - val_accuracy: 0.7814\n",
      "Epoch 89/100\n",
      "66/66 [==============================] - 0s 2ms/step - loss: 0.4094 - accuracy: 0.8046 - val_loss: 0.4385 - val_accuracy: 0.7823\n",
      "Epoch 90/100\n",
      "66/66 [==============================] - 0s 2ms/step - loss: 0.4095 - accuracy: 0.8051 - val_loss: 0.4391 - val_accuracy: 0.7833\n",
      "Epoch 91/100\n",
      "66/66 [==============================] - 0s 2ms/step - loss: 0.4096 - accuracy: 0.8058 - val_loss: 0.4396 - val_accuracy: 0.7814\n",
      "Epoch 92/100\n",
      "66/66 [==============================] - 0s 2ms/step - loss: 0.4093 - accuracy: 0.8067 - val_loss: 0.4388 - val_accuracy: 0.7823\n",
      "Epoch 93/100\n",
      "66/66 [==============================] - 0s 2ms/step - loss: 0.4092 - accuracy: 0.8058 - val_loss: 0.4385 - val_accuracy: 0.7833\n",
      "Epoch 94/100\n",
      "66/66 [==============================] - 0s 2ms/step - loss: 0.4091 - accuracy: 0.8058 - val_loss: 0.4389 - val_accuracy: 0.7842\n",
      "Epoch 95/100\n",
      "66/66 [==============================] - 0s 2ms/step - loss: 0.4091 - accuracy: 0.8058 - val_loss: 0.4384 - val_accuracy: 0.7852\n",
      "Epoch 96/100\n",
      "66/66 [==============================] - 0s 2ms/step - loss: 0.4090 - accuracy: 0.8060 - val_loss: 0.4391 - val_accuracy: 0.7842\n",
      "Epoch 97/100\n",
      "66/66 [==============================] - 0s 2ms/step - loss: 0.4091 - accuracy: 0.8072 - val_loss: 0.4393 - val_accuracy: 0.7842\n",
      "Epoch 98/100\n",
      "66/66 [==============================] - 0s 2ms/step - loss: 0.4088 - accuracy: 0.8067 - val_loss: 0.4398 - val_accuracy: 0.7852\n",
      "Epoch 99/100\n",
      "66/66 [==============================] - 0s 2ms/step - loss: 0.4089 - accuracy: 0.8077 - val_loss: 0.4389 - val_accuracy: 0.7852\n",
      "Epoch 100/100\n",
      "66/66 [==============================] - 0s 2ms/step - loss: 0.4086 - accuracy: 0.8060 - val_loss: 0.4395 - val_accuracy: 0.7842\n"
     ]
    }
   ],
   "source": [
    "#model1 architecture\n",
    "model1 = Sequential()\n",
    "model1.add(Dense(4, activation = 'relu',input_shape=(26,)))\n",
    "model1.add(Dense(1,activation = 'sigmoid'))\n",
    "\n",
    "model1.compile(loss = 'binary_crossentropy',\n",
    "              optimizer = 'adam',\n",
    "              metrics = ['accuracy'])\n",
    "\n",
    "history = model1.fit(train_dataset, epochs = 100, validation_data=(val_dataset))"
   ]
  },
  {
   "cell_type": "code",
   "execution_count": null,
   "metadata": {},
   "outputs": [
    {
     "data": {
      "text/html": [
       "<div>\n",
       "<style scoped>\n",
       "    .dataframe tbody tr th:only-of-type {\n",
       "        vertical-align: middle;\n",
       "    }\n",
       "\n",
       "    .dataframe tbody tr th {\n",
       "        vertical-align: top;\n",
       "    }\n",
       "\n",
       "    .dataframe thead th {\n",
       "        text-align: right;\n",
       "    }\n",
       "</style>\n",
       "<table border=\"1\" class=\"dataframe\">\n",
       "  <thead>\n",
       "    <tr style=\"text-align: right;\">\n",
       "      <th></th>\n",
       "      <th>loss</th>\n",
       "      <th>accuracy</th>\n",
       "      <th>val_loss</th>\n",
       "      <th>val_accuracy</th>\n",
       "    </tr>\n",
       "  </thead>\n",
       "  <tbody>\n",
       "    <tr>\n",
       "      <th>0</th>\n",
       "      <td>0.711909</td>\n",
       "      <td>0.561819</td>\n",
       "      <td>0.601107</td>\n",
       "      <td>0.645437</td>\n",
       "    </tr>\n",
       "    <tr>\n",
       "      <th>1</th>\n",
       "      <td>0.575135</td>\n",
       "      <td>0.696352</td>\n",
       "      <td>0.525283</td>\n",
       "      <td>0.716730</td>\n",
       "    </tr>\n",
       "    <tr>\n",
       "      <th>2</th>\n",
       "      <td>0.521723</td>\n",
       "      <td>0.738513</td>\n",
       "      <td>0.494861</td>\n",
       "      <td>0.737643</td>\n",
       "    </tr>\n",
       "    <tr>\n",
       "      <th>3</th>\n",
       "      <td>0.495319</td>\n",
       "      <td>0.751540</td>\n",
       "      <td>0.478723</td>\n",
       "      <td>0.744297</td>\n",
       "    </tr>\n",
       "    <tr>\n",
       "      <th>4</th>\n",
       "      <td>0.479090</td>\n",
       "      <td>0.761251</td>\n",
       "      <td>0.468810</td>\n",
       "      <td>0.745247</td>\n",
       "    </tr>\n",
       "  </tbody>\n",
       "</table>\n",
       "</div>"
      ],
      "text/plain": [
       "       loss  accuracy  val_loss  val_accuracy\n",
       "0  0.711909  0.561819  0.601107      0.645437\n",
       "1  0.575135  0.696352  0.525283      0.716730\n",
       "2  0.521723  0.738513  0.494861      0.737643\n",
       "3  0.495319  0.751540  0.478723      0.744297\n",
       "4  0.479090  0.761251  0.468810      0.745247"
      ]
     },
     "execution_count": 156,
     "metadata": {},
     "output_type": "execute_result"
    }
   ],
   "source": [
    "metrics = pd.DataFrame(history.history)\n",
    "metrics.head()"
   ]
  },
  {
   "cell_type": "markdown",
   "metadata": {},
   "source": [
    "I put the evaluation result in metrics data frame to ease my work for the visualization of metrics evaluation"
   ]
  },
  {
   "cell_type": "code",
   "execution_count": null,
   "metadata": {},
   "outputs": [
    {
     "data": {
      "text/plain": [
       "<AxesSubplot:>"
      ]
     },
     "execution_count": 157,
     "metadata": {},
     "output_type": "execute_result"
    },
    {
     "data": {
      "image/png": "[encoded data removed]",
      "text/plain": [
       "<Figure size 432x288 with 1 Axes>"
      ]
     },
     "metadata": {
      "needs_background": "light"
     },
     "output_type": "display_data"
    }
   ],
   "source": [
    "metrics[['loss','val_loss']].plot()"
   ]
  },
  {
   "cell_type": "markdown",
   "metadata": {},
   "source": [
    "the train loss are decreasing convergently to 0.4 but the validation loss are stay away from the train loss. This is indicate an overfitting condition."
   ]
  },
  {
   "cell_type": "code",
   "execution_count": null,
   "metadata": {},
   "outputs": [
    {
     "data": {
      "text/plain": [
       "<AxesSubplot:>"
      ]
     },
     "execution_count": 158,
     "metadata": {},
     "output_type": "execute_result"
    },
    {
     "data": {
      "image/png": "[encoded data removed]",
      "text/plain": [
       "<Figure size 432x288 with 1 Axes>"
      ]
     },
     "metadata": {
      "needs_background": "light"
     },
     "output_type": "display_data"
    }
   ],
   "source": [
    "metrics[['accuracy','val_accuracy']].plot()"
   ]
  },
  {
   "cell_type": "markdown",
   "metadata": {},
   "source": [
    "Same with the loss, the accuracy of train set are increasing convergently to about 0.80 but the validation accuracy are stay away from the train accuracy. The model are overfit."
   ]
  },
  {
   "cell_type": "code",
   "execution_count": null,
   "metadata": {},
   "outputs": [
    {
     "name": "stdout",
     "output_type": "stream",
     "text": [
      "Model: \"sequential_1\"\n",
      "_________________________________________________________________\n",
      " Layer (type)                Output Shape              Param #   \n",
      "=================================================================\n",
      " dense_2 (Dense)             (None, 4)                 108       \n",
      "                                                                 \n",
      " dense_3 (Dense)             (None, 1)                 5         \n",
      "                                                                 \n",
      "=================================================================\n",
      "Total params: 113\n",
      "Trainable params: 113\n",
      "Non-trainable params: 0\n",
      "_________________________________________________________________\n"
     ]
    }
   ],
   "source": [
    "model1.summary()"
   ]
  },
  {
   "cell_type": "markdown",
   "metadata": {},
   "source": [
    "## Model Evaluation for Sequential Model"
   ]
  },
  {
   "cell_type": "code",
   "execution_count": null,
   "metadata": {},
   "outputs": [
    {
     "name": "stdout",
     "output_type": "stream",
     "text": [
      "\n",
      "Evaluate on test data\n",
      "28/28 [==============================] - 0s 1ms/step - loss: 0.4194 - accuracy: 0.8038\n",
      "Test - Loss     :  0.41943860054016113\n",
      "Test - Accuracy :  0.8037542700767517\n"
     ]
    }
   ],
   "source": [
    "print(\"\\nEvaluate on test data\")\n",
    "result = model1.evaluate(test_dataset)\n",
    "print('Test - Loss     : ', result[0])\n",
    "print('Test - Accuracy : ', result[1])"
   ]
  },
  {
   "cell_type": "code",
   "execution_count": null,
   "metadata": {},
   "outputs": [
    {
     "name": "stdout",
     "output_type": "stream",
     "text": [
      "              precision    recall  f1-score   support\n",
      "\n",
      "           0       0.84      0.90      0.87      1279\n",
      "           1       0.68      0.54      0.60       479\n",
      "\n",
      "    accuracy                           0.80      1758\n",
      "   macro avg       0.76      0.72      0.73      1758\n",
      "weighted avg       0.79      0.80      0.80      1758\n",
      "\n"
     ]
    }
   ],
   "source": [
    "y_pred1 = model1.predict(test_dataset)\n",
    "y_pred1 = np.where(y_pred1 > 0.5,1,0)\n",
    "print(classification_report(y_test,y_pred1))"
   ]
  },
  {
   "cell_type": "markdown",
   "metadata": {},
   "source": [
    "from classification report, the imbalanced between two classes are showing big difference. For the customer who stay, the model can predict it better than predicting the churn customer. It indicate the model is lack of studying the churn customer cases if we look at the f1 score for the two classes. But the weightes average is having a good score so although not having a great performa for predicting the churn customer, the model still can predict all classes really well."
   ]
  },
  {
   "cell_type": "markdown",
   "metadata": {},
   "source": [
    "## Functional API Model"
   ]
  },
  {
   "cell_type": "markdown",
   "metadata": {},
   "source": [
    "For functional API model, the hyperparameter that I use are the same with sequential model."
   ]
  },
  {
   "cell_type": "code",
   "execution_count": null,
   "metadata": {},
   "outputs": [
    {
     "name": "stdout",
     "output_type": "stream",
     "text": [
      "Epoch 1/100\n",
      "66/66 [==============================] - 1s 4ms/step - loss: 0.8366 - accuracy: 0.4403 - val_loss: 0.7564 - val_accuracy: 0.4838\n",
      "Epoch 2/100\n",
      "66/66 [==============================] - 0s 2ms/step - loss: 0.6920 - accuracy: 0.6037 - val_loss: 0.6391 - val_accuracy: 0.6730\n",
      "Epoch 3/100\n",
      "66/66 [==============================] - 0s 2ms/step - loss: 0.5947 - accuracy: 0.7120 - val_loss: 0.5618 - val_accuracy: 0.7319\n",
      "Epoch 4/100\n",
      "66/66 [==============================] - 0s 2ms/step - loss: 0.5343 - accuracy: 0.7537 - val_loss: 0.5169 - val_accuracy: 0.7510\n",
      "Epoch 5/100\n",
      "66/66 [==============================] - 0s 2ms/step - loss: 0.4983 - accuracy: 0.7676 - val_loss: 0.4897 - val_accuracy: 0.7548\n",
      "Epoch 6/100\n",
      "66/66 [==============================] - 0s 2ms/step - loss: 0.4765 - accuracy: 0.7766 - val_loss: 0.4739 - val_accuracy: 0.7624\n",
      "Epoch 7/100\n",
      "66/66 [==============================] - 0s 2ms/step - loss: 0.4629 - accuracy: 0.7793 - val_loss: 0.4630 - val_accuracy: 0.7633\n",
      "Epoch 8/100\n",
      "66/66 [==============================] - 0s 2ms/step - loss: 0.4534 - accuracy: 0.7835 - val_loss: 0.4549 - val_accuracy: 0.7690\n",
      "Epoch 9/100\n",
      "66/66 [==============================] - 0s 2ms/step - loss: 0.4469 - accuracy: 0.7880 - val_loss: 0.4498 - val_accuracy: 0.7681\n",
      "Epoch 10/100\n",
      "66/66 [==============================] - 0s 2ms/step - loss: 0.4420 - accuracy: 0.7883 - val_loss: 0.4457 - val_accuracy: 0.7738\n",
      "Epoch 11/100\n",
      "66/66 [==============================] - 0s 2ms/step - loss: 0.4384 - accuracy: 0.7918 - val_loss: 0.4427 - val_accuracy: 0.7842\n",
      "Epoch 12/100\n",
      "66/66 [==============================] - 0s 2ms/step - loss: 0.4359 - accuracy: 0.7930 - val_loss: 0.4405 - val_accuracy: 0.7852\n",
      "Epoch 13/100\n",
      "66/66 [==============================] - 0s 2ms/step - loss: 0.4338 - accuracy: 0.7925 - val_loss: 0.4391 - val_accuracy: 0.7842\n",
      "Epoch 14/100\n",
      "66/66 [==============================] - 0s 2ms/step - loss: 0.4322 - accuracy: 0.7925 - val_loss: 0.4378 - val_accuracy: 0.7861\n",
      "Epoch 15/100\n",
      "66/66 [==============================] - 0s 2ms/step - loss: 0.4311 - accuracy: 0.7918 - val_loss: 0.4369 - val_accuracy: 0.7861\n",
      "Epoch 16/100\n",
      "66/66 [==============================] - 0s 2ms/step - loss: 0.4299 - accuracy: 0.7930 - val_loss: 0.4360 - val_accuracy: 0.7833\n",
      "Epoch 17/100\n",
      "66/66 [==============================] - 0s 2ms/step - loss: 0.4293 - accuracy: 0.7937 - val_loss: 0.4354 - val_accuracy: 0.7852\n",
      "Epoch 18/100\n",
      "66/66 [==============================] - 0s 2ms/step - loss: 0.4285 - accuracy: 0.7949 - val_loss: 0.4347 - val_accuracy: 0.7852\n",
      "Epoch 19/100\n",
      "66/66 [==============================] - 0s 2ms/step - loss: 0.4280 - accuracy: 0.7930 - val_loss: 0.4340 - val_accuracy: 0.7842\n",
      "Epoch 20/100\n",
      "66/66 [==============================] - 0s 2ms/step - loss: 0.4274 - accuracy: 0.7935 - val_loss: 0.4340 - val_accuracy: 0.7823\n",
      "Epoch 21/100\n",
      "66/66 [==============================] - 0s 2ms/step - loss: 0.4268 - accuracy: 0.7923 - val_loss: 0.4334 - val_accuracy: 0.7842\n",
      "Epoch 22/100\n",
      "66/66 [==============================] - 0s 2ms/step - loss: 0.4264 - accuracy: 0.7928 - val_loss: 0.4335 - val_accuracy: 0.7833\n",
      "Epoch 23/100\n",
      "66/66 [==============================] - 0s 2ms/step - loss: 0.4260 - accuracy: 0.7939 - val_loss: 0.4333 - val_accuracy: 0.7871\n",
      "Epoch 24/100\n",
      "66/66 [==============================] - 0s 1ms/step - loss: 0.4255 - accuracy: 0.7932 - val_loss: 0.4327 - val_accuracy: 0.7880\n",
      "Epoch 25/100\n",
      "66/66 [==============================] - 0s 1ms/step - loss: 0.4251 - accuracy: 0.7942 - val_loss: 0.4327 - val_accuracy: 0.7861\n",
      "Epoch 26/100\n",
      "66/66 [==============================] - 0s 2ms/step - loss: 0.4247 - accuracy: 0.7949 - val_loss: 0.4326 - val_accuracy: 0.7871\n",
      "Epoch 27/100\n",
      "66/66 [==============================] - 0s 2ms/step - loss: 0.4247 - accuracy: 0.7946 - val_loss: 0.4326 - val_accuracy: 0.7890\n",
      "Epoch 28/100\n",
      "66/66 [==============================] - 0s 2ms/step - loss: 0.4240 - accuracy: 0.7956 - val_loss: 0.4324 - val_accuracy: 0.7890\n",
      "Epoch 29/100\n",
      "66/66 [==============================] - 0s 2ms/step - loss: 0.4237 - accuracy: 0.7954 - val_loss: 0.4323 - val_accuracy: 0.7890\n",
      "Epoch 30/100\n",
      "66/66 [==============================] - 0s 2ms/step - loss: 0.4233 - accuracy: 0.7954 - val_loss: 0.4322 - val_accuracy: 0.7890\n",
      "Epoch 31/100\n",
      "66/66 [==============================] - 0s 2ms/step - loss: 0.4228 - accuracy: 0.7961 - val_loss: 0.4326 - val_accuracy: 0.7890\n",
      "Epoch 32/100\n",
      "66/66 [==============================] - 0s 2ms/step - loss: 0.4225 - accuracy: 0.7961 - val_loss: 0.4321 - val_accuracy: 0.7871\n",
      "Epoch 33/100\n",
      "66/66 [==============================] - 0s 1ms/step - loss: 0.4221 - accuracy: 0.7951 - val_loss: 0.4324 - val_accuracy: 0.7880\n",
      "Epoch 34/100\n",
      "66/66 [==============================] - 0s 2ms/step - loss: 0.4217 - accuracy: 0.7958 - val_loss: 0.4323 - val_accuracy: 0.7871\n",
      "Epoch 35/100\n",
      "66/66 [==============================] - 0s 2ms/step - loss: 0.4212 - accuracy: 0.7977 - val_loss: 0.4314 - val_accuracy: 0.7899\n",
      "Epoch 36/100\n",
      "66/66 [==============================] - 0s 2ms/step - loss: 0.4206 - accuracy: 0.7970 - val_loss: 0.4315 - val_accuracy: 0.7899\n",
      "Epoch 37/100\n",
      "66/66 [==============================] - 0s 2ms/step - loss: 0.4201 - accuracy: 0.7970 - val_loss: 0.4311 - val_accuracy: 0.7918\n",
      "Epoch 38/100\n",
      "66/66 [==============================] - 0s 2ms/step - loss: 0.4196 - accuracy: 0.7975 - val_loss: 0.4312 - val_accuracy: 0.7937\n",
      "Epoch 39/100\n",
      "66/66 [==============================] - 0s 2ms/step - loss: 0.4190 - accuracy: 0.7989 - val_loss: 0.4311 - val_accuracy: 0.7937\n",
      "Epoch 40/100\n",
      "66/66 [==============================] - 0s 2ms/step - loss: 0.4185 - accuracy: 0.7987 - val_loss: 0.4311 - val_accuracy: 0.7928\n",
      "Epoch 41/100\n",
      "66/66 [==============================] - 0s 2ms/step - loss: 0.4179 - accuracy: 0.7989 - val_loss: 0.4306 - val_accuracy: 0.7937\n",
      "Epoch 42/100\n",
      "66/66 [==============================] - 0s 2ms/step - loss: 0.4176 - accuracy: 0.7996 - val_loss: 0.4304 - val_accuracy: 0.7966\n",
      "Epoch 43/100\n",
      "66/66 [==============================] - 0s 2ms/step - loss: 0.4171 - accuracy: 0.7996 - val_loss: 0.4305 - val_accuracy: 0.7937\n",
      "Epoch 44/100\n",
      "66/66 [==============================] - 0s 2ms/step - loss: 0.4166 - accuracy: 0.8010 - val_loss: 0.4305 - val_accuracy: 0.7966\n",
      "Epoch 45/100\n",
      "66/66 [==============================] - 0s 2ms/step - loss: 0.4163 - accuracy: 0.8008 - val_loss: 0.4310 - val_accuracy: 0.7947\n",
      "Epoch 46/100\n",
      "66/66 [==============================] - 0s 2ms/step - loss: 0.4160 - accuracy: 0.8020 - val_loss: 0.4303 - val_accuracy: 0.7937\n",
      "Epoch 47/100\n",
      "66/66 [==============================] - 0s 3ms/step - loss: 0.4158 - accuracy: 0.8027 - val_loss: 0.4304 - val_accuracy: 0.7928\n",
      "Epoch 48/100\n",
      "66/66 [==============================] - 0s 2ms/step - loss: 0.4155 - accuracy: 0.8032 - val_loss: 0.4305 - val_accuracy: 0.7928\n",
      "Epoch 49/100\n",
      "66/66 [==============================] - 0s 2ms/step - loss: 0.4151 - accuracy: 0.8020 - val_loss: 0.4309 - val_accuracy: 0.7937\n",
      "Epoch 50/100\n",
      "66/66 [==============================] - 0s 2ms/step - loss: 0.4149 - accuracy: 0.8010 - val_loss: 0.4303 - val_accuracy: 0.7918\n",
      "Epoch 51/100\n",
      "66/66 [==============================] - 0s 2ms/step - loss: 0.4149 - accuracy: 0.8015 - val_loss: 0.4310 - val_accuracy: 0.7918\n",
      "Epoch 52/100\n",
      "66/66 [==============================] - 0s 2ms/step - loss: 0.4145 - accuracy: 0.8018 - val_loss: 0.4304 - val_accuracy: 0.7918\n",
      "Epoch 53/100\n",
      "66/66 [==============================] - 0s 2ms/step - loss: 0.4143 - accuracy: 0.8015 - val_loss: 0.4303 - val_accuracy: 0.7928\n",
      "Epoch 54/100\n",
      "66/66 [==============================] - 0s 2ms/step - loss: 0.4142 - accuracy: 0.8015 - val_loss: 0.4304 - val_accuracy: 0.7918\n",
      "Epoch 55/100\n",
      "66/66 [==============================] - 0s 2ms/step - loss: 0.4140 - accuracy: 0.8025 - val_loss: 0.4304 - val_accuracy: 0.7909\n",
      "Epoch 56/100\n",
      "66/66 [==============================] - 0s 2ms/step - loss: 0.4138 - accuracy: 0.8001 - val_loss: 0.4305 - val_accuracy: 0.7918\n",
      "Epoch 57/100\n",
      "66/66 [==============================] - 0s 2ms/step - loss: 0.4136 - accuracy: 0.8008 - val_loss: 0.4307 - val_accuracy: 0.7928\n",
      "Epoch 58/100\n",
      "66/66 [==============================] - 0s 2ms/step - loss: 0.4135 - accuracy: 0.8013 - val_loss: 0.4308 - val_accuracy: 0.7909\n",
      "Epoch 59/100\n",
      "66/66 [==============================] - 0s 2ms/step - loss: 0.4132 - accuracy: 0.8020 - val_loss: 0.4302 - val_accuracy: 0.7918\n",
      "Epoch 60/100\n",
      "66/66 [==============================] - 0s 2ms/step - loss: 0.4131 - accuracy: 0.8020 - val_loss: 0.4304 - val_accuracy: 0.7909\n",
      "Epoch 61/100\n",
      "66/66 [==============================] - 0s 2ms/step - loss: 0.4131 - accuracy: 0.8015 - val_loss: 0.4307 - val_accuracy: 0.7909\n",
      "Epoch 62/100\n",
      "66/66 [==============================] - 0s 2ms/step - loss: 0.4128 - accuracy: 0.8018 - val_loss: 0.4307 - val_accuracy: 0.7909\n",
      "Epoch 63/100\n",
      "66/66 [==============================] - 0s 2ms/step - loss: 0.4126 - accuracy: 0.8020 - val_loss: 0.4306 - val_accuracy: 0.7918\n",
      "Epoch 64/100\n",
      "66/66 [==============================] - 0s 2ms/step - loss: 0.4125 - accuracy: 0.8018 - val_loss: 0.4305 - val_accuracy: 0.7918\n",
      "Epoch 65/100\n",
      "66/66 [==============================] - 0s 2ms/step - loss: 0.4123 - accuracy: 0.8018 - val_loss: 0.4311 - val_accuracy: 0.7928\n",
      "Epoch 66/100\n",
      "66/66 [==============================] - 0s 2ms/step - loss: 0.4123 - accuracy: 0.8025 - val_loss: 0.4306 - val_accuracy: 0.7918\n",
      "Epoch 67/100\n",
      "66/66 [==============================] - 0s 2ms/step - loss: 0.4121 - accuracy: 0.8022 - val_loss: 0.4312 - val_accuracy: 0.7928\n",
      "Epoch 68/100\n",
      "66/66 [==============================] - 0s 2ms/step - loss: 0.4119 - accuracy: 0.8018 - val_loss: 0.4311 - val_accuracy: 0.7909\n",
      "Epoch 69/100\n",
      "66/66 [==============================] - 0s 2ms/step - loss: 0.4121 - accuracy: 0.8013 - val_loss: 0.4311 - val_accuracy: 0.7918\n",
      "Epoch 70/100\n",
      "66/66 [==============================] - 0s 1ms/step - loss: 0.4117 - accuracy: 0.8025 - val_loss: 0.4314 - val_accuracy: 0.7928\n",
      "Epoch 71/100\n",
      "66/66 [==============================] - 0s 2ms/step - loss: 0.4117 - accuracy: 0.8027 - val_loss: 0.4312 - val_accuracy: 0.7918\n",
      "Epoch 72/100\n",
      "66/66 [==============================] - 0s 2ms/step - loss: 0.4115 - accuracy: 0.8013 - val_loss: 0.4316 - val_accuracy: 0.7928\n",
      "Epoch 73/100\n",
      "66/66 [==============================] - 0s 2ms/step - loss: 0.4114 - accuracy: 0.8034 - val_loss: 0.4307 - val_accuracy: 0.7918\n",
      "Epoch 74/100\n",
      "66/66 [==============================] - 0s 1ms/step - loss: 0.4112 - accuracy: 0.8018 - val_loss: 0.4318 - val_accuracy: 0.7928\n",
      "Epoch 75/100\n",
      "66/66 [==============================] - 0s 1ms/step - loss: 0.4111 - accuracy: 0.8027 - val_loss: 0.4315 - val_accuracy: 0.7928\n",
      "Epoch 76/100\n",
      "66/66 [==============================] - 0s 2ms/step - loss: 0.4111 - accuracy: 0.8041 - val_loss: 0.4315 - val_accuracy: 0.7937\n",
      "Epoch 77/100\n",
      "66/66 [==============================] - 0s 2ms/step - loss: 0.4111 - accuracy: 0.8034 - val_loss: 0.4313 - val_accuracy: 0.7956\n",
      "Epoch 78/100\n",
      "66/66 [==============================] - 0s 2ms/step - loss: 0.4108 - accuracy: 0.8039 - val_loss: 0.4318 - val_accuracy: 0.7937\n",
      "Epoch 79/100\n",
      "66/66 [==============================] - 0s 2ms/step - loss: 0.4107 - accuracy: 0.8027 - val_loss: 0.4316 - val_accuracy: 0.7947\n",
      "Epoch 80/100\n",
      "66/66 [==============================] - 0s 2ms/step - loss: 0.4107 - accuracy: 0.8025 - val_loss: 0.4320 - val_accuracy: 0.7937\n",
      "Epoch 81/100\n",
      "66/66 [==============================] - 0s 2ms/step - loss: 0.4107 - accuracy: 0.8027 - val_loss: 0.4322 - val_accuracy: 0.7947\n",
      "Epoch 82/100\n",
      "66/66 [==============================] - 0s 2ms/step - loss: 0.4105 - accuracy: 0.8032 - val_loss: 0.4321 - val_accuracy: 0.7956\n",
      "Epoch 83/100\n",
      "66/66 [==============================] - 0s 2ms/step - loss: 0.4105 - accuracy: 0.8029 - val_loss: 0.4320 - val_accuracy: 0.7956\n",
      "Epoch 84/100\n",
      "66/66 [==============================] - 0s 2ms/step - loss: 0.4103 - accuracy: 0.8036 - val_loss: 0.4317 - val_accuracy: 0.7956\n",
      "Epoch 85/100\n",
      "66/66 [==============================] - 0s 2ms/step - loss: 0.4103 - accuracy: 0.8041 - val_loss: 0.4321 - val_accuracy: 0.7947\n",
      "Epoch 86/100\n",
      "66/66 [==============================] - 0s 2ms/step - loss: 0.4102 - accuracy: 0.8034 - val_loss: 0.4324 - val_accuracy: 0.7928\n",
      "Epoch 87/100\n",
      "66/66 [==============================] - 0s 2ms/step - loss: 0.4101 - accuracy: 0.8029 - val_loss: 0.4322 - val_accuracy: 0.7947\n",
      "Epoch 88/100\n",
      "66/66 [==============================] - 0s 2ms/step - loss: 0.4099 - accuracy: 0.8032 - val_loss: 0.4318 - val_accuracy: 0.7947\n",
      "Epoch 89/100\n",
      "66/66 [==============================] - 0s 2ms/step - loss: 0.4098 - accuracy: 0.8025 - val_loss: 0.4322 - val_accuracy: 0.7947\n",
      "Epoch 90/100\n",
      "66/66 [==============================] - 0s 2ms/step - loss: 0.4097 - accuracy: 0.8034 - val_loss: 0.4328 - val_accuracy: 0.7956\n",
      "Epoch 91/100\n",
      "66/66 [==============================] - 0s 2ms/step - loss: 0.4098 - accuracy: 0.8022 - val_loss: 0.4330 - val_accuracy: 0.7928\n",
      "Epoch 92/100\n",
      "66/66 [==============================] - 0s 2ms/step - loss: 0.4097 - accuracy: 0.8034 - val_loss: 0.4328 - val_accuracy: 0.7937\n",
      "Epoch 93/100\n",
      "66/66 [==============================] - 0s 2ms/step - loss: 0.4096 - accuracy: 0.8022 - val_loss: 0.4326 - val_accuracy: 0.7947\n",
      "Epoch 94/100\n",
      "66/66 [==============================] - 0s 2ms/step - loss: 0.4095 - accuracy: 0.8044 - val_loss: 0.4324 - val_accuracy: 0.7937\n",
      "Epoch 95/100\n",
      "66/66 [==============================] - 0s 2ms/step - loss: 0.4093 - accuracy: 0.8039 - val_loss: 0.4325 - val_accuracy: 0.7937\n",
      "Epoch 96/100\n",
      "66/66 [==============================] - 0s 2ms/step - loss: 0.4093 - accuracy: 0.8053 - val_loss: 0.4325 - val_accuracy: 0.7937\n",
      "Epoch 97/100\n",
      "66/66 [==============================] - 0s 2ms/step - loss: 0.4091 - accuracy: 0.8041 - val_loss: 0.4329 - val_accuracy: 0.7937\n",
      "Epoch 98/100\n",
      "66/66 [==============================] - 0s 2ms/step - loss: 0.4092 - accuracy: 0.8032 - val_loss: 0.4331 - val_accuracy: 0.7928\n",
      "Epoch 99/100\n",
      "66/66 [==============================] - 0s 2ms/step - loss: 0.4091 - accuracy: 0.8051 - val_loss: 0.4329 - val_accuracy: 0.7928\n",
      "Epoch 100/100\n",
      "66/66 [==============================] - 0s 2ms/step - loss: 0.4089 - accuracy: 0.8039 - val_loss: 0.4332 - val_accuracy: 0.7928\n"
     ]
    }
   ],
   "source": [
    "inp = Input(shape=(26,))\n",
    "hid1 = Dense(4,activation='relu')(inp) \n",
    "out = Dense(1, activation='sigmoid')(hid1)\n",
    "\n",
    "model2 = Model(inputs=inp, outputs=out)\n",
    "model2.compile(loss  = 'binary_crossentropy',\n",
    "            optimizer = 'adam',\n",
    "            metrics = ['accuracy'])\n",
    "\n",
    "history2 = model2.fit(train_dataset, epochs=100, validation_data = (val_dataset))"
   ]
  },
  {
   "cell_type": "markdown",
   "metadata": {},
   "source": [
    "## Model Evaluation for Functional API"
   ]
  },
  {
   "cell_type": "code",
   "execution_count": null,
   "metadata": {},
   "outputs": [
    {
     "name": "stdout",
     "output_type": "stream",
     "text": [
      "\n",
      "Test Evaluation\n",
      "28/28 [==============================] - 0s 927us/step - loss: 0.4103 - accuracy: 0.8072\n",
      "Test - Loss     :  0.41026195883750916\n",
      "Test - Accuracy :  0.8071672320365906\n"
     ]
    }
   ],
   "source": [
    "print(\"\\nTest Evaluation\")\n",
    "result2 = model2.evaluate(test_dataset)\n",
    "print('Test - Loss     : ', result2[0])\n",
    "print('Test - Accuracy : ', result2[1])"
   ]
  },
  {
   "cell_type": "code",
   "execution_count": null,
   "metadata": {},
   "outputs": [
    {
     "data": {
      "text/html": [
       "<div>\n",
       "<style scoped>\n",
       "    .dataframe tbody tr th:only-of-type {\n",
       "        vertical-align: middle;\n",
       "    }\n",
       "\n",
       "    .dataframe tbody tr th {\n",
       "        vertical-align: top;\n",
       "    }\n",
       "\n",
       "    .dataframe thead th {\n",
       "        text-align: right;\n",
       "    }\n",
       "</style>\n",
       "<table border=\"1\" class=\"dataframe\">\n",
       "  <thead>\n",
       "    <tr style=\"text-align: right;\">\n",
       "      <th></th>\n",
       "      <th>loss</th>\n",
       "      <th>accuracy</th>\n",
       "      <th>val_loss</th>\n",
       "      <th>val_accuracy</th>\n",
       "    </tr>\n",
       "  </thead>\n",
       "  <tbody>\n",
       "    <tr>\n",
       "      <th>0</th>\n",
       "      <td>0.836617</td>\n",
       "      <td>0.440313</td>\n",
       "      <td>0.756407</td>\n",
       "      <td>0.483840</td>\n",
       "    </tr>\n",
       "    <tr>\n",
       "      <th>1</th>\n",
       "      <td>0.691997</td>\n",
       "      <td>0.603742</td>\n",
       "      <td>0.639127</td>\n",
       "      <td>0.673004</td>\n",
       "    </tr>\n",
       "    <tr>\n",
       "      <th>2</th>\n",
       "      <td>0.594736</td>\n",
       "      <td>0.711985</td>\n",
       "      <td>0.561808</td>\n",
       "      <td>0.731939</td>\n",
       "    </tr>\n",
       "    <tr>\n",
       "      <th>3</th>\n",
       "      <td>0.534274</td>\n",
       "      <td>0.753671</td>\n",
       "      <td>0.516884</td>\n",
       "      <td>0.750951</td>\n",
       "    </tr>\n",
       "    <tr>\n",
       "      <th>4</th>\n",
       "      <td>0.498329</td>\n",
       "      <td>0.767646</td>\n",
       "      <td>0.489713</td>\n",
       "      <td>0.754753</td>\n",
       "    </tr>\n",
       "  </tbody>\n",
       "</table>\n",
       "</div>"
      ],
      "text/plain": [
       "       loss  accuracy  val_loss  val_accuracy\n",
       "0  0.836617  0.440313  0.756407      0.483840\n",
       "1  0.691997  0.603742  0.639127      0.673004\n",
       "2  0.594736  0.711985  0.561808      0.731939\n",
       "3  0.534274  0.753671  0.516884      0.750951\n",
       "4  0.498329  0.767646  0.489713      0.754753"
      ]
     },
     "execution_count": 164,
     "metadata": {},
     "output_type": "execute_result"
    }
   ],
   "source": [
    "metrics_fun = pd.DataFrame(history2.history)\n",
    "metrics_fun.head()"
   ]
  },
  {
   "cell_type": "code",
   "execution_count": null,
   "metadata": {},
   "outputs": [
    {
     "data": {
      "text/plain": [
       "<AxesSubplot:>"
      ]
     },
     "execution_count": 165,
     "metadata": {},
     "output_type": "execute_result"
    },
    {
     "data": {
      "image/png": "[encoded data removed]",
      "text/plain": [
       "<Figure size 432x288 with 1 Axes>"
      ]
     },
     "metadata": {
      "needs_background": "light"
     },
     "output_type": "display_data"
    }
   ],
   "source": [
    "metrics_fun[['accuracy','val_accuracy']].plot()"
   ]
  },
  {
   "cell_type": "code",
   "execution_count": null,
   "metadata": {},
   "outputs": [
    {
     "data": {
      "text/plain": [
       "<AxesSubplot:>"
      ]
     },
     "execution_count": 166,
     "metadata": {},
     "output_type": "execute_result"
    },
    {
     "data": {
      "image/png": "[encoded data removed]",
      "text/plain": [
       "<Figure size 432x288 with 1 Axes>"
      ]
     },
     "metadata": {
      "needs_background": "light"
     },
     "output_type": "display_data"
    }
   ],
   "source": [
    "metrics_fun[['loss','val_loss']].plot()"
   ]
  },
  {
   "cell_type": "markdown",
   "metadata": {},
   "source": [
    "The evaluation of model indicates that the model is overfitting but getting better result than sequential model. It seems that the loss are under 0.45 just like the sequential model. The graphic shows stagnan validation in 0.45 (also the same with sequential model). But the accuracy is convergent to a number under 0.80, and more convergent than the sequential model."
   ]
  },
  {
   "cell_type": "code",
   "execution_count": null,
   "metadata": {},
   "outputs": [
    {
     "name": "stdout",
     "output_type": "stream",
     "text": [
      "              precision    recall  f1-score   support\n",
      "\n",
      "           0       0.84      0.90      0.87      1279\n",
      "           1       0.68      0.55      0.61       479\n",
      "\n",
      "    accuracy                           0.81      1758\n",
      "   macro avg       0.76      0.73      0.74      1758\n",
      "weighted avg       0.80      0.81      0.80      1758\n",
      "\n"
     ]
    }
   ],
   "source": [
    "y_pred2 = model2.predict(test_dataset)\n",
    "y_pred2 = np.where(y_pred2>0.5,1,0)\n",
    "print(classification_report(y_test,y_pred2))"
   ]
  },
  {
   "cell_type": "markdown",
   "metadata": {},
   "source": [
    "The result for classification report shows that the accuracy increase 1% than before. "
   ]
  },
  {
   "cell_type": "markdown",
   "metadata": {},
   "source": [
    "# Model Improvement"
   ]
  },
  {
   "cell_type": "markdown",
   "metadata": {},
   "source": [
    "Functional API model looks like it has a better result, but there's a lot to discover to get the best model."
   ]
  },
  {
   "cell_type": "markdown",
   "metadata": {},
   "source": [
    "## Improvement 1"
   ]
  },
  {
   "cell_type": "markdown",
   "metadata": {},
   "source": [
    "In this improvement, I will try to change the number of neuron first. The neuron that I choose is smaller than before."
   ]
  },
  {
   "cell_type": "code",
   "execution_count": null,
   "metadata": {},
   "outputs": [
    {
     "name": "stdout",
     "output_type": "stream",
     "text": [
      "Epoch 1/100\n",
      "66/66 [==============================] - 1s 5ms/step - loss: 0.8651 - accuracy: 0.5561 - val_loss: 0.7796 - val_accuracy: 0.5970\n",
      "Epoch 2/100\n",
      "66/66 [==============================] - 0s 2ms/step - loss: 0.7284 - accuracy: 0.6272 - val_loss: 0.6734 - val_accuracy: 0.6616\n",
      "Epoch 3/100\n",
      "66/66 [==============================] - 0s 2ms/step - loss: 0.6440 - accuracy: 0.6805 - val_loss: 0.6094 - val_accuracy: 0.6977\n",
      "Epoch 4/100\n",
      "66/66 [==============================] - 0s 2ms/step - loss: 0.5892 - accuracy: 0.7127 - val_loss: 0.5676 - val_accuracy: 0.7139\n",
      "Epoch 5/100\n",
      "66/66 [==============================] - 0s 2ms/step - loss: 0.5516 - accuracy: 0.7295 - val_loss: 0.5391 - val_accuracy: 0.7215\n",
      "Epoch 6/100\n",
      "66/66 [==============================] - 0s 2ms/step - loss: 0.5234 - accuracy: 0.7402 - val_loss: 0.5163 - val_accuracy: 0.7310\n",
      "Epoch 7/100\n",
      "66/66 [==============================] - 0s 3ms/step - loss: 0.4997 - accuracy: 0.7534 - val_loss: 0.4962 - val_accuracy: 0.7386\n",
      "Epoch 8/100\n",
      "66/66 [==============================] - 0s 3ms/step - loss: 0.4806 - accuracy: 0.7686 - val_loss: 0.4810 - val_accuracy: 0.7567\n",
      "Epoch 9/100\n",
      "66/66 [==============================] - 0s 3ms/step - loss: 0.4667 - accuracy: 0.7790 - val_loss: 0.4700 - val_accuracy: 0.7719\n",
      "Epoch 10/100\n",
      "66/66 [==============================] - 0s 2ms/step - loss: 0.4564 - accuracy: 0.7835 - val_loss: 0.4618 - val_accuracy: 0.7719\n",
      "Epoch 11/100\n",
      "66/66 [==============================] - 0s 2ms/step - loss: 0.4490 - accuracy: 0.7887 - val_loss: 0.4549 - val_accuracy: 0.7747\n",
      "Epoch 12/100\n",
      "66/66 [==============================] - 0s 2ms/step - loss: 0.4431 - accuracy: 0.7916 - val_loss: 0.4498 - val_accuracy: 0.7804\n",
      "Epoch 13/100\n",
      "66/66 [==============================] - 0s 2ms/step - loss: 0.4382 - accuracy: 0.7951 - val_loss: 0.4457 - val_accuracy: 0.7842\n",
      "Epoch 14/100\n",
      "66/66 [==============================] - 0s 3ms/step - loss: 0.4344 - accuracy: 0.7951 - val_loss: 0.4419 - val_accuracy: 0.7852\n",
      "Epoch 15/100\n",
      "66/66 [==============================] - 0s 2ms/step - loss: 0.4312 - accuracy: 0.7951 - val_loss: 0.4389 - val_accuracy: 0.7852\n",
      "Epoch 16/100\n",
      "66/66 [==============================] - 0s 2ms/step - loss: 0.4285 - accuracy: 0.7975 - val_loss: 0.4365 - val_accuracy: 0.7899\n",
      "Epoch 17/100\n",
      "66/66 [==============================] - 0s 2ms/step - loss: 0.4265 - accuracy: 0.7999 - val_loss: 0.4343 - val_accuracy: 0.7871\n",
      "Epoch 18/100\n",
      "66/66 [==============================] - 0s 3ms/step - loss: 0.4248 - accuracy: 0.8003 - val_loss: 0.4330 - val_accuracy: 0.7909\n",
      "Epoch 19/100\n",
      "66/66 [==============================] - 0s 2ms/step - loss: 0.4233 - accuracy: 0.8010 - val_loss: 0.4314 - val_accuracy: 0.7947\n",
      "Epoch 20/100\n",
      "66/66 [==============================] - 0s 2ms/step - loss: 0.4222 - accuracy: 0.8008 - val_loss: 0.4307 - val_accuracy: 0.7909\n",
      "Epoch 21/100\n",
      "66/66 [==============================] - 0s 2ms/step - loss: 0.4211 - accuracy: 0.8020 - val_loss: 0.4300 - val_accuracy: 0.7890\n",
      "Epoch 22/100\n",
      "66/66 [==============================] - 0s 2ms/step - loss: 0.4202 - accuracy: 0.8032 - val_loss: 0.4291 - val_accuracy: 0.7899\n",
      "Epoch 23/100\n",
      "66/66 [==============================] - 0s 2ms/step - loss: 0.4193 - accuracy: 0.8029 - val_loss: 0.4289 - val_accuracy: 0.7947\n",
      "Epoch 24/100\n",
      "66/66 [==============================] - 0s 3ms/step - loss: 0.4185 - accuracy: 0.8034 - val_loss: 0.4281 - val_accuracy: 0.7937\n",
      "Epoch 25/100\n",
      "66/66 [==============================] - 0s 5ms/step - loss: 0.4179 - accuracy: 0.8032 - val_loss: 0.4280 - val_accuracy: 0.7956\n",
      "Epoch 26/100\n",
      "66/66 [==============================] - 0s 2ms/step - loss: 0.4174 - accuracy: 0.8039 - val_loss: 0.4281 - val_accuracy: 0.7947\n",
      "Epoch 27/100\n",
      "66/66 [==============================] - 0s 2ms/step - loss: 0.4171 - accuracy: 0.8034 - val_loss: 0.4275 - val_accuracy: 0.7947\n",
      "Epoch 28/100\n",
      "66/66 [==============================] - 0s 3ms/step - loss: 0.4168 - accuracy: 0.8027 - val_loss: 0.4269 - val_accuracy: 0.7937\n",
      "Epoch 29/100\n",
      "66/66 [==============================] - 0s 2ms/step - loss: 0.4163 - accuracy: 0.8027 - val_loss: 0.4271 - val_accuracy: 0.7966\n",
      "Epoch 30/100\n",
      "66/66 [==============================] - 0s 2ms/step - loss: 0.4161 - accuracy: 0.8039 - val_loss: 0.4271 - val_accuracy: 0.7966\n",
      "Epoch 31/100\n",
      "66/66 [==============================] - 0s 2ms/step - loss: 0.4156 - accuracy: 0.8039 - val_loss: 0.4273 - val_accuracy: 0.7947\n",
      "Epoch 32/100\n",
      "66/66 [==============================] - 0s 3ms/step - loss: 0.4155 - accuracy: 0.8048 - val_loss: 0.4270 - val_accuracy: 0.7966\n",
      "Epoch 33/100\n",
      "66/66 [==============================] - 0s 2ms/step - loss: 0.4151 - accuracy: 0.8032 - val_loss: 0.4275 - val_accuracy: 0.7956\n",
      "Epoch 34/100\n",
      "66/66 [==============================] - 0s 2ms/step - loss: 0.4150 - accuracy: 0.8041 - val_loss: 0.4272 - val_accuracy: 0.7947\n",
      "Epoch 35/100\n",
      "66/66 [==============================] - 0s 2ms/step - loss: 0.4151 - accuracy: 0.8055 - val_loss: 0.4275 - val_accuracy: 0.7947\n",
      "Epoch 36/100\n",
      "66/66 [==============================] - 0s 2ms/step - loss: 0.4148 - accuracy: 0.8029 - val_loss: 0.4269 - val_accuracy: 0.7956\n",
      "Epoch 37/100\n",
      "66/66 [==============================] - 0s 3ms/step - loss: 0.4145 - accuracy: 0.8041 - val_loss: 0.4275 - val_accuracy: 0.7937\n",
      "Epoch 38/100\n",
      "66/66 [==============================] - 0s 3ms/step - loss: 0.4142 - accuracy: 0.8034 - val_loss: 0.4271 - val_accuracy: 0.7956\n",
      "Epoch 39/100\n",
      "66/66 [==============================] - 0s 3ms/step - loss: 0.4140 - accuracy: 0.8039 - val_loss: 0.4267 - val_accuracy: 0.7966\n",
      "Epoch 40/100\n",
      "66/66 [==============================] - 0s 3ms/step - loss: 0.4138 - accuracy: 0.8036 - val_loss: 0.4263 - val_accuracy: 0.7966\n",
      "Epoch 41/100\n",
      "66/66 [==============================] - 0s 3ms/step - loss: 0.4135 - accuracy: 0.8032 - val_loss: 0.4266 - val_accuracy: 0.7966\n",
      "Epoch 42/100\n",
      "66/66 [==============================] - 0s 2ms/step - loss: 0.4135 - accuracy: 0.8032 - val_loss: 0.4264 - val_accuracy: 0.7966\n",
      "Epoch 43/100\n",
      "66/66 [==============================] - 0s 3ms/step - loss: 0.4134 - accuracy: 0.8032 - val_loss: 0.4271 - val_accuracy: 0.7956\n",
      "Epoch 44/100\n",
      "66/66 [==============================] - 0s 4ms/step - loss: 0.4133 - accuracy: 0.8044 - val_loss: 0.4259 - val_accuracy: 0.7947\n",
      "Epoch 45/100\n",
      "66/66 [==============================] - 0s 5ms/step - loss: 0.4131 - accuracy: 0.8020 - val_loss: 0.4259 - val_accuracy: 0.7947\n",
      "Epoch 46/100\n",
      "66/66 [==============================] - 0s 4ms/step - loss: 0.4129 - accuracy: 0.8027 - val_loss: 0.4266 - val_accuracy: 0.7947\n",
      "Epoch 47/100\n",
      "66/66 [==============================] - 0s 4ms/step - loss: 0.4129 - accuracy: 0.8027 - val_loss: 0.4263 - val_accuracy: 0.7956\n",
      "Epoch 48/100\n",
      "66/66 [==============================] - 0s 4ms/step - loss: 0.4128 - accuracy: 0.8025 - val_loss: 0.4271 - val_accuracy: 0.7947\n",
      "Epoch 49/100\n",
      "66/66 [==============================] - 0s 4ms/step - loss: 0.4126 - accuracy: 0.8048 - val_loss: 0.4262 - val_accuracy: 0.7956\n",
      "Epoch 50/100\n",
      "66/66 [==============================] - 0s 4ms/step - loss: 0.4126 - accuracy: 0.8022 - val_loss: 0.4269 - val_accuracy: 0.7928\n",
      "Epoch 51/100\n",
      "66/66 [==============================] - 0s 4ms/step - loss: 0.4124 - accuracy: 0.8027 - val_loss: 0.4269 - val_accuracy: 0.7947\n",
      "Epoch 52/100\n",
      "66/66 [==============================] - 0s 4ms/step - loss: 0.4124 - accuracy: 0.8032 - val_loss: 0.4269 - val_accuracy: 0.7937\n",
      "Epoch 53/100\n",
      "66/66 [==============================] - 0s 5ms/step - loss: 0.4122 - accuracy: 0.8029 - val_loss: 0.4267 - val_accuracy: 0.7947\n",
      "Epoch 54/100\n",
      "66/66 [==============================] - 0s 5ms/step - loss: 0.4121 - accuracy: 0.8029 - val_loss: 0.4262 - val_accuracy: 0.7947\n",
      "Epoch 55/100\n",
      "66/66 [==============================] - 0s 5ms/step - loss: 0.4122 - accuracy: 0.8039 - val_loss: 0.4264 - val_accuracy: 0.7947\n",
      "Epoch 56/100\n",
      "66/66 [==============================] - 0s 5ms/step - loss: 0.4118 - accuracy: 0.8029 - val_loss: 0.4267 - val_accuracy: 0.7956\n",
      "Epoch 57/100\n",
      "66/66 [==============================] - 0s 4ms/step - loss: 0.4120 - accuracy: 0.8041 - val_loss: 0.4274 - val_accuracy: 0.7937\n",
      "Epoch 58/100\n",
      "66/66 [==============================] - 0s 5ms/step - loss: 0.4118 - accuracy: 0.8036 - val_loss: 0.4272 - val_accuracy: 0.7937\n",
      "Epoch 59/100\n",
      "66/66 [==============================] - 0s 5ms/step - loss: 0.4116 - accuracy: 0.8044 - val_loss: 0.4274 - val_accuracy: 0.7937\n",
      "Epoch 60/100\n",
      "66/66 [==============================] - 0s 5ms/step - loss: 0.4117 - accuracy: 0.8036 - val_loss: 0.4274 - val_accuracy: 0.7937\n",
      "Epoch 61/100\n",
      "66/66 [==============================] - 0s 5ms/step - loss: 0.4115 - accuracy: 0.8029 - val_loss: 0.4272 - val_accuracy: 0.7937\n",
      "Epoch 62/100\n",
      "66/66 [==============================] - 0s 5ms/step - loss: 0.4113 - accuracy: 0.8041 - val_loss: 0.4272 - val_accuracy: 0.7947\n",
      "Epoch 63/100\n",
      "66/66 [==============================] - 0s 5ms/step - loss: 0.4115 - accuracy: 0.8027 - val_loss: 0.4269 - val_accuracy: 0.7956\n",
      "Epoch 64/100\n",
      "66/66 [==============================] - 0s 5ms/step - loss: 0.4113 - accuracy: 0.8032 - val_loss: 0.4270 - val_accuracy: 0.7956\n",
      "Epoch 65/100\n",
      "66/66 [==============================] - 0s 5ms/step - loss: 0.4113 - accuracy: 0.8025 - val_loss: 0.4279 - val_accuracy: 0.7937\n",
      "Epoch 66/100\n",
      "66/66 [==============================] - 0s 5ms/step - loss: 0.4113 - accuracy: 0.8032 - val_loss: 0.4272 - val_accuracy: 0.7956\n",
      "Epoch 67/100\n",
      "66/66 [==============================] - 0s 4ms/step - loss: 0.4112 - accuracy: 0.8034 - val_loss: 0.4271 - val_accuracy: 0.7956\n",
      "Epoch 68/100\n",
      "66/66 [==============================] - 0s 4ms/step - loss: 0.4112 - accuracy: 0.8034 - val_loss: 0.4274 - val_accuracy: 0.7947\n",
      "Epoch 69/100\n",
      "66/66 [==============================] - 0s 5ms/step - loss: 0.4111 - accuracy: 0.8048 - val_loss: 0.4278 - val_accuracy: 0.7947\n",
      "Epoch 70/100\n",
      "66/66 [==============================] - 0s 5ms/step - loss: 0.4111 - accuracy: 0.8034 - val_loss: 0.4282 - val_accuracy: 0.7956\n",
      "Epoch 71/100\n",
      "66/66 [==============================] - 0s 5ms/step - loss: 0.4110 - accuracy: 0.8041 - val_loss: 0.4280 - val_accuracy: 0.7947\n",
      "Epoch 72/100\n",
      "66/66 [==============================] - 0s 5ms/step - loss: 0.4109 - accuracy: 0.8048 - val_loss: 0.4284 - val_accuracy: 0.7947\n",
      "Epoch 73/100\n",
      "66/66 [==============================] - 0s 5ms/step - loss: 0.4109 - accuracy: 0.8044 - val_loss: 0.4276 - val_accuracy: 0.7966\n",
      "Epoch 74/100\n",
      "66/66 [==============================] - 0s 5ms/step - loss: 0.4107 - accuracy: 0.8036 - val_loss: 0.4282 - val_accuracy: 0.7947\n",
      "Epoch 75/100\n",
      "66/66 [==============================] - 0s 5ms/step - loss: 0.4108 - accuracy: 0.8041 - val_loss: 0.4280 - val_accuracy: 0.7947\n",
      "Epoch 76/100\n",
      "66/66 [==============================] - 0s 5ms/step - loss: 0.4106 - accuracy: 0.8044 - val_loss: 0.4283 - val_accuracy: 0.7956\n",
      "Epoch 77/100\n",
      "66/66 [==============================] - 0s 5ms/step - loss: 0.4107 - accuracy: 0.8055 - val_loss: 0.4287 - val_accuracy: 0.7947\n",
      "Epoch 78/100\n",
      "66/66 [==============================] - 0s 5ms/step - loss: 0.4106 - accuracy: 0.8032 - val_loss: 0.4282 - val_accuracy: 0.7956\n",
      "Epoch 79/100\n",
      "66/66 [==============================] - 0s 5ms/step - loss: 0.4107 - accuracy: 0.8034 - val_loss: 0.4286 - val_accuracy: 0.7937\n",
      "Epoch 80/100\n",
      "66/66 [==============================] - 0s 4ms/step - loss: 0.4109 - accuracy: 0.8039 - val_loss: 0.4277 - val_accuracy: 0.7956\n",
      "Epoch 81/100\n",
      "66/66 [==============================] - 0s 4ms/step - loss: 0.4105 - accuracy: 0.8029 - val_loss: 0.4287 - val_accuracy: 0.7956\n",
      "Epoch 82/100\n",
      "66/66 [==============================] - 0s 4ms/step - loss: 0.4104 - accuracy: 0.8046 - val_loss: 0.4284 - val_accuracy: 0.7975\n",
      "Epoch 83/100\n",
      "66/66 [==============================] - 0s 3ms/step - loss: 0.4105 - accuracy: 0.8032 - val_loss: 0.4284 - val_accuracy: 0.7956\n",
      "Epoch 84/100\n",
      "66/66 [==============================] - 0s 2ms/step - loss: 0.4107 - accuracy: 0.8027 - val_loss: 0.4287 - val_accuracy: 0.7966\n",
      "Epoch 85/100\n",
      "66/66 [==============================] - 0s 3ms/step - loss: 0.4106 - accuracy: 0.8041 - val_loss: 0.4289 - val_accuracy: 0.7956\n",
      "Epoch 86/100\n",
      "66/66 [==============================] - 0s 2ms/step - loss: 0.4104 - accuracy: 0.8041 - val_loss: 0.4291 - val_accuracy: 0.7956\n",
      "Epoch 87/100\n",
      "66/66 [==============================] - 0s 4ms/step - loss: 0.4104 - accuracy: 0.8039 - val_loss: 0.4291 - val_accuracy: 0.7966\n",
      "Epoch 88/100\n",
      "66/66 [==============================] - 0s 3ms/step - loss: 0.4104 - accuracy: 0.8029 - val_loss: 0.4288 - val_accuracy: 0.7956\n",
      "Epoch 89/100\n",
      "66/66 [==============================] - 0s 2ms/step - loss: 0.4102 - accuracy: 0.8032 - val_loss: 0.4280 - val_accuracy: 0.7947\n",
      "Epoch 90/100\n",
      "66/66 [==============================] - 0s 3ms/step - loss: 0.4102 - accuracy: 0.8041 - val_loss: 0.4291 - val_accuracy: 0.7947\n",
      "Epoch 91/100\n",
      "66/66 [==============================] - 0s 3ms/step - loss: 0.4101 - accuracy: 0.8022 - val_loss: 0.4287 - val_accuracy: 0.7956\n",
      "Epoch 92/100\n",
      "66/66 [==============================] - 0s 3ms/step - loss: 0.4100 - accuracy: 0.8029 - val_loss: 0.4291 - val_accuracy: 0.7947\n",
      "Epoch 93/100\n",
      "66/66 [==============================] - 0s 2ms/step - loss: 0.4100 - accuracy: 0.8029 - val_loss: 0.4292 - val_accuracy: 0.7975\n",
      "Epoch 94/100\n",
      "66/66 [==============================] - 0s 2ms/step - loss: 0.4102 - accuracy: 0.8027 - val_loss: 0.4290 - val_accuracy: 0.7947\n",
      "Epoch 95/100\n",
      "66/66 [==============================] - 0s 2ms/step - loss: 0.4099 - accuracy: 0.8034 - val_loss: 0.4294 - val_accuracy: 0.7956\n",
      "Epoch 96/100\n",
      "66/66 [==============================] - 0s 2ms/step - loss: 0.4099 - accuracy: 0.8027 - val_loss: 0.4292 - val_accuracy: 0.7966\n",
      "Epoch 97/100\n",
      "66/66 [==============================] - 0s 3ms/step - loss: 0.4099 - accuracy: 0.8041 - val_loss: 0.4298 - val_accuracy: 0.7956\n",
      "Epoch 98/100\n",
      "66/66 [==============================] - 0s 2ms/step - loss: 0.4100 - accuracy: 0.8036 - val_loss: 0.4295 - val_accuracy: 0.7956\n",
      "Epoch 99/100\n",
      "66/66 [==============================] - 0s 2ms/step - loss: 0.4099 - accuracy: 0.8041 - val_loss: 0.4296 - val_accuracy: 0.7956\n",
      "Epoch 100/100\n",
      "66/66 [==============================] - 0s 2ms/step - loss: 0.4101 - accuracy: 0.8041 - val_loss: 0.4297 - val_accuracy: 0.7918\n"
     ]
    }
   ],
   "source": [
    "#model1 architecture\n",
    "model3 = Sequential()\n",
    "model3.add(Dense(3, activation = 'relu',input_shape=(26,)))\n",
    "model3.add(Dense(1,activation = 'sigmoid'))\n",
    "\n",
    "model3.compile(loss = 'binary_crossentropy',\n",
    "              optimizer = 'adam',\n",
    "              metrics = ['accuracy'])\n",
    "\n",
    "history3 = model3.fit(train_dataset, epochs = 100, validation_data=(val_dataset))"
   ]
  },
  {
   "cell_type": "code",
   "execution_count": null,
   "metadata": {},
   "outputs": [
    {
     "name": "stdout",
     "output_type": "stream",
     "text": [
      "\n",
      "Test Evaluation\n",
      "28/28 [==============================] - 0s 1ms/step - loss: 0.4086 - accuracy: 0.8100\n",
      "Test - Loss     :  0.40864065289497375\n",
      "Test - Accuracy :  0.8100113868713379\n"
     ]
    }
   ],
   "source": [
    "print(\"\\nTest Evaluation\")\n",
    "result3 = model3.evaluate(test_dataset)\n",
    "print('Test - Loss     : ', result3[0])\n",
    "print('Test - Accuracy : ', result3[1])"
   ]
  },
  {
   "cell_type": "code",
   "execution_count": null,
   "metadata": {},
   "outputs": [
    {
     "data": {
      "text/html": [
       "<div>\n",
       "<style scoped>\n",
       "    .dataframe tbody tr th:only-of-type {\n",
       "        vertical-align: middle;\n",
       "    }\n",
       "\n",
       "    .dataframe tbody tr th {\n",
       "        vertical-align: top;\n",
       "    }\n",
       "\n",
       "    .dataframe thead th {\n",
       "        text-align: right;\n",
       "    }\n",
       "</style>\n",
       "<table border=\"1\" class=\"dataframe\">\n",
       "  <thead>\n",
       "    <tr style=\"text-align: right;\">\n",
       "      <th></th>\n",
       "      <th>loss</th>\n",
       "      <th>accuracy</th>\n",
       "      <th>val_loss</th>\n",
       "      <th>val_accuracy</th>\n",
       "    </tr>\n",
       "  </thead>\n",
       "  <tbody>\n",
       "    <tr>\n",
       "      <th>0</th>\n",
       "      <td>0.865132</td>\n",
       "      <td>0.556135</td>\n",
       "      <td>0.779591</td>\n",
       "      <td>0.596958</td>\n",
       "    </tr>\n",
       "    <tr>\n",
       "      <th>1</th>\n",
       "      <td>0.728388</td>\n",
       "      <td>0.627191</td>\n",
       "      <td>0.673441</td>\n",
       "      <td>0.661597</td>\n",
       "    </tr>\n",
       "    <tr>\n",
       "      <th>2</th>\n",
       "      <td>0.644021</td>\n",
       "      <td>0.680483</td>\n",
       "      <td>0.609449</td>\n",
       "      <td>0.697719</td>\n",
       "    </tr>\n",
       "    <tr>\n",
       "      <th>3</th>\n",
       "      <td>0.589202</td>\n",
       "      <td>0.712695</td>\n",
       "      <td>0.567601</td>\n",
       "      <td>0.713878</td>\n",
       "    </tr>\n",
       "    <tr>\n",
       "      <th>4</th>\n",
       "      <td>0.551576</td>\n",
       "      <td>0.729512</td>\n",
       "      <td>0.539104</td>\n",
       "      <td>0.721483</td>\n",
       "    </tr>\n",
       "  </tbody>\n",
       "</table>\n",
       "</div>"
      ],
      "text/plain": [
       "       loss  accuracy  val_loss  val_accuracy\n",
       "0  0.865132  0.556135  0.779591      0.596958\n",
       "1  0.728388  0.627191  0.673441      0.661597\n",
       "2  0.644021  0.680483  0.609449      0.697719\n",
       "3  0.589202  0.712695  0.567601      0.713878\n",
       "4  0.551576  0.729512  0.539104      0.721483"
      ]
     },
     "execution_count": 184,
     "metadata": {},
     "output_type": "execute_result"
    }
   ],
   "source": [
    "metrics3 = pd.DataFrame(history3.history)\n",
    "metrics3.head()"
   ]
  },
  {
   "cell_type": "code",
   "execution_count": null,
   "metadata": {},
   "outputs": [
    {
     "data": {
      "text/plain": [
       "<AxesSubplot:>"
      ]
     },
     "execution_count": 185,
     "metadata": {},
     "output_type": "execute_result"
    },
    {
     "data": {
      "image/png": "[encoded data removed]",
      "text/plain": [
       "<Figure size 432x288 with 1 Axes>"
      ]
     },
     "metadata": {
      "needs_background": "light"
     },
     "output_type": "display_data"
    }
   ],
   "source": [
    "metrics3[['loss','val_loss']].plot()"
   ]
  },
  {
   "cell_type": "markdown",
   "metadata": {},
   "source": [
    "Comparing to functional API model, this loss graphic shows the overfitting part are smaller than the functional model."
   ]
  },
  {
   "cell_type": "code",
   "execution_count": null,
   "metadata": {},
   "outputs": [
    {
     "data": {
      "text/plain": [
       "<AxesSubplot:>"
      ]
     },
     "execution_count": 186,
     "metadata": {},
     "output_type": "execute_result"
    },
    {
     "data": {
      "image/png": "[encoded data removed]",
      "text/plain": [
       "<Figure size 432x288 with 1 Axes>"
      ]
     },
     "metadata": {
      "needs_background": "light"
     },
     "output_type": "display_data"
    }
   ],
   "source": [
    "metrics3[['accuracy','val_accuracy']].plot()"
   ]
  },
  {
   "cell_type": "markdown",
   "metadata": {},
   "source": [
    "The accuracy from this model are not different from functional API model significantly. "
   ]
  },
  {
   "cell_type": "code",
   "execution_count": null,
   "metadata": {},
   "outputs": [
    {
     "name": "stdout",
     "output_type": "stream",
     "text": [
      "              precision    recall  f1-score   support\n",
      "\n",
      "           0       0.84      0.91      0.87      1279\n",
      "           1       0.69      0.54      0.61       479\n",
      "\n",
      "    accuracy                           0.81      1758\n",
      "   macro avg       0.77      0.73      0.74      1758\n",
      "weighted avg       0.80      0.81      0.80      1758\n",
      "\n"
     ]
    }
   ],
   "source": [
    "y_pred3 = model3.predict(test_dataset)\n",
    "y_pred3 = np.where(y_pred3>0.5,1,0)\n",
    "print(classification_report(y_test,y_pred3))"
   ]
  },
  {
   "cell_type": "markdown",
   "metadata": {},
   "source": [
    "The accuracy from this model is the same with functional API model."
   ]
  },
  {
   "cell_type": "markdown",
   "metadata": {},
   "source": [
    "## Improvement 2"
   ]
  },
  {
   "cell_type": "markdown",
   "metadata": {},
   "source": [
    "The second improvemen model I want to add the hidden layer and neuron."
   ]
  },
  {
   "cell_type": "code",
   "execution_count": null,
   "metadata": {},
   "outputs": [
    {
     "name": "stdout",
     "output_type": "stream",
     "text": [
      "Epoch 1/100\n",
      "66/66 [==============================] - 1s 4ms/step - loss: 0.6726 - accuracy: 0.5933 - val_loss: 0.6127 - val_accuracy: 0.7405\n",
      "Epoch 2/100\n",
      "66/66 [==============================] - 0s 3ms/step - loss: 0.5427 - accuracy: 0.7515 - val_loss: 0.4939 - val_accuracy: 0.7529\n",
      "Epoch 3/100\n",
      "66/66 [==============================] - 0s 2ms/step - loss: 0.4624 - accuracy: 0.7764 - val_loss: 0.4648 - val_accuracy: 0.7728\n",
      "Epoch 4/100\n",
      "66/66 [==============================] - 0s 4ms/step - loss: 0.4442 - accuracy: 0.7835 - val_loss: 0.4544 - val_accuracy: 0.7652\n",
      "Epoch 5/100\n",
      "66/66 [==============================] - 0s 3ms/step - loss: 0.4365 - accuracy: 0.7871 - val_loss: 0.4485 - val_accuracy: 0.7728\n",
      "Epoch 6/100\n",
      "66/66 [==============================] - 0s 3ms/step - loss: 0.4313 - accuracy: 0.7897 - val_loss: 0.4455 - val_accuracy: 0.7776\n",
      "Epoch 7/100\n",
      "66/66 [==============================] - 0s 3ms/step - loss: 0.4281 - accuracy: 0.7946 - val_loss: 0.4426 - val_accuracy: 0.7842\n",
      "Epoch 8/100\n",
      "66/66 [==============================] - 0s 2ms/step - loss: 0.4244 - accuracy: 0.7965 - val_loss: 0.4422 - val_accuracy: 0.7833\n",
      "Epoch 9/100\n",
      "66/66 [==============================] - 0s 2ms/step - loss: 0.4217 - accuracy: 0.7975 - val_loss: 0.4409 - val_accuracy: 0.7861\n",
      "Epoch 10/100\n",
      "66/66 [==============================] - 0s 2ms/step - loss: 0.4194 - accuracy: 0.8013 - val_loss: 0.4410 - val_accuracy: 0.7852\n",
      "Epoch 11/100\n",
      "66/66 [==============================] - 0s 4ms/step - loss: 0.4177 - accuracy: 0.8027 - val_loss: 0.4409 - val_accuracy: 0.7852\n",
      "Epoch 12/100\n",
      "66/66 [==============================] - 0s 2ms/step - loss: 0.4161 - accuracy: 0.8041 - val_loss: 0.4405 - val_accuracy: 0.7852\n",
      "Epoch 13/100\n",
      "66/66 [==============================] - 0s 2ms/step - loss: 0.4150 - accuracy: 0.8060 - val_loss: 0.4396 - val_accuracy: 0.7852\n",
      "Epoch 14/100\n",
      "66/66 [==============================] - 0s 2ms/step - loss: 0.4138 - accuracy: 0.8077 - val_loss: 0.4389 - val_accuracy: 0.7842\n",
      "Epoch 15/100\n",
      "66/66 [==============================] - 0s 2ms/step - loss: 0.4126 - accuracy: 0.8100 - val_loss: 0.4391 - val_accuracy: 0.7852\n",
      "Epoch 16/100\n",
      "66/66 [==============================] - 0s 2ms/step - loss: 0.4118 - accuracy: 0.8081 - val_loss: 0.4389 - val_accuracy: 0.7823\n",
      "Epoch 17/100\n",
      "66/66 [==============================] - 0s 2ms/step - loss: 0.4104 - accuracy: 0.8091 - val_loss: 0.4426 - val_accuracy: 0.7833\n",
      "Epoch 18/100\n",
      "66/66 [==============================] - 0s 2ms/step - loss: 0.4097 - accuracy: 0.8131 - val_loss: 0.4401 - val_accuracy: 0.7852\n",
      "Epoch 19/100\n",
      "66/66 [==============================] - 0s 2ms/step - loss: 0.4083 - accuracy: 0.8105 - val_loss: 0.4390 - val_accuracy: 0.7823\n",
      "Epoch 20/100\n",
      "66/66 [==============================] - 0s 2ms/step - loss: 0.4075 - accuracy: 0.8141 - val_loss: 0.4398 - val_accuracy: 0.7833\n",
      "Epoch 21/100\n",
      "66/66 [==============================] - 0s 2ms/step - loss: 0.4068 - accuracy: 0.8131 - val_loss: 0.4395 - val_accuracy: 0.7852\n",
      "Epoch 22/100\n",
      "66/66 [==============================] - 0s 3ms/step - loss: 0.4056 - accuracy: 0.8119 - val_loss: 0.4411 - val_accuracy: 0.7842\n",
      "Epoch 23/100\n",
      "66/66 [==============================] - 0s 3ms/step - loss: 0.4048 - accuracy: 0.8143 - val_loss: 0.4418 - val_accuracy: 0.7871\n",
      "Epoch 24/100\n",
      "66/66 [==============================] - 0s 3ms/step - loss: 0.4044 - accuracy: 0.8150 - val_loss: 0.4395 - val_accuracy: 0.7823\n",
      "Epoch 25/100\n",
      "66/66 [==============================] - 0s 4ms/step - loss: 0.4032 - accuracy: 0.8179 - val_loss: 0.4417 - val_accuracy: 0.7823\n",
      "Epoch 26/100\n",
      "66/66 [==============================] - 0s 3ms/step - loss: 0.4028 - accuracy: 0.8169 - val_loss: 0.4415 - val_accuracy: 0.7833\n",
      "Epoch 27/100\n",
      "66/66 [==============================] - 0s 4ms/step - loss: 0.4025 - accuracy: 0.8167 - val_loss: 0.4418 - val_accuracy: 0.7833\n",
      "Epoch 28/100\n",
      "66/66 [==============================] - 0s 3ms/step - loss: 0.4013 - accuracy: 0.8153 - val_loss: 0.4410 - val_accuracy: 0.7823\n",
      "Epoch 29/100\n",
      "66/66 [==============================] - 0s 4ms/step - loss: 0.4008 - accuracy: 0.8176 - val_loss: 0.4435 - val_accuracy: 0.7833\n",
      "Epoch 30/100\n",
      "66/66 [==============================] - 0s 2ms/step - loss: 0.4003 - accuracy: 0.8183 - val_loss: 0.4435 - val_accuracy: 0.7833\n",
      "Epoch 31/100\n",
      "66/66 [==============================] - 0s 2ms/step - loss: 0.4002 - accuracy: 0.8181 - val_loss: 0.4449 - val_accuracy: 0.7833\n",
      "Epoch 32/100\n",
      "66/66 [==============================] - 0s 4ms/step - loss: 0.3995 - accuracy: 0.8179 - val_loss: 0.4410 - val_accuracy: 0.7795\n",
      "Epoch 33/100\n",
      "66/66 [==============================] - 0s 5ms/step - loss: 0.3990 - accuracy: 0.8169 - val_loss: 0.4438 - val_accuracy: 0.7804\n",
      "Epoch 34/100\n",
      "66/66 [==============================] - 0s 4ms/step - loss: 0.3978 - accuracy: 0.8169 - val_loss: 0.4447 - val_accuracy: 0.7804\n",
      "Epoch 35/100\n",
      "66/66 [==============================] - 0s 3ms/step - loss: 0.3979 - accuracy: 0.8195 - val_loss: 0.4461 - val_accuracy: 0.7804\n",
      "Epoch 36/100\n",
      "66/66 [==============================] - 0s 2ms/step - loss: 0.3978 - accuracy: 0.8171 - val_loss: 0.4436 - val_accuracy: 0.7795\n",
      "Epoch 37/100\n",
      "66/66 [==============================] - 0s 3ms/step - loss: 0.3970 - accuracy: 0.8176 - val_loss: 0.4479 - val_accuracy: 0.7776\n",
      "Epoch 38/100\n",
      "66/66 [==============================] - 0s 2ms/step - loss: 0.3962 - accuracy: 0.8200 - val_loss: 0.4454 - val_accuracy: 0.7795\n",
      "Epoch 39/100\n",
      "66/66 [==============================] - 0s 3ms/step - loss: 0.3956 - accuracy: 0.8214 - val_loss: 0.4454 - val_accuracy: 0.7814\n",
      "Epoch 40/100\n",
      "66/66 [==============================] - 0s 2ms/step - loss: 0.3953 - accuracy: 0.8198 - val_loss: 0.4461 - val_accuracy: 0.7804\n",
      "Epoch 41/100\n",
      "66/66 [==============================] - 0s 3ms/step - loss: 0.3958 - accuracy: 0.8188 - val_loss: 0.4439 - val_accuracy: 0.7814\n",
      "Epoch 42/100\n",
      "66/66 [==============================] - 0s 3ms/step - loss: 0.3939 - accuracy: 0.8179 - val_loss: 0.4438 - val_accuracy: 0.7823\n",
      "Epoch 43/100\n",
      "66/66 [==============================] - 0s 3ms/step - loss: 0.3943 - accuracy: 0.8186 - val_loss: 0.4446 - val_accuracy: 0.7804\n",
      "Epoch 44/100\n",
      "66/66 [==============================] - 0s 4ms/step - loss: 0.3933 - accuracy: 0.8198 - val_loss: 0.4449 - val_accuracy: 0.7804\n",
      "Epoch 45/100\n",
      "66/66 [==============================] - 0s 4ms/step - loss: 0.3938 - accuracy: 0.8164 - val_loss: 0.4470 - val_accuracy: 0.7776\n",
      "Epoch 46/100\n",
      "66/66 [==============================] - 0s 4ms/step - loss: 0.3931 - accuracy: 0.8164 - val_loss: 0.4516 - val_accuracy: 0.7804\n",
      "Epoch 47/100\n",
      "66/66 [==============================] - 0s 3ms/step - loss: 0.3924 - accuracy: 0.8179 - val_loss: 0.4483 - val_accuracy: 0.7776\n",
      "Epoch 48/100\n",
      "66/66 [==============================] - 0s 3ms/step - loss: 0.3914 - accuracy: 0.8176 - val_loss: 0.4494 - val_accuracy: 0.7785\n",
      "Epoch 49/100\n",
      "66/66 [==============================] - 0s 3ms/step - loss: 0.3924 - accuracy: 0.8200 - val_loss: 0.4487 - val_accuracy: 0.7776\n",
      "Epoch 50/100\n",
      "66/66 [==============================] - 0s 3ms/step - loss: 0.3908 - accuracy: 0.8176 - val_loss: 0.4493 - val_accuracy: 0.7833\n",
      "Epoch 51/100\n",
      "66/66 [==============================] - 0s 3ms/step - loss: 0.3902 - accuracy: 0.8193 - val_loss: 0.4491 - val_accuracy: 0.7795\n",
      "Epoch 52/100\n",
      "66/66 [==============================] - 0s 4ms/step - loss: 0.3904 - accuracy: 0.8193 - val_loss: 0.4499 - val_accuracy: 0.7842\n",
      "Epoch 53/100\n",
      "66/66 [==============================] - 0s 4ms/step - loss: 0.3895 - accuracy: 0.8186 - val_loss: 0.4505 - val_accuracy: 0.7814\n",
      "Epoch 54/100\n",
      "66/66 [==============================] - 0s 3ms/step - loss: 0.3895 - accuracy: 0.8169 - val_loss: 0.4481 - val_accuracy: 0.7833\n",
      "Epoch 55/100\n",
      "66/66 [==============================] - 0s 3ms/step - loss: 0.3879 - accuracy: 0.8219 - val_loss: 0.4516 - val_accuracy: 0.7814\n",
      "Epoch 56/100\n",
      "66/66 [==============================] - 0s 3ms/step - loss: 0.3885 - accuracy: 0.8195 - val_loss: 0.4527 - val_accuracy: 0.7842\n",
      "Epoch 57/100\n",
      "66/66 [==============================] - 0s 3ms/step - loss: 0.3881 - accuracy: 0.8174 - val_loss: 0.4509 - val_accuracy: 0.7833\n",
      "Epoch 58/100\n",
      "66/66 [==============================] - 0s 3ms/step - loss: 0.3879 - accuracy: 0.8183 - val_loss: 0.4519 - val_accuracy: 0.7833\n",
      "Epoch 59/100\n",
      "66/66 [==============================] - 0s 3ms/step - loss: 0.3867 - accuracy: 0.8193 - val_loss: 0.4503 - val_accuracy: 0.7842\n",
      "Epoch 60/100\n",
      "66/66 [==============================] - 0s 4ms/step - loss: 0.3866 - accuracy: 0.8219 - val_loss: 0.4541 - val_accuracy: 0.7842\n",
      "Epoch 61/100\n",
      "66/66 [==============================] - 0s 3ms/step - loss: 0.3857 - accuracy: 0.8181 - val_loss: 0.4525 - val_accuracy: 0.7852\n",
      "Epoch 62/100\n",
      "66/66 [==============================] - 0s 3ms/step - loss: 0.3850 - accuracy: 0.8224 - val_loss: 0.4515 - val_accuracy: 0.7852\n",
      "Epoch 63/100\n",
      "66/66 [==============================] - 0s 3ms/step - loss: 0.3844 - accuracy: 0.8200 - val_loss: 0.4541 - val_accuracy: 0.7785\n",
      "Epoch 64/100\n",
      "66/66 [==============================] - 0s 2ms/step - loss: 0.3847 - accuracy: 0.8228 - val_loss: 0.4516 - val_accuracy: 0.7823\n",
      "Epoch 65/100\n",
      "66/66 [==============================] - 0s 3ms/step - loss: 0.3836 - accuracy: 0.8209 - val_loss: 0.4541 - val_accuracy: 0.7804\n",
      "Epoch 66/100\n",
      "66/66 [==============================] - 0s 2ms/step - loss: 0.3838 - accuracy: 0.8212 - val_loss: 0.4534 - val_accuracy: 0.7823\n",
      "Epoch 67/100\n",
      "66/66 [==============================] - 0s 3ms/step - loss: 0.3829 - accuracy: 0.8238 - val_loss: 0.4550 - val_accuracy: 0.7833\n",
      "Epoch 68/100\n",
      "66/66 [==============================] - 0s 3ms/step - loss: 0.3844 - accuracy: 0.8214 - val_loss: 0.4583 - val_accuracy: 0.7785\n",
      "Epoch 69/100\n",
      "66/66 [==============================] - 0s 3ms/step - loss: 0.3826 - accuracy: 0.8221 - val_loss: 0.4571 - val_accuracy: 0.7823\n",
      "Epoch 70/100\n",
      "66/66 [==============================] - 0s 2ms/step - loss: 0.3828 - accuracy: 0.8202 - val_loss: 0.4550 - val_accuracy: 0.7719\n",
      "Epoch 71/100\n",
      "66/66 [==============================] - 0s 3ms/step - loss: 0.3815 - accuracy: 0.8212 - val_loss: 0.4548 - val_accuracy: 0.7785\n",
      "Epoch 72/100\n",
      "66/66 [==============================] - 0s 2ms/step - loss: 0.3813 - accuracy: 0.8240 - val_loss: 0.4589 - val_accuracy: 0.7823\n",
      "Epoch 73/100\n",
      "66/66 [==============================] - 0s 2ms/step - loss: 0.3805 - accuracy: 0.8235 - val_loss: 0.4564 - val_accuracy: 0.7747\n",
      "Epoch 74/100\n",
      "66/66 [==============================] - 0s 3ms/step - loss: 0.3805 - accuracy: 0.8228 - val_loss: 0.4610 - val_accuracy: 0.7776\n",
      "Epoch 75/100\n",
      "66/66 [==============================] - 0s 2ms/step - loss: 0.3796 - accuracy: 0.8219 - val_loss: 0.4573 - val_accuracy: 0.7776\n",
      "Epoch 76/100\n",
      "66/66 [==============================] - 0s 3ms/step - loss: 0.3787 - accuracy: 0.8238 - val_loss: 0.4611 - val_accuracy: 0.7795\n",
      "Epoch 77/100\n",
      "66/66 [==============================] - 0s 3ms/step - loss: 0.3792 - accuracy: 0.8226 - val_loss: 0.4582 - val_accuracy: 0.7643\n",
      "Epoch 78/100\n",
      "66/66 [==============================] - 0s 2ms/step - loss: 0.3784 - accuracy: 0.8233 - val_loss: 0.4568 - val_accuracy: 0.7671\n",
      "Epoch 79/100\n",
      "66/66 [==============================] - 0s 4ms/step - loss: 0.3778 - accuracy: 0.8252 - val_loss: 0.4606 - val_accuracy: 0.7757\n",
      "Epoch 80/100\n",
      "66/66 [==============================] - 0s 3ms/step - loss: 0.3792 - accuracy: 0.8209 - val_loss: 0.4604 - val_accuracy: 0.7766\n",
      "Epoch 81/100\n",
      "66/66 [==============================] - 0s 2ms/step - loss: 0.3778 - accuracy: 0.8250 - val_loss: 0.4618 - val_accuracy: 0.7785\n",
      "Epoch 82/100\n",
      "66/66 [==============================] - 0s 3ms/step - loss: 0.3771 - accuracy: 0.8231 - val_loss: 0.4638 - val_accuracy: 0.7795\n",
      "Epoch 83/100\n",
      "66/66 [==============================] - 0s 3ms/step - loss: 0.3777 - accuracy: 0.8200 - val_loss: 0.4636 - val_accuracy: 0.7757\n",
      "Epoch 84/100\n",
      "66/66 [==============================] - 0s 3ms/step - loss: 0.3777 - accuracy: 0.8257 - val_loss: 0.4706 - val_accuracy: 0.7804\n",
      "Epoch 85/100\n",
      "66/66 [==============================] - 0s 2ms/step - loss: 0.3765 - accuracy: 0.8209 - val_loss: 0.4629 - val_accuracy: 0.7719\n",
      "Epoch 86/100\n",
      "66/66 [==============================] - 0s 3ms/step - loss: 0.3759 - accuracy: 0.8247 - val_loss: 0.4645 - val_accuracy: 0.7719\n",
      "Epoch 87/100\n",
      "66/66 [==============================] - 0s 3ms/step - loss: 0.3756 - accuracy: 0.8243 - val_loss: 0.4629 - val_accuracy: 0.7652\n",
      "Epoch 88/100\n",
      "66/66 [==============================] - 0s 6ms/step - loss: 0.3758 - accuracy: 0.8261 - val_loss: 0.4668 - val_accuracy: 0.7738\n",
      "Epoch 89/100\n",
      "66/66 [==============================] - 0s 4ms/step - loss: 0.3754 - accuracy: 0.8285 - val_loss: 0.4644 - val_accuracy: 0.7690\n",
      "Epoch 90/100\n",
      "66/66 [==============================] - 0s 3ms/step - loss: 0.3753 - accuracy: 0.8261 - val_loss: 0.4643 - val_accuracy: 0.7662\n",
      "Epoch 91/100\n",
      "66/66 [==============================] - 0s 5ms/step - loss: 0.3742 - accuracy: 0.8280 - val_loss: 0.4660 - val_accuracy: 0.7709\n",
      "Epoch 92/100\n",
      "66/66 [==============================] - 0s 4ms/step - loss: 0.3742 - accuracy: 0.8302 - val_loss: 0.4727 - val_accuracy: 0.7785\n",
      "Epoch 93/100\n",
      "66/66 [==============================] - 0s 3ms/step - loss: 0.3743 - accuracy: 0.8297 - val_loss: 0.4634 - val_accuracy: 0.7624\n",
      "Epoch 94/100\n",
      "66/66 [==============================] - 0s 2ms/step - loss: 0.3735 - accuracy: 0.8297 - val_loss: 0.4649 - val_accuracy: 0.7690\n",
      "Epoch 95/100\n",
      "66/66 [==============================] - 0s 2ms/step - loss: 0.3733 - accuracy: 0.8295 - val_loss: 0.4658 - val_accuracy: 0.7719\n",
      "Epoch 96/100\n",
      "66/66 [==============================] - 0s 3ms/step - loss: 0.3731 - accuracy: 0.8278 - val_loss: 0.4657 - val_accuracy: 0.7681\n",
      "Epoch 97/100\n",
      "66/66 [==============================] - 0s 3ms/step - loss: 0.3722 - accuracy: 0.8257 - val_loss: 0.4660 - val_accuracy: 0.7643\n",
      "Epoch 98/100\n",
      "66/66 [==============================] - 0s 2ms/step - loss: 0.3727 - accuracy: 0.8261 - val_loss: 0.4653 - val_accuracy: 0.7652\n",
      "Epoch 99/100\n",
      "66/66 [==============================] - 0s 2ms/step - loss: 0.3718 - accuracy: 0.8295 - val_loss: 0.4662 - val_accuracy: 0.7624\n",
      "Epoch 100/100\n",
      "66/66 [==============================] - 0s 2ms/step - loss: 0.3722 - accuracy: 0.8297 - val_loss: 0.4686 - val_accuracy: 0.7671\n"
     ]
    }
   ],
   "source": [
    "model4 = Sequential()\n",
    "model4.add(Dense(10, activation = 'relu',input_shape=(26,)))\n",
    "model4.add(Dense(9,activation='relu'))\n",
    "model4.add(Dense(8,activation='relu'))\n",
    "model4.add(Dense(4,activation='relu'))\n",
    "model4.add(Dense(1,activation = 'sigmoid'))\n",
    "\n",
    "model4.compile(loss = 'binary_crossentropy',\n",
    "              optimizer = 'adam',\n",
    "              metrics = ['accuracy'])\n",
    "\n",
    "history4 = model4.fit(train_dataset, epochs = 100, validation_data=(val_dataset))"
   ]
  },
  {
   "cell_type": "code",
   "execution_count": null,
   "metadata": {},
   "outputs": [
    {
     "data": {
      "text/html": [
       "<div>\n",
       "<style scoped>\n",
       "    .dataframe tbody tr th:only-of-type {\n",
       "        vertical-align: middle;\n",
       "    }\n",
       "\n",
       "    .dataframe tbody tr th {\n",
       "        vertical-align: top;\n",
       "    }\n",
       "\n",
       "    .dataframe thead th {\n",
       "        text-align: right;\n",
       "    }\n",
       "</style>\n",
       "<table border=\"1\" class=\"dataframe\">\n",
       "  <thead>\n",
       "    <tr style=\"text-align: right;\">\n",
       "      <th></th>\n",
       "      <th>loss</th>\n",
       "      <th>accuracy</th>\n",
       "      <th>val_loss</th>\n",
       "      <th>val_accuracy</th>\n",
       "    </tr>\n",
       "  </thead>\n",
       "  <tbody>\n",
       "    <tr>\n",
       "      <th>0</th>\n",
       "      <td>0.672560</td>\n",
       "      <td>0.593321</td>\n",
       "      <td>0.612697</td>\n",
       "      <td>0.740494</td>\n",
       "    </tr>\n",
       "    <tr>\n",
       "      <th>1</th>\n",
       "      <td>0.542735</td>\n",
       "      <td>0.751540</td>\n",
       "      <td>0.493853</td>\n",
       "      <td>0.752852</td>\n",
       "    </tr>\n",
       "    <tr>\n",
       "      <th>2</th>\n",
       "      <td>0.462350</td>\n",
       "      <td>0.776409</td>\n",
       "      <td>0.464830</td>\n",
       "      <td>0.772814</td>\n",
       "    </tr>\n",
       "    <tr>\n",
       "      <th>3</th>\n",
       "      <td>0.444199</td>\n",
       "      <td>0.783515</td>\n",
       "      <td>0.454381</td>\n",
       "      <td>0.765209</td>\n",
       "    </tr>\n",
       "    <tr>\n",
       "      <th>4</th>\n",
       "      <td>0.436465</td>\n",
       "      <td>0.787068</td>\n",
       "      <td>0.448492</td>\n",
       "      <td>0.772814</td>\n",
       "    </tr>\n",
       "  </tbody>\n",
       "</table>\n",
       "</div>"
      ],
      "text/plain": [
       "       loss  accuracy  val_loss  val_accuracy\n",
       "0  0.672560  0.593321  0.612697      0.740494\n",
       "1  0.542735  0.751540  0.493853      0.752852\n",
       "2  0.462350  0.776409  0.464830      0.772814\n",
       "3  0.444199  0.783515  0.454381      0.765209\n",
       "4  0.436465  0.787068  0.448492      0.772814"
      ]
     },
     "execution_count": 198,
     "metadata": {},
     "output_type": "execute_result"
    }
   ],
   "source": [
    "metrics4 = pd.DataFrame(history4.history)\n",
    "metrics4.head()"
   ]
  },
  {
   "cell_type": "code",
   "execution_count": null,
   "metadata": {},
   "outputs": [
    {
     "data": {
      "text/plain": [
       "<AxesSubplot:>"
      ]
     },
     "execution_count": 199,
     "metadata": {},
     "output_type": "execute_result"
    },
    {
     "data": {
      "image/png": "[encoded data removed]",
      "text/plain": [
       "<Figure size 432x288 with 1 Axes>"
      ]
     },
     "metadata": {
      "needs_background": "light"
     },
     "output_type": "display_data"
    }
   ],
   "source": [
    "metrics4[['loss','val_loss']].plot()"
   ]
  },
  {
   "cell_type": "markdown",
   "metadata": {},
   "source": [
    "The result of this model are the most overfit model than other."
   ]
  },
  {
   "cell_type": "code",
   "execution_count": null,
   "metadata": {},
   "outputs": [
    {
     "data": {
      "text/plain": [
       "<AxesSubplot:>"
      ]
     },
     "execution_count": 200,
     "metadata": {},
     "output_type": "execute_result"
    },
    {
     "data": {
      "image/png": "[encoded data removed]",
      "text/plain": [
       "<Figure size 432x288 with 1 Axes>"
      ]
     },
     "metadata": {
      "needs_background": "light"
     },
     "output_type": "display_data"
    }
   ],
   "source": [
    "metrics4[['accuracy','val_accuracy']].plot()"
   ]
  },
  {
   "cell_type": "markdown",
   "metadata": {},
   "source": [
    "The accuracy is not good either, the overfit the worse performa among other models. More hidden layers mean the learning of the model are deep or usually mentioned as deep learning/ deep neural network. In fact, this model is too poowerful to predict this case that by only one layer (or single ANN) the model is already good enough to make predictions."
   ]
  },
  {
   "cell_type": "markdown",
   "metadata": {},
   "source": [
    "# Model Saving\n",
    "\n",
    "First, I need to save pipeline preprocessing first. The best model I get is model3 where this is an improvement from the baseline model."
   ]
  },
  {
   "cell_type": "code",
   "execution_count": null,
   "metadata": {},
   "outputs": [],
   "source": [
    "with open('prep.pkl','wb') as f:\n",
    "    pickle.dump(pipe_prep, f)"
   ]
  },
  {
   "cell_type": "code",
   "execution_count": null,
   "metadata": {},
   "outputs": [],
   "source": [
    "model3.save('model.h5')"
   ]
  },
  {
   "cell_type": "code",
   "execution_count": null,
   "metadata": {},
   "outputs": [
    {
     "data": {
      "text/plain": [
       "array([[0.24341798],\n",
       "       [0.41772985],\n",
       "       [0.24546143],\n",
       "       ...,\n",
       "       [0.28168637],\n",
       "       [0.1725063 ],\n",
       "       [0.20239112]], dtype=float32)"
      ]
     },
     "execution_count": 189,
     "metadata": {},
     "output_type": "execute_result"
    }
   ],
   "source": [
    "#load model\n",
    "modelsave = load_model('model.h5')\n",
    "modelsave.predict(train_dataset)"
   ]
  },
  {
   "cell_type": "markdown",
   "metadata": {},
   "source": [
    "# Model Inference"
   ]
  },
  {
   "cell_type": "markdown",
   "metadata": {},
   "source": [
    "Let's try to predict a new data with the best model that I get."
   ]
  },
  {
   "cell_type": "code",
   "execution_count": null,
   "metadata": {},
   "outputs": [],
   "source": [
    "new = [1,0,1,3,12,1,1,'DSL',0,0,1,0,0,1,'Two year',1,'Bank transfer (automatic)',80.4,1234.5]"
   ]
  },
  {
   "cell_type": "code",
   "execution_count": null,
   "metadata": {},
   "outputs": [
    {
     "data": {
      "text/html": [
       "<div>\n",
       "<style scoped>\n",
       "    .dataframe tbody tr th:only-of-type {\n",
       "        vertical-align: middle;\n",
       "    }\n",
       "\n",
       "    .dataframe tbody tr th {\n",
       "        vertical-align: top;\n",
       "    }\n",
       "\n",
       "    .dataframe thead th {\n",
       "        text-align: right;\n",
       "    }\n",
       "</style>\n",
       "<table border=\"1\" class=\"dataframe\">\n",
       "  <thead>\n",
       "    <tr style=\"text-align: right;\">\n",
       "      <th></th>\n",
       "      <th>gender</th>\n",
       "      <th>SeniorCitizen</th>\n",
       "      <th>Partner</th>\n",
       "      <th>Dependents</th>\n",
       "      <th>tenure</th>\n",
       "      <th>PhoneService</th>\n",
       "      <th>MultipleLines</th>\n",
       "      <th>InternetService</th>\n",
       "      <th>OnlineSecurity</th>\n",
       "      <th>OnlineBackup</th>\n",
       "      <th>DeviceProtection</th>\n",
       "      <th>TechSupport</th>\n",
       "      <th>StreamingTV</th>\n",
       "      <th>StreamingMovies</th>\n",
       "      <th>Contract</th>\n",
       "      <th>PaperlessBilling</th>\n",
       "      <th>PaymentMethod</th>\n",
       "      <th>MonthlyCharges</th>\n",
       "      <th>TotalCharges</th>\n",
       "    </tr>\n",
       "  </thead>\n",
       "  <tbody>\n",
       "    <tr>\n",
       "      <th>0</th>\n",
       "      <td>1</td>\n",
       "      <td>0</td>\n",
       "      <td>1</td>\n",
       "      <td>3</td>\n",
       "      <td>12</td>\n",
       "      <td>1</td>\n",
       "      <td>1</td>\n",
       "      <td>DSL</td>\n",
       "      <td>0</td>\n",
       "      <td>0</td>\n",
       "      <td>1</td>\n",
       "      <td>0</td>\n",
       "      <td>0</td>\n",
       "      <td>1</td>\n",
       "      <td>Two year</td>\n",
       "      <td>1</td>\n",
       "      <td>Bank transfer (automatic)</td>\n",
       "      <td>80.4</td>\n",
       "      <td>1234.5</td>\n",
       "    </tr>\n",
       "  </tbody>\n",
       "</table>\n",
       "</div>"
      ],
      "text/plain": [
       "   gender  SeniorCitizen  Partner  Dependents  tenure  PhoneService  \\\n",
       "0       1              0        1           3      12             1   \n",
       "\n",
       "   MultipleLines InternetService  OnlineSecurity  OnlineBackup  \\\n",
       "0              1             DSL               0             0   \n",
       "\n",
       "   DeviceProtection  TechSupport  StreamingTV  StreamingMovies  Contract  \\\n",
       "0                 1            0            0                1  Two year   \n",
       "\n",
       "   PaperlessBilling              PaymentMethod  MonthlyCharges  TotalCharges  \n",
       "0                 1  Bank transfer (automatic)            80.4        1234.5  "
      ]
     },
     "execution_count": 172,
     "metadata": {},
     "output_type": "execute_result"
    }
   ],
   "source": [
    "new_data = pd.DataFrame([new],columns=X_train.columns)\n",
    "new_data"
   ]
  },
  {
   "cell_type": "code",
   "execution_count": null,
   "metadata": {},
   "outputs": [
    {
     "data": {
      "text/plain": [
       "array([[0]])"
      ]
     },
     "execution_count": 191,
     "metadata": {},
     "output_type": "execute_result"
    }
   ],
   "source": [
    "new_scale = pipe_prep.transform(new_data)\n",
    "inf = model3.predict(new_scale)\n",
    "inf = np.where(inf>0.5,1,0)\n",
    "inf"
   ]
  },
  {
   "cell_type": "markdown",
   "metadata": {},
   "source": [
    "The prediction of the new data is 0 it means the customer will stay."
   ]
  },
  {
   "cell_type": "markdown",
   "metadata": {},
   "source": [
    "# Conclusion"
   ]
  },
  {
   "cell_type": "markdown",
   "metadata": {},
   "source": [
    "Churn customer is an important factor that every company needs to do more research of how they can lose customer, how to make them stay, and how to gain their loyalty to the company. The model that I made, will help to predict if the customer will churn or stay. After analyze the dataset from Telco company, I have some insight:\n",
    "\n",
    "1. Churn customers in Telco are minority if compare to the customer who stay.\n",
    "2. Churn customer has low monthly Charges than the customer who stay.\n",
    "\n",
    "The model that I use to predict the churn customer is Artificial Neural Network. Before building the model, I preprocessed the features and the target with standard scaler and one hot encoding that I put them in pipeline preprocessing. After that, I make pipeline tensorflow to be more efficient in memory usage.\n",
    "For the model, I made sequential and functional model. In conclusion I made 4 models:\n",
    "1. Sequential baseline model (1 hidden layer with 4 neuron)\n",
    "2. Functional API model (1 hidden layer with 4 neuron)\n",
    "3. Improvement Sequential model (1 hidden layer with 3 neuron)\n",
    "4. Improvement Sequential model (4 hidden layer with 10,9,8,4 neuron)\n",
    "\n",
    "the best model that I get is the third model, which is good fitting and has 0.81 accuracy.\n",
    "The best model will be use to make the backend application along with the pipeline preprocessing."
   ]
  }
 ],
 "metadata": {
  "interpreter": {
   "hash": "7d04c2ccdc77879c44c0e38a475c5c944666b751d27f26244a0b0bd35fcecd56"
  },
  "kernelspec": {
   "display_name": "Python 3.10.3 64-bit",
   "language": "python",
   "name": "python3"
  },
  "language_info": {
   "codemirror_mode": {
    "name": "ipython",
    "version": 3
   },
   "file_extension": ".py",
   "mimetype": "text/x-python",
   "name": "python",
   "nbconvert_exporter": "python",
   "pygments_lexer": "ipython3",
   "version": "3.10.3"
  },
  "orig_nbformat": 4
 },
 "nbformat": 4,
 "nbformat_minor": 2
}
